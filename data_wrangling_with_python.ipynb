{
 "cells": [
  {
   "cell_type": "markdown",
   "id": "35f299a3",
   "metadata": {
    "pycharm": {
     "name": "#%% md\n"
    }
   },
   "source": [
    "### learn pandas by doing random exercises"
   ]
  },
  {
   "cell_type": "code",
   "execution_count": 3,
   "id": "771499a6",
   "metadata": {
    "pycharm": {
     "name": "#%%\n"
    }
   },
   "outputs": [],
   "source": [
    "# clears all the variable values previously set\n",
    "# from IPython import get_ipython\n",
    "# get_ipython().magic(\"reset -sf\")"
   ]
  },
  {
   "cell_type": "code",
   "execution_count": 4,
   "id": "aff9ba85",
   "metadata": {
    "pycharm": {
     "name": "#%%\n"
    }
   },
   "outputs": [],
   "source": [
    "# numpy is good for multidimensional arrays and much more.\n",
    "import numpy as np\n",
    "# pandas is used for data manipulation and analysis\n",
    "import pandas as pd\n",
    "\n",
    "#from pandas_datareader import data as web #reads stock data\n",
    "import matplotlib.pyplot as plt # plotting\n",
    "import matplotlib.dates as mdates # styling dates\n",
    "from toolz.utils import raises\n",
    "%matplotlib notebook\n",
    "\n",
    "import warnings\n",
    "warnings.simplefilter(\"ignore\")"
   ]
  },
  {
   "cell_type": "markdown",
   "id": "eba1196a",
   "metadata": {
    "pycharm": {
     "name": "#%% md\n"
    }
   },
   "source": [
    "## Numpy stuff"
   ]
  },
  {
   "cell_type": "code",
   "execution_count": 5,
   "id": "bf7e0d42",
   "metadata": {
    "pycharm": {
     "name": "#%%\n"
    }
   },
   "outputs": [
    {
     "data": {
      "text/plain": "numpy.ndarray"
     },
     "execution_count": 5,
     "metadata": {},
     "output_type": "execute_result"
    }
   ],
   "source": [
    "# arrays and stuff\n",
    "just_a_list = [1,2,3,4]\n",
    "nparray = np.array(just_a_list) # convert the list to a numpy array\n",
    "nparray\n",
    "type(nparray) # returns np.ndarray -> nd stands for n-dimensional"
   ]
  },
  {
   "cell_type": "markdown",
   "id": "5ec667b8",
   "metadata": {
    "pycharm": {
     "name": "#%% md\n"
    }
   },
   "source": [
    "### array in range"
   ]
  },
  {
   "cell_type": "code",
   "execution_count": 6,
   "id": "f172e03c",
   "metadata": {
    "pycharm": {
     "name": "#%%\n"
    }
   },
   "outputs": [
    {
     "data": {
      "text/plain": "array([0, 1, 2, 3, 4])"
     },
     "execution_count": 6,
     "metadata": {},
     "output_type": "execute_result"
    }
   ],
   "source": [
    "# create array from 0 to 4\n",
    "nparray1 = np.arange(0,5)  # start, stop\n",
    "nparray1"
   ]
  },
  {
   "cell_type": "code",
   "execution_count": 7,
   "id": "122c83f4",
   "metadata": {
    "pycharm": {
     "name": "#%%\n"
    }
   },
   "outputs": [
    {
     "data": {
      "text/plain": "array([ 0,  2,  4,  6,  8, 10])"
     },
     "execution_count": 7,
     "metadata": {},
     "output_type": "execute_result"
    }
   ],
   "source": [
    "# define a step\n",
    "nparray3 = np.arange(0,11,2) ## start, stop, step\n",
    "nparray3"
   ]
  },
  {
   "cell_type": "markdown",
   "id": "96b2836b",
   "metadata": {
    "pycharm": {
     "name": "#%% md\n"
    }
   },
   "source": [
    "### Matrices (or fancy name for 3D arrays, I guess?)"
   ]
  },
  {
   "cell_type": "code",
   "execution_count": 8,
   "id": "8cca46f7",
   "metadata": {
    "pycharm": {
     "name": "#%%\n"
    }
   },
   "outputs": [
    {
     "data": {
      "text/plain": "array([[0., 0., 0.],\n       [0., 0., 0.],\n       [0., 0., 0.],\n       [0., 0., 0.]])"
     },
     "execution_count": 8,
     "metadata": {},
     "output_type": "execute_result"
    }
   ],
   "source": [
    "# create a 4 row matrix with 3 columns with all having the same value\n",
    "matrice1 = np.zeros((4,3)) # fills the matrix in this order rows, columns\n",
    "matrice1"
   ]
  },
  {
   "cell_type": "markdown",
   "id": "2b4ab837",
   "metadata": {
    "pycharm": {
     "name": "#%% md\n"
    }
   },
   "source": [
    "### random matrices"
   ]
  },
  {
   "cell_type": "code",
   "execution_count": 9,
   "id": "7d8708f8",
   "metadata": {
    "pycharm": {
     "name": "#%%\n"
    }
   },
   "outputs": [
    {
     "data": {
      "text/plain": "array([[10,  5,  6],\n       [10,  3,  5],\n       [ 6,  9,  4],\n       [ 0, 11,  5]])"
     },
     "execution_count": 9,
     "metadata": {},
     "output_type": "execute_result"
    }
   ],
   "source": [
    "# random values between 0 and 13 as a matrix with 4 rows and 3 columns\n",
    "matrice2 = np.random.randint(0,13,(4,3)) # (value-range start,end,(row,column))\n",
    "matrice2"
   ]
  },
  {
   "cell_type": "markdown",
   "id": "f07be634",
   "metadata": {
    "pycharm": {
     "name": "#%% md\n"
    }
   },
   "source": [
    "### generate defined number of values in range"
   ]
  },
  {
   "cell_type": "code",
   "execution_count": 10,
   "id": "6739ad87",
   "metadata": {
    "pycharm": {
     "name": "#%%\n"
    }
   },
   "outputs": [
    {
     "name": "stdout",
     "output_type": "stream",
     "text": [
      "[ 1.    3.25  5.5   7.75 10.  ] \n",
      " [100.  75.  50.  25.   0.]\n",
      "\n",
      "\n",
      "[ 1.    3.25  5.5   7.75 10.  ] \n",
      " [100.  75.  50.  25.   0.]\n"
     ]
    }
   ],
   "source": [
    "# generate 10 equally distanced values between 1 and 10\n",
    "matrice3 = np.linspace(1,10,5) # good when I wannt to divide 100 in 15 chunks\n",
    "matrice3_1 = np.linspace(1,10,5)\n",
    "matrice3_1 = np.linspace(100,0,5)\n",
    "print(matrice3, \"\\n\", matrice3_1)\n",
    "print(\"\\n\")\n",
    "print(matrice3, \"\\n\", matrice3_1)"
   ]
  },
  {
   "cell_type": "markdown",
   "id": "2043087c",
   "metadata": {
    "pycharm": {
     "name": "#%% md\n"
    }
   },
   "source": [
    "### reshape arrays"
   ]
  },
  {
   "cell_type": "code",
   "execution_count": 11,
   "id": "8c1619b9",
   "metadata": {
    "pycharm": {
     "name": "#%%\n"
    }
   },
   "outputs": [
    {
     "data": {
      "text/plain": "array([ 9, 15, 45,  7, 31, 25, 23, 23, 12,  0, 22, 14])"
     },
     "execution_count": 11,
     "metadata": {},
     "output_type": "execute_result"
    }
   ],
   "source": [
    "# create array with 12 values\n",
    "matrice4 = np.random.randint(0,50,12)\n",
    "matrice4"
   ]
  },
  {
   "cell_type": "code",
   "execution_count": 12,
   "id": "713ca408",
   "metadata": {
    "pycharm": {
     "name": "#%%\n"
    }
   },
   "outputs": [
    {
     "data": {
      "text/plain": "array([[10,  5,  6, 10],\n       [ 3,  5,  6,  9],\n       [ 4,  0, 11,  5]])"
     },
     "execution_count": 12,
     "metadata": {},
     "output_type": "execute_result"
    }
   ],
   "source": [
    "# reshape to a 3 row 4 column array\n",
    "matrice5 = matrice2.reshape(3,4) # var_new = var_call.reshape(row,col)\n",
    "matrice5"
   ]
  },
  {
   "cell_type": "code",
   "execution_count": 13,
   "id": "022d6e09",
   "metadata": {
    "pycharm": {
     "name": "#%%\n"
    }
   },
   "outputs": [
    {
     "data": {
      "text/plain": "array([[[10,  5],\n        [ 6, 10]],\n\n       [[ 3,  5],\n        [ 6,  9]],\n\n       [[ 4,  0],\n        [11,  5]]])"
     },
     "execution_count": 13,
     "metadata": {},
     "output_type": "execute_result"
    }
   ],
   "source": [
    "# reshape into a 3d arraw with 3 blocks, 2 rows, 2 columns\n",
    "# reshape differently, 2 blocks, 2 rows, 3 columns\n",
    "matrice6 = matrice2.reshape(3,2,2) # reshape(blocks,row,col)\n",
    "matrice6"
   ]
  },
  {
   "cell_type": "code",
   "execution_count": 14,
   "id": "9c10c159",
   "metadata": {
    "pycharm": {
     "name": "#%%\n"
    }
   },
   "outputs": [
    {
     "data": {
      "text/plain": "10"
     },
     "execution_count": 14,
     "metadata": {},
     "output_type": "execute_result"
    }
   ],
   "source": [
    "# get the values in the 2nd block, 3rd row and last column\n",
    "matrice6[0][1][1]"
   ]
  },
  {
   "cell_type": "markdown",
   "id": "8d3fd9f2",
   "metadata": {
    "pycharm": {
     "name": "#%% md\n"
    }
   },
   "source": [
    "### filter arrays"
   ]
  },
  {
   "cell_type": "code",
   "execution_count": 15,
   "id": "c2eae426",
   "metadata": {
    "pycharm": {
     "name": "#%%\n"
    }
   },
   "outputs": [
    {
     "name": "stdout",
     "output_type": "stream",
     "text": [
      "[[10  5  6]\n",
      " [10  3  5]\n",
      " [ 6  9  4]\n",
      " [ 0 11  5]]\n"
     ]
    },
    {
     "data": {
      "text/plain": "array([[False, False, False],\n       [False, False, False],\n       [False, False, False],\n       [False,  True, False]])"
     },
     "execution_count": 15,
     "metadata": {},
     "output_type": "execute_result"
    }
   ],
   "source": [
    "# provide a boolean array where values are above 10\n",
    "print(matrice2)\n",
    "matrice2 > 10"
   ]
  },
  {
   "cell_type": "code",
   "execution_count": 16,
   "id": "1f7f26ab",
   "metadata": {
    "pycharm": {
     "name": "#%%\n"
    }
   },
   "outputs": [
    {
     "data": {
      "text/plain": "array([10,  6, 10,  6,  9, 11])"
     },
     "execution_count": 16,
     "metadata": {},
     "output_type": "execute_result"
    }
   ],
   "source": [
    "# return an array with just values over 20\n",
    "matrice2[matrice2 > 5] "
   ]
  },
  {
   "cell_type": "markdown",
   "id": "9eb435bc",
   "metadata": {
    "pycharm": {
     "name": "#%% md\n"
    }
   },
   "source": [
    "## basic basic stats"
   ]
  },
  {
   "cell_type": "code",
   "execution_count": 17,
   "id": "cad78139",
   "metadata": {
    "pycharm": {
     "name": "#%%\n"
    }
   },
   "outputs": [
    {
     "name": "stdout",
     "output_type": "stream",
     "text": [
      "Avg price is:  2366.35\n",
      "Min is:         239\n",
      "Max is:        4790\n",
      "Std is:        1241.0\n",
      "variance is:   1540425.0\n"
     ]
    }
   ],
   "source": [
    "# mean, avg, median, std, var, maybe add some more later ?\n",
    "eth_price = np.random.randint(90,4800,48) # buy 1 eth once a month\n",
    "eth_price \n",
    "print(\"Avg price is: \", eth_price.mean().round(2)) #why is it so easy ? ffs\n",
    "print(\"Min is:        \", eth_price.min())\n",
    "print( \"Max is:       \", eth_price.max())\n",
    "print(\"Std is:       \", eth_price.std().round())\n",
    "print(\"variance is:  \", eth_price.var().round())"
   ]
  },
  {
   "cell_type": "markdown",
   "id": "d5e85d16",
   "metadata": {
    "pycharm": {
     "name": "#%% md\n"
    }
   },
   "source": [
    "### the seed function"
   ]
  },
  {
   "cell_type": "code",
   "execution_count": 18,
   "id": "5409b6c7",
   "metadata": {
    "pycharm": {
     "name": "#%%\n"
    }
   },
   "outputs": [
    {
     "data": {
      "text/plain": "array([45,  2, 28, 34, 38, 17, 19, 42, 22, 33])"
     },
     "execution_count": 18,
     "metadata": {},
     "output_type": "execute_result"
    }
   ],
   "source": [
    "np.random.seed(123) # SEED is the reason it stays the same\n",
    "matrice7 = np.random.randint(0,50,10)\n",
    "matrice7\n"
   ]
  },
  {
   "cell_type": "markdown",
   "id": "8e43ce6a",
   "metadata": {
    "pycharm": {
     "name": "#%% md\n"
    }
   },
   "source": [
    "## -------^_^------ PANDAS -------^_^------"
   ]
  },
  {
   "cell_type": "markdown",
   "id": "8adf3862",
   "metadata": {
    "pycharm": {
     "name": "#%% md\n"
    }
   },
   "source": [
    "###  read data from a CSV \n"
   ]
  },
  {
   "cell_type": "code",
   "execution_count": 19,
   "id": "5c15ece6",
   "metadata": {
    "collapsed": true,
    "pycharm": {
     "name": "#%%\n"
    }
   },
   "outputs": [
    {
     "data": {
      "text/plain": "                            experiment_id instrument OpenTS per 5 minutes  \\\n0    f3aef9c8-6bf0-4226-8478-a1505e87d281    PYRUSDT      2021-11-26 9:30   \n1    f3aef9c8-6bf0-4226-8478-a1505e87d281    PYRUSDT      2021-11-26 9:50   \n2    f3aef9c8-6bf0-4226-8478-a1505e87d281    PYRUSDT      2021-11-26 9:50   \n3    f3aef9c8-6bf0-4226-8478-a1505e87d281    PYRUSDT     2021-11-26 10:10   \n4    f3aef9c8-6bf0-4226-8478-a1505e87d281    PYRUSDT     2021-11-26 10:30   \n..                                    ...        ...                  ...   \n621  f3aef9c8-6bf0-4226-8478-a1505e87d281    PYRUSDT     2022-09-21 20:10   \n622  f3aef9c8-6bf0-4226-8478-a1505e87d281    PYRUSDT     2022-09-21 23:10   \n623  f3aef9c8-6bf0-4226-8478-a1505e87d281    PYRUSDT     2022-09-25 15:40   \n624  f3aef9c8-6bf0-4226-8478-a1505e87d281    PYRUSDT      2022-09-28 4:20   \n625  f3aef9c8-6bf0-4226-8478-a1505e87d281    PYRUSDT     2022-09-29 14:30   \n\n    CloseTS per 5 minutes duration in hours duration in minutes  job_id  \\\n0         2021-11-26 9:40              0:10                  10     NaN   \n1         2021-11-26 9:50              0:00                   0     NaN   \n2        2021-11-26 10:00              0:10                  10     NaN   \n3        2021-11-26 10:20              0:10                  10     NaN   \n4        2021-11-26 10:40              0:10                  10     NaN   \n..                    ...               ...                 ...     ...   \n621      2022-09-21 20:30              0:20                  20     NaN   \n622       2022-09-22 1:00              1:50                 110     NaN   \n623      2022-09-25 16:10              0:30                  30     NaN   \n624       2022-09-28 8:00              3:40                 220     NaN   \n625      2022-09-29 16:40              2:10                 130     NaN   \n\n     amount  lowest_v  highest_v  ...  total nr of trades  AVG trade duration  \\\n0     1,000    938.99    1030.00  ...               626.0                94.0   \n1     1,029   1022.15    1060.10  ...                 NaN                 NaN   \n2     1,059   1041.63    1091.09  ...                 NaN                 NaN   \n3     1,090   1061.29    1106.21  ...                 NaN                 NaN   \n4     1,087   1060.77    1119.23  ...                 NaN                 NaN   \n..      ...       ...        ...  ...                 ...                 ...   \n621  26,776  26755.86   27579.21  ...                 NaN                 NaN   \n622  27,559  27013.34   27887.55  ...                 NaN                 NaN   \n623  27,605  27341.21   28231.01  ...                 NaN                 NaN   \n624  28,129  27933.88   28717.08  ...                 NaN                 NaN   \n625  28,696  27638.58   28753.68  ...                 NaN                 NaN   \n\n     AVG nov-dec  AVG jan-may  AVG june-oct  profitable trades  Losing trades  \\\n0           64.0         97.0         140.0              438.0          188.0   \n1            NaN          NaN           NaN                NaN            NaN   \n2            NaN          NaN           NaN                NaN            NaN   \n3            NaN          NaN           NaN                NaN            NaN   \n4            NaN          NaN           NaN                NaN            NaN   \n..           ...          ...           ...                ...            ...   \n621          NaN          NaN           NaN                NaN            NaN   \n622          NaN          NaN           NaN                NaN            NaN   \n623          NaN          NaN           NaN                NaN            NaN   \n624          NaN          NaN           NaN                NaN            NaN   \n625          NaN          NaN           NaN                NaN            NaN   \n\n     Unnamed: 29  Unnamed: 30  Unnamed: 31  \n0            NaN          NaN          NaN  \n1            NaN          NaN          NaN  \n2            NaN          NaN          NaN  \n3     percentile          NaN          NaN  \n4          -0.27          NaN          NaN  \n..           ...          ...          ...  \n621          NaN          NaN          NaN  \n622          NaN          NaN          NaN  \n623          NaN          NaN          NaN  \n624          NaN          NaN          NaN  \n625          NaN          NaN          NaN  \n\n[626 rows x 32 columns]",
      "text/html": "<div>\n<style scoped>\n    .dataframe tbody tr th:only-of-type {\n        vertical-align: middle;\n    }\n\n    .dataframe tbody tr th {\n        vertical-align: top;\n    }\n\n    .dataframe thead th {\n        text-align: right;\n    }\n</style>\n<table border=\"1\" class=\"dataframe\">\n  <thead>\n    <tr style=\"text-align: right;\">\n      <th></th>\n      <th>experiment_id</th>\n      <th>instrument</th>\n      <th>OpenTS per 5 minutes</th>\n      <th>CloseTS per 5 minutes</th>\n      <th>duration in hours</th>\n      <th>duration in minutes</th>\n      <th>job_id</th>\n      <th>amount</th>\n      <th>lowest_v</th>\n      <th>highest_v</th>\n      <th>...</th>\n      <th>total nr of trades</th>\n      <th>AVG trade duration</th>\n      <th>AVG nov-dec</th>\n      <th>AVG jan-may</th>\n      <th>AVG june-oct</th>\n      <th>profitable trades</th>\n      <th>Losing trades</th>\n      <th>Unnamed: 29</th>\n      <th>Unnamed: 30</th>\n      <th>Unnamed: 31</th>\n    </tr>\n  </thead>\n  <tbody>\n    <tr>\n      <th>0</th>\n      <td>f3aef9c8-6bf0-4226-8478-a1505e87d281</td>\n      <td>PYRUSDT</td>\n      <td>2021-11-26 9:30</td>\n      <td>2021-11-26 9:40</td>\n      <td>0:10</td>\n      <td>10</td>\n      <td>NaN</td>\n      <td>1,000</td>\n      <td>938.99</td>\n      <td>1030.00</td>\n      <td>...</td>\n      <td>626.0</td>\n      <td>94.0</td>\n      <td>64.0</td>\n      <td>97.0</td>\n      <td>140.0</td>\n      <td>438.0</td>\n      <td>188.0</td>\n      <td>NaN</td>\n      <td>NaN</td>\n      <td>NaN</td>\n    </tr>\n    <tr>\n      <th>1</th>\n      <td>f3aef9c8-6bf0-4226-8478-a1505e87d281</td>\n      <td>PYRUSDT</td>\n      <td>2021-11-26 9:50</td>\n      <td>2021-11-26 9:50</td>\n      <td>0:00</td>\n      <td>0</td>\n      <td>NaN</td>\n      <td>1,029</td>\n      <td>1022.15</td>\n      <td>1060.10</td>\n      <td>...</td>\n      <td>NaN</td>\n      <td>NaN</td>\n      <td>NaN</td>\n      <td>NaN</td>\n      <td>NaN</td>\n      <td>NaN</td>\n      <td>NaN</td>\n      <td>NaN</td>\n      <td>NaN</td>\n      <td>NaN</td>\n    </tr>\n    <tr>\n      <th>2</th>\n      <td>f3aef9c8-6bf0-4226-8478-a1505e87d281</td>\n      <td>PYRUSDT</td>\n      <td>2021-11-26 9:50</td>\n      <td>2021-11-26 10:00</td>\n      <td>0:10</td>\n      <td>10</td>\n      <td>NaN</td>\n      <td>1,059</td>\n      <td>1041.63</td>\n      <td>1091.09</td>\n      <td>...</td>\n      <td>NaN</td>\n      <td>NaN</td>\n      <td>NaN</td>\n      <td>NaN</td>\n      <td>NaN</td>\n      <td>NaN</td>\n      <td>NaN</td>\n      <td>NaN</td>\n      <td>NaN</td>\n      <td>NaN</td>\n    </tr>\n    <tr>\n      <th>3</th>\n      <td>f3aef9c8-6bf0-4226-8478-a1505e87d281</td>\n      <td>PYRUSDT</td>\n      <td>2021-11-26 10:10</td>\n      <td>2021-11-26 10:20</td>\n      <td>0:10</td>\n      <td>10</td>\n      <td>NaN</td>\n      <td>1,090</td>\n      <td>1061.29</td>\n      <td>1106.21</td>\n      <td>...</td>\n      <td>NaN</td>\n      <td>NaN</td>\n      <td>NaN</td>\n      <td>NaN</td>\n      <td>NaN</td>\n      <td>NaN</td>\n      <td>NaN</td>\n      <td>percentile</td>\n      <td>NaN</td>\n      <td>NaN</td>\n    </tr>\n    <tr>\n      <th>4</th>\n      <td>f3aef9c8-6bf0-4226-8478-a1505e87d281</td>\n      <td>PYRUSDT</td>\n      <td>2021-11-26 10:30</td>\n      <td>2021-11-26 10:40</td>\n      <td>0:10</td>\n      <td>10</td>\n      <td>NaN</td>\n      <td>1,087</td>\n      <td>1060.77</td>\n      <td>1119.23</td>\n      <td>...</td>\n      <td>NaN</td>\n      <td>NaN</td>\n      <td>NaN</td>\n      <td>NaN</td>\n      <td>NaN</td>\n      <td>NaN</td>\n      <td>NaN</td>\n      <td>-0.27</td>\n      <td>NaN</td>\n      <td>NaN</td>\n    </tr>\n    <tr>\n      <th>...</th>\n      <td>...</td>\n      <td>...</td>\n      <td>...</td>\n      <td>...</td>\n      <td>...</td>\n      <td>...</td>\n      <td>...</td>\n      <td>...</td>\n      <td>...</td>\n      <td>...</td>\n      <td>...</td>\n      <td>...</td>\n      <td>...</td>\n      <td>...</td>\n      <td>...</td>\n      <td>...</td>\n      <td>...</td>\n      <td>...</td>\n      <td>...</td>\n      <td>...</td>\n      <td>...</td>\n    </tr>\n    <tr>\n      <th>621</th>\n      <td>f3aef9c8-6bf0-4226-8478-a1505e87d281</td>\n      <td>PYRUSDT</td>\n      <td>2022-09-21 20:10</td>\n      <td>2022-09-21 20:30</td>\n      <td>0:20</td>\n      <td>20</td>\n      <td>NaN</td>\n      <td>26,776</td>\n      <td>26755.86</td>\n      <td>27579.21</td>\n      <td>...</td>\n      <td>NaN</td>\n      <td>NaN</td>\n      <td>NaN</td>\n      <td>NaN</td>\n      <td>NaN</td>\n      <td>NaN</td>\n      <td>NaN</td>\n      <td>NaN</td>\n      <td>NaN</td>\n      <td>NaN</td>\n    </tr>\n    <tr>\n      <th>622</th>\n      <td>f3aef9c8-6bf0-4226-8478-a1505e87d281</td>\n      <td>PYRUSDT</td>\n      <td>2022-09-21 23:10</td>\n      <td>2022-09-22 1:00</td>\n      <td>1:50</td>\n      <td>110</td>\n      <td>NaN</td>\n      <td>27,559</td>\n      <td>27013.34</td>\n      <td>27887.55</td>\n      <td>...</td>\n      <td>NaN</td>\n      <td>NaN</td>\n      <td>NaN</td>\n      <td>NaN</td>\n      <td>NaN</td>\n      <td>NaN</td>\n      <td>NaN</td>\n      <td>NaN</td>\n      <td>NaN</td>\n      <td>NaN</td>\n    </tr>\n    <tr>\n      <th>623</th>\n      <td>f3aef9c8-6bf0-4226-8478-a1505e87d281</td>\n      <td>PYRUSDT</td>\n      <td>2022-09-25 15:40</td>\n      <td>2022-09-25 16:10</td>\n      <td>0:30</td>\n      <td>30</td>\n      <td>NaN</td>\n      <td>27,605</td>\n      <td>27341.21</td>\n      <td>28231.01</td>\n      <td>...</td>\n      <td>NaN</td>\n      <td>NaN</td>\n      <td>NaN</td>\n      <td>NaN</td>\n      <td>NaN</td>\n      <td>NaN</td>\n      <td>NaN</td>\n      <td>NaN</td>\n      <td>NaN</td>\n      <td>NaN</td>\n    </tr>\n    <tr>\n      <th>624</th>\n      <td>f3aef9c8-6bf0-4226-8478-a1505e87d281</td>\n      <td>PYRUSDT</td>\n      <td>2022-09-28 4:20</td>\n      <td>2022-09-28 8:00</td>\n      <td>3:40</td>\n      <td>220</td>\n      <td>NaN</td>\n      <td>28,129</td>\n      <td>27933.88</td>\n      <td>28717.08</td>\n      <td>...</td>\n      <td>NaN</td>\n      <td>NaN</td>\n      <td>NaN</td>\n      <td>NaN</td>\n      <td>NaN</td>\n      <td>NaN</td>\n      <td>NaN</td>\n      <td>NaN</td>\n      <td>NaN</td>\n      <td>NaN</td>\n    </tr>\n    <tr>\n      <th>625</th>\n      <td>f3aef9c8-6bf0-4226-8478-a1505e87d281</td>\n      <td>PYRUSDT</td>\n      <td>2022-09-29 14:30</td>\n      <td>2022-09-29 16:40</td>\n      <td>2:10</td>\n      <td>130</td>\n      <td>NaN</td>\n      <td>28,696</td>\n      <td>27638.58</td>\n      <td>28753.68</td>\n      <td>...</td>\n      <td>NaN</td>\n      <td>NaN</td>\n      <td>NaN</td>\n      <td>NaN</td>\n      <td>NaN</td>\n      <td>NaN</td>\n      <td>NaN</td>\n      <td>NaN</td>\n      <td>NaN</td>\n      <td>NaN</td>\n    </tr>\n  </tbody>\n</table>\n<p>626 rows × 32 columns</p>\n</div>"
     },
     "execution_count": 19,
     "metadata": {},
     "output_type": "execute_result"
    }
   ],
   "source": [
    "def get_data_from_csv(csv_file): \n",
    "    try:\n",
    "        # Validate file extension\n",
    "        if not csv_file.endswith('.csv'):\n",
    "            raise ValueError('The file must be a csv file.')\n",
    "\n",
    "        # Read the csv file\n",
    "        df = pd.read_csv(csv_file)\n",
    "    except FileNotFoundError:\n",
    "        pass\n",
    "    else:\n",
    "        return df\n",
    "\n",
    "pyrusdt_df = get_data_from_csv('csv_test_for_pandas.csv')\n",
    "pyrusdt_df"
   ]
  },
  {
   "cell_type": "markdown",
   "id": "e1698e93",
   "metadata": {
    "pycharm": {
     "name": "#%% md\n"
    }
   },
   "source": [
    "###  read data from a XLS \n",
    "\n"
   ]
  },
  {
   "cell_type": "code",
   "execution_count": 20,
   "id": "9b3f4245",
   "metadata": {
    "collapsed": true,
    "pycharm": {
     "name": "#%%\n"
    }
   },
   "outputs": [
    {
     "data": {
      "text/plain": "                            experiment_id instrument OpenTS per 5 minutes  \\\n0    f1679b0b-befb-4200-a58f-4991063a84f9   LINKUSDT  2022-06-16 04:40:00   \n1    f1679b0b-befb-4200-a58f-4991063a84f9   AVAXUSDT  2022-06-16 12:05:00   \n2    f1679b0b-befb-4200-a58f-4991063a84f9    ETHUSDT  2022-06-16 12:15:00   \n3    f1679b0b-befb-4200-a58f-4991063a84f9   NEARUSDT  2022-06-16 12:20:00   \n4    f1679b0b-befb-4200-a58f-4991063a84f9   ATOMUSDT  2022-06-16 12:20:00   \n..                                    ...        ...                  ...   \n161  f1679b0b-befb-4200-a58f-4991063a84f9   AVAXUSDT  2022-08-09 17:05:00   \n162  f1679b0b-befb-4200-a58f-4991063a84f9    SOLUSDT  2022-08-09 17:05:00   \n163  f1679b0b-befb-4200-a58f-4991063a84f9   NEARUSDT  2022-08-10 03:35:00   \n164  f1679b0b-befb-4200-a58f-4991063a84f9   LINKUSDT  2022-08-10 03:35:00   \n165  f1679b0b-befb-4200-a58f-4991063a84f9   ATOMUSDT  2022-08-10 03:40:00   \n\n    CloseTS per 5 minutes trade duration  \\\n0     2022-06-16 18:05:00       13:25:00   \n1     2022-06-16 22:05:00       10:00:00   \n2     2022-06-17 04:40:00       16:25:00   \n3     2022-06-16 18:25:00       06:05:00   \n4     2022-06-17 08:30:00       20:10:00   \n..                    ...            ...   \n161   2022-08-10 00:25:00       07:20:00   \n162   2022-08-10 11:50:00       18:45:00   \n163   2022-08-10 08:00:00       04:25:00   \n164   2022-08-10 11:50:00       08:15:00   \n165   2022-08-10 10:40:00       07:00:00   \n\n                                       job_id    amount  lowest_v  highest_v  \\\n0    8ad9ef080cb96ad2f5f4a2c0ce6d23156b01f0d7  1000.000   870.134   1007.671   \n1    10234c1db8d56ed59bba267bdef7daf293a745d2  1000.000   951.007   1016.136   \n2    c45240851a8fea459a8fbef51b702179228dff48  1000.000   925.255   1014.946   \n3    aea3ddb65bbd095fa6fc5f252bff93e0ad738208  1000.000   950.938   1002.786   \n4    cbd41990c604e1c26f4fdffede4fb8ee39b9ff45  1000.000   916.227   1002.216   \n..                                        ...       ...       ...        ...   \n161  10234c1db8d56ed59bba267bdef7daf293a745d2  1124.105  1122.017   1149.404   \n162  036f9180e286e701d3bbafea7e23eb6c8671f20f  1140.005  1118.860   1163.728   \n163  aea3ddb65bbd095fa6fc5f252bff93e0ad738208  1279.957  1264.347   1318.356   \n164  8ad9ef080cb96ad2f5f4a2c0ce6d23156b01f0d7   878.520   863.704    889.208   \n165  cbd41990c604e1c26f4fdffede4fb8ee39b9ff45  1083.201  1033.803   1083.473   \n\n     profit_v  profit_p  max_DD  open_price  close_price  tp_p  TP reached  \n0     -85.642    -8.564 -12.987       7.125        6.515     3      -8.564  \n1      14.771     1.477  -4.899      16.582       16.827     3       1.477  \n2     -31.212    -3.121  -7.474    1136.021     1100.564     3      -3.121  \n3     -11.802    -1.180  -4.906       3.395        3.354     3      -1.180  \n4     -38.535    -3.854  -8.377       6.745        6.485     3      -3.854  \n..        ...       ...     ...         ...          ...   ...         ...  \n161    24.023     2.137  -0.186      27.090       27.669     3       2.137  \n162     2.004     0.176  -1.855      39.890       39.960     3       0.176  \n163    37.410     2.923  -1.220       5.242        5.395     3       2.923  \n164     0.348     0.040  -1.686       8.439        8.443     3       0.040  \n165   -13.145    -1.214  -4.560      10.991       10.858     3      -1.214  \n\n[166 rows x 16 columns]",
      "text/html": "<div>\n<style scoped>\n    .dataframe tbody tr th:only-of-type {\n        vertical-align: middle;\n    }\n\n    .dataframe tbody tr th {\n        vertical-align: top;\n    }\n\n    .dataframe thead th {\n        text-align: right;\n    }\n</style>\n<table border=\"1\" class=\"dataframe\">\n  <thead>\n    <tr style=\"text-align: right;\">\n      <th></th>\n      <th>experiment_id</th>\n      <th>instrument</th>\n      <th>OpenTS per 5 minutes</th>\n      <th>CloseTS per 5 minutes</th>\n      <th>trade duration</th>\n      <th>job_id</th>\n      <th>amount</th>\n      <th>lowest_v</th>\n      <th>highest_v</th>\n      <th>profit_v</th>\n      <th>profit_p</th>\n      <th>max_DD</th>\n      <th>open_price</th>\n      <th>close_price</th>\n      <th>tp_p</th>\n      <th>TP reached</th>\n    </tr>\n  </thead>\n  <tbody>\n    <tr>\n      <th>0</th>\n      <td>f1679b0b-befb-4200-a58f-4991063a84f9</td>\n      <td>LINKUSDT</td>\n      <td>2022-06-16 04:40:00</td>\n      <td>2022-06-16 18:05:00</td>\n      <td>13:25:00</td>\n      <td>8ad9ef080cb96ad2f5f4a2c0ce6d23156b01f0d7</td>\n      <td>1000.000</td>\n      <td>870.134</td>\n      <td>1007.671</td>\n      <td>-85.642</td>\n      <td>-8.564</td>\n      <td>-12.987</td>\n      <td>7.125</td>\n      <td>6.515</td>\n      <td>3</td>\n      <td>-8.564</td>\n    </tr>\n    <tr>\n      <th>1</th>\n      <td>f1679b0b-befb-4200-a58f-4991063a84f9</td>\n      <td>AVAXUSDT</td>\n      <td>2022-06-16 12:05:00</td>\n      <td>2022-06-16 22:05:00</td>\n      <td>10:00:00</td>\n      <td>10234c1db8d56ed59bba267bdef7daf293a745d2</td>\n      <td>1000.000</td>\n      <td>951.007</td>\n      <td>1016.136</td>\n      <td>14.771</td>\n      <td>1.477</td>\n      <td>-4.899</td>\n      <td>16.582</td>\n      <td>16.827</td>\n      <td>3</td>\n      <td>1.477</td>\n    </tr>\n    <tr>\n      <th>2</th>\n      <td>f1679b0b-befb-4200-a58f-4991063a84f9</td>\n      <td>ETHUSDT</td>\n      <td>2022-06-16 12:15:00</td>\n      <td>2022-06-17 04:40:00</td>\n      <td>16:25:00</td>\n      <td>c45240851a8fea459a8fbef51b702179228dff48</td>\n      <td>1000.000</td>\n      <td>925.255</td>\n      <td>1014.946</td>\n      <td>-31.212</td>\n      <td>-3.121</td>\n      <td>-7.474</td>\n      <td>1136.021</td>\n      <td>1100.564</td>\n      <td>3</td>\n      <td>-3.121</td>\n    </tr>\n    <tr>\n      <th>3</th>\n      <td>f1679b0b-befb-4200-a58f-4991063a84f9</td>\n      <td>NEARUSDT</td>\n      <td>2022-06-16 12:20:00</td>\n      <td>2022-06-16 18:25:00</td>\n      <td>06:05:00</td>\n      <td>aea3ddb65bbd095fa6fc5f252bff93e0ad738208</td>\n      <td>1000.000</td>\n      <td>950.938</td>\n      <td>1002.786</td>\n      <td>-11.802</td>\n      <td>-1.180</td>\n      <td>-4.906</td>\n      <td>3.395</td>\n      <td>3.354</td>\n      <td>3</td>\n      <td>-1.180</td>\n    </tr>\n    <tr>\n      <th>4</th>\n      <td>f1679b0b-befb-4200-a58f-4991063a84f9</td>\n      <td>ATOMUSDT</td>\n      <td>2022-06-16 12:20:00</td>\n      <td>2022-06-17 08:30:00</td>\n      <td>20:10:00</td>\n      <td>cbd41990c604e1c26f4fdffede4fb8ee39b9ff45</td>\n      <td>1000.000</td>\n      <td>916.227</td>\n      <td>1002.216</td>\n      <td>-38.535</td>\n      <td>-3.854</td>\n      <td>-8.377</td>\n      <td>6.745</td>\n      <td>6.485</td>\n      <td>3</td>\n      <td>-3.854</td>\n    </tr>\n    <tr>\n      <th>...</th>\n      <td>...</td>\n      <td>...</td>\n      <td>...</td>\n      <td>...</td>\n      <td>...</td>\n      <td>...</td>\n      <td>...</td>\n      <td>...</td>\n      <td>...</td>\n      <td>...</td>\n      <td>...</td>\n      <td>...</td>\n      <td>...</td>\n      <td>...</td>\n      <td>...</td>\n      <td>...</td>\n    </tr>\n    <tr>\n      <th>161</th>\n      <td>f1679b0b-befb-4200-a58f-4991063a84f9</td>\n      <td>AVAXUSDT</td>\n      <td>2022-08-09 17:05:00</td>\n      <td>2022-08-10 00:25:00</td>\n      <td>07:20:00</td>\n      <td>10234c1db8d56ed59bba267bdef7daf293a745d2</td>\n      <td>1124.105</td>\n      <td>1122.017</td>\n      <td>1149.404</td>\n      <td>24.023</td>\n      <td>2.137</td>\n      <td>-0.186</td>\n      <td>27.090</td>\n      <td>27.669</td>\n      <td>3</td>\n      <td>2.137</td>\n    </tr>\n    <tr>\n      <th>162</th>\n      <td>f1679b0b-befb-4200-a58f-4991063a84f9</td>\n      <td>SOLUSDT</td>\n      <td>2022-08-09 17:05:00</td>\n      <td>2022-08-10 11:50:00</td>\n      <td>18:45:00</td>\n      <td>036f9180e286e701d3bbafea7e23eb6c8671f20f</td>\n      <td>1140.005</td>\n      <td>1118.860</td>\n      <td>1163.728</td>\n      <td>2.004</td>\n      <td>0.176</td>\n      <td>-1.855</td>\n      <td>39.890</td>\n      <td>39.960</td>\n      <td>3</td>\n      <td>0.176</td>\n    </tr>\n    <tr>\n      <th>163</th>\n      <td>f1679b0b-befb-4200-a58f-4991063a84f9</td>\n      <td>NEARUSDT</td>\n      <td>2022-08-10 03:35:00</td>\n      <td>2022-08-10 08:00:00</td>\n      <td>04:25:00</td>\n      <td>aea3ddb65bbd095fa6fc5f252bff93e0ad738208</td>\n      <td>1279.957</td>\n      <td>1264.347</td>\n      <td>1318.356</td>\n      <td>37.410</td>\n      <td>2.923</td>\n      <td>-1.220</td>\n      <td>5.242</td>\n      <td>5.395</td>\n      <td>3</td>\n      <td>2.923</td>\n    </tr>\n    <tr>\n      <th>164</th>\n      <td>f1679b0b-befb-4200-a58f-4991063a84f9</td>\n      <td>LINKUSDT</td>\n      <td>2022-08-10 03:35:00</td>\n      <td>2022-08-10 11:50:00</td>\n      <td>08:15:00</td>\n      <td>8ad9ef080cb96ad2f5f4a2c0ce6d23156b01f0d7</td>\n      <td>878.520</td>\n      <td>863.704</td>\n      <td>889.208</td>\n      <td>0.348</td>\n      <td>0.040</td>\n      <td>-1.686</td>\n      <td>8.439</td>\n      <td>8.443</td>\n      <td>3</td>\n      <td>0.040</td>\n    </tr>\n    <tr>\n      <th>165</th>\n      <td>f1679b0b-befb-4200-a58f-4991063a84f9</td>\n      <td>ATOMUSDT</td>\n      <td>2022-08-10 03:40:00</td>\n      <td>2022-08-10 10:40:00</td>\n      <td>07:00:00</td>\n      <td>cbd41990c604e1c26f4fdffede4fb8ee39b9ff45</td>\n      <td>1083.201</td>\n      <td>1033.803</td>\n      <td>1083.473</td>\n      <td>-13.145</td>\n      <td>-1.214</td>\n      <td>-4.560</td>\n      <td>10.991</td>\n      <td>10.858</td>\n      <td>3</td>\n      <td>-1.214</td>\n    </tr>\n  </tbody>\n</table>\n<p>166 rows × 16 columns</p>\n</div>"
     },
     "execution_count": 20,
     "metadata": {},
     "output_type": "execute_result"
    }
   ],
   "source": [
    "# define func that takes one argument( a csv file)\n",
    "# we validate if the file is a csv format. if not, raise error\n",
    "# the function then tries to read the csv file using the pandas.read_csv function\n",
    "# if the csv is not found, an error is raised.\n",
    "# otherwise the data is returned in a pandas dataframe\n",
    "# call function and pass the csv file, storing the data in the desired variable\n",
    "\n",
    "def get_data_from_excel_file(excel_file):\n",
    "    try:\n",
    "        #validate if file is excel format\n",
    "        if not excel_file.endswith('.xlsx'):\n",
    "            raise ValueError('the file must be of xlsx type.')\n",
    "\n",
    "        # Read the csv file\n",
    "        df = pd.read_excel(excel_file)\n",
    "    except FileNotFoundError:\n",
    "        pass\n",
    "    else:\n",
    "        return df\n",
    "\n",
    "excel_df = get_data_from_excel_file('xls_test_for_pandas.xlsx')\n",
    "excel_df\n",
    "\n"
   ]
  },
  {
   "cell_type": "markdown",
   "id": "c3792719",
   "metadata": {
    "pycharm": {
     "name": "#%% md\n"
    }
   },
   "source": [
    "###  read data from a HTML \n",
    "\n"
   ]
  },
  {
   "cell_type": "code",
   "execution_count": 21,
   "id": "ddb3beb1",
   "metadata": {
    "pycharm": {
     "name": "#%%\n"
    },
    "scrolled": true
   },
   "outputs": [
    {
     "data": {
      "text/plain": "[                    Demographics of the United States  \\\n 0   Population pyramid of the United States as of ...   \n 1                                          Population   \n 2                                             Density   \n 3                                         Growth rate   \n 4                                          Birth rate   \n 5                                          Death rate   \n 6                                     Life expectancy   \n 7                                              • male   \n 8                                            • female   \n 9                                      Fertility rate   \n 10                              Infant mortality rate   \n 11                                 Net migration rate   \n 12                                      Age structure   \n 13                                     Under 18 years   \n 14                                        18–44 years   \n 15                                        45–64 years   \n 16                                        65 and over   \n 17                                           Language   \n 18                                           Official   \n 19                                             Spoken   \n 20                      Source: The World Factbook[5]   \n \n                   Demographics of the United States.1  \n 0   Population pyramid of the United States as of ...  \n 1                               333,287,557 (2022)[1]  \n 2                             86.16/sq mi (33.27/km2)  \n 3                                         0.4% (2022)  \n 4                 11.0 births/1,000 population (2021)  \n 5                 10.4 deaths/1,000 population (2021)  \n 6                                76.1 years (2021)[2]  \n 7                                73.2 years (2021)[2]  \n 8                                79.1 years (2021)[2]  \n 9                 1.664 children born/woman (2021)[3]  \n 10            5.4 deaths/1,000 live births (2020) [4]  \n 11            3 migrant(s)/1,000 population (2020)[5]  \n 12                                      Age structure  \n 13                                    22.2% (2021)[6]  \n 14                                    35.9% (2021)[6]  \n 15                                    25.2% (2021)[6]  \n 16                                    16.8% (2021)[6]  \n 17                                           Language  \n 18  No official language at national level. Englis...  \n 19  .mw-parser-output .plainlist ol,.mw-parser-out...  \n 20                      Source: The World Factbook[5]  ,\n    age (years)  total (in thousands) % of US pop.  males (in thousands)  \\\n 0            0                  3564         1.1%                  1822   \n 1          < 5                 18827         5.7%                  9624   \n 2         < 15                 60467        18.2%                 30989   \n 3        15-24                 43089        13.0%                 21996   \n 4        25-34                 45495        13.7%                 23053   \n 5        35-44                 43404        13.1%                 21858   \n 6        45-54                 40688        12.3%                 20312   \n 7        55-64                 42803        12.9%                 20963   \n 8          65+                 55848        16.8%                 25214   \n 9          75+                 22182         6.7%                  9344   \n 10         85+                  5976         1.8%                  2176   \n 11        100+                    98        0.03%                    25   \n 12         all                331894         100%                164385   \n \n     females (in thousands) % male % female  sex ratio: male/female  \n 0                     1743  51.1%    48.9%                    1.05  \n 1                     9203  51.1%    48.9%                    1.05  \n 2                    29578  51.2%    48.8%                    1.05  \n 3                    21092  51.0%    49.0%                    1.04  \n 4                    22442  50.7%    49.3%                    1.03  \n 5                    21546  50.4%    49.6%                    1.01  \n 6                    20376  49.9%    50.1%                    0.99  \n 7                    21840  49.0%    51.0%                    0.96  \n 8                    30634  45.1%    54.9%                    0.82  \n 9                    12837  42.1%    57.9%                    0.73  \n 10                    3800  36.4%    63.6%                    0.57  \n 11                      73  25.5%    74.5%                    0.34  \n 12                  167509  49.5%    50.5%                    0.98  ,\n                                   Race  Male LEB in 2021  Female LEB in 2021  \\\n 0                             NH White              73.7                79.2   \n 1                             NH Black              66.7                74.8   \n 2                             NH Asian              81.2                85.6   \n 3  NH American Indian or Alaska Native              61.5                69.2   \n 4                             Hispanic              74.4                81.0   \n 5                All origins and races              73.2                79.1   \n \n    Total LEB in 2021*  Total LEB in 2020  Total LEB in 2019  2019 - 2021  \n 0                76.4               77.4               78.8          2.4  \n 1                70.8               71.5               74.8          4.0  \n 2                83.5               83.6               85.6          2.1  \n 3                65.2               67.1               71.8          6.6  \n 4                77.7               77.9               81.9          4.2  \n 5                76.1               77.0               78.8          2.7  ,\n    Unnamed: 0_level_0 Females                   Males                   Total  \\\n                   Age  Cohort Life expectancy  Cohort Life expectancy  Cohort   \n 0                   0  100000            79.9  100000            74.2  100000   \n 1                   1   99508            79.3   99415            73.6   99461   \n 2                   5   99429            75.3   99313            69.7   99377   \n 3                  10   99381            70.4   99254            64.7   99323   \n 4                  15   99317            65.4   99155            59.8   99242   \n 5                  20   99157            60.5   98741            55.0   98952   \n 6                  25   98876            55.7   97961            50.5   98415   \n 7                  30   98479            50.9   96994            45.9   97725   \n 8                  35   97933            46.2   95815            41.5   96856   \n 9                  40   97215            41.5   94420            37.0   95794   \n 10                 45   96266            36.9   92731            32.7   94471   \n 11                 50   94928            32.4   90497            28.4   92680   \n 12                 55   92979            28.0   87332            24.3   90115   \n 13                 60   90111            23.8   82736            20.5   86376   \n 14                 65   86039            19.8   76439            17.0   81181   \n 15                 70   80547            15.9   68491            13.7   74466   \n 16                 75   72737            12.4   58588            10.6   65565   \n 17                 80   61298             9.2   45661             7.8   53346   \n 18                 85   45424             6.5   30276             5.5   37700   \n 19                 90   26271             4.4   14824             3.7   20477   \n 20                 95    9599             2.9    4216             2.5    6889   \n 21                100    1727             2.0     549             1.8    1142   \n \n                     \n    Life expectancy  \n 0             77.0  \n 1             76.4  \n 2             72.5  \n 3             67.5  \n 4             62.6  \n 5             57.7  \n 6             53.0  \n 7             48.4  \n 8             43.8  \n 9             39.3  \n 10            34.8  \n 11            30.4  \n 12            26.2  \n 13            22.2  \n 14            18.5  \n 15            14.9  \n 16            11.6  \n 17             8.6  \n 18             6.1  \n 19             4.2  \n 20             2.8  \n 21             2.0  ,\n    Year                  Total     Non-Hispanic White   Non-Hispanic Black  \\\n 0  2021  3,664,292 (TFR: 1.66)  1,887,656 (TFR: 1.57)  517,889 (TFR: 1.65)   \n 1  2020  3,613,647 (TFR: 1.64)  1,843,432 (TFR: 1.55)  529,811 (TFR: 1.71)   \n \n               Hispanic   Non-Hispanic Asian Non-Hispanic Indigenous  \\\n 0  885,916 (TFR: 1.89)  213,813 (TFR: 1.33)      35,655 (TFR: 1.57)   \n 1  866,713 (TFR: 1.88)  219,068 (TFR: 1.39)                   36439   \n \n           Multiracial  \n 0  86,982 (TFR: 1.52)  \n 1                 NaN  ,\n           Race and Hispanic origin of mother and year  January–June  January  \\\n 0                           Non-Hispanic White (2019)        937741   156819   \n 1                           Non-Hispanic White (2020)        916986   152519   \n 2                           Non-Hispanic White (2021)        914813   142083   \n 3                           Non-Hispanic Black (2019)        262114    47486   \n 4                           Non-Hispanic Black (2020)        259759    46356   \n 5                           Non-Hispanic Black (2021)        245753    41310   \n 6   Non-Hispanic American Indian or Alaska native ...         14013     2525   \n 7   Non-Hispanic American Indian or Alaska native ...         13234     2292   \n 8   Non-Hispanic American Indian or Alaska native ...         12498     2135   \n 9                           Non-Hispanic Asian (2019)        116289    19628   \n 10                          Non-Hispanic Asian (2020)        110811    19303   \n 11                          Non-Hispanic Asian (2021)        102279    15658   \n 12  Non-Hispanic Hawaiian or other Pacific Islande...          4695      790   \n 13  Non-Hispanic Hawaiian or other Pacific Islande...          4665      803   \n 14  Non-Hispanic Hawaiian or other Pacific Islande...          4413      799   \n 15                      Hispanic (of any race) (2019)        421991    73742   \n 16                      Hispanic (of any race) (2020)        420563    73601   \n 17                      Hispanic (of any race) (2021)        409941    65687   \n 18                       All races and origins (2019)       1814497   310872   \n 19                       All races and origins (2020)       1783124   304722   \n 20                       All races and origins (2021)       1748768   276980   \n \n     February   March   April     May    June  \\\n 0     142992  157502  156516  165587  158325   \n 1     138756  155981  150953  156888  156933   \n 2     138803  159055  153980  156969  163923   \n 3      41497   43583   42151   44584   42813   \n 4      40587   43591   41395   42999   43381   \n 5      38628   41952   39810   40936   43117   \n 6       2182    2332    2293    2382    2299   \n 7       1977    2213    2195    2240    2246   \n 8       1932    2181    2098    1961    2191   \n 9      17975   19910   19261   20168   19347   \n 10     17068   19268   17986   18696   17880   \n 11     15410   18019   17482   17552   18158   \n 12       762     814     738     847     744   \n 13       759     794     705     820     757   \n 14       616     753     731     806     708   \n 15     65667   70442   68517   72747   70876   \n 16     65140   70361   68000   70085   71050   \n 17     61961   70060   68202   70722   73309   \n 18    279963  304237  298947  316386  304092   \n 19    272907  301625  290478  301481  302164   \n 20    266107  302137  292454  299308  311782   \n \n    Total pop.'s percent (January–June)  \n 0                               51.67%  \n 1                               51.43%  \n 2                               52.32%  \n 3                               14.45%  \n 4                               14.57%  \n 5                               14.05%  \n 6                                0.77%  \n 7                                0.74%  \n 8                                0.69%  \n 9                                6.41%  \n 10                               6.21%  \n 11                               5.85%  \n 12                               0.26%  \n 13                               0.26%  \n 14                               0.25%  \n 15                              23.26%  \n 16                              23.59%  \n 17                              23.44%  \n 18                                 NaN  \n 19                                 NaN  \n 20                                 NaN  ,\n           Race and Hispanic origin of mother and year January–June January  \\\n 0                      Non-Hispanic White (2019-2020)           -2      -3   \n 1                      Non-Hispanic White (2020-2021)           †0      -7   \n 2                      Non-Hispanic Black (2019-2020)           -1      -2   \n 3                      Non-Hispanic Black (2020-2021)           -5     -11   \n 4   Non-Hispanic American Indian or Alaska native ...           -6      -9   \n 5   Non-Hispanic American Indian or Alaska native ...           -6      -7   \n 6                      Non-Hispanic Asian (2019-2020)           -5     †-2   \n 7                      Non-Hispanic Asian (2020-2021)           -8     -19   \n 8   Non-Hispanic Hawaiian or other Pacific Islande...          †-1      †2   \n 9   Non-Hispanic Hawaiian or other Pacific Islande...            5      †0   \n 10                 Hispanic (of any race) (2019-2020)           †0      †0   \n 11                 Hispanic (of any race) (2020-2021)           -3     -11   \n 12                  All races and origins (2019-2020)           -2      -2   \n 13                  All races and origins (2020-2021)           -2      -9   \n \n    February March April  May June  \n 0        -3    -1    -4   -5   -1  \n 1        †0     2     2   †0    4  \n 2        -2    †0    -2   -4   †1  \n 3        -5    -4    -4   -5  †-1  \n 4        -9   †-5   †-4   -6  †-2  \n 5       †-2   †-1   †-4  -12  †-2  \n 6        -5    -3    -7   -7   -8  \n 7       -10    -6    -3   -6   †2  \n 8        †0   †-2   †-4  †-3   †2  \n 9       -19   †-5    †4  †-2  †-6  \n 10      †-1    †0   †-1   -4   †0  \n 11       -5    †0    †0   †1    3  \n 12       -3    -1    -3   -5   -1  \n 13       -2    †0     1   -1    3  ,\n                                Race of mother  Number of births in 2016  \\\n 0                                       White                   2900933   \n 1                                  > NH White                   2056332   \n 2                                       Black                    623886   \n 3                                  > NH Black                    558622   \n 4                                    NH Asian                    254471   \n 5         NH American Indian or Alaska native                     31452   \n 6  NH Hawaiian (incl. other Pacific Islander)                      9342   \n 7                                       Total                   3945875   \n \n   % of all born  TFR (2016)  Number of births in 2017 % of all born.1  \\\n 0         73.5%       1.770                   2812267           72.9%   \n 1         52.1%       1.719                   1992461           51.7%   \n 2         15.8%       1.900                    626027           16.2%   \n 3         14.2%       1.832                    560715           14.5%   \n 4          6.5%       1.690                    249250            6.5%   \n 5          0.8%       1.794                     29957            0.8%   \n 6          0.2%       2.076                      9426            0.2%   \n 7          100%       1.820                   3855500            100%   \n \n    TFR (2017)  Number of births in 2018 % of all born.2  TFR (2018)  \\\n 0       1.760                   2788439           73.5%       1.750   \n 1       1.666                   1956413           51.6%       1.640   \n 2       1.920                    600933           15.8%       1.870   \n 3       1.824                    552029           14.6%       1.792   \n 4       1.597                    240798            6.4%       1.525   \n 5       1.702                     29092            0.8%       1.651   \n 6       2.085                      9476            0.3%       2.106   \n 7       1.765                   3791712            100%       1.729   \n \n    Number of births in 2019 % of all born.3  TFR (2019)  \\\n 0                       NaN             NaN         NaN   \n 1                 1915912.0           51.1%       1.611   \n 2                       NaN             NaN         NaN   \n 3                  548075.0           14.6%       1.776   \n 4                  238769.0            6.4%       1.511   \n 5                   28450.0           0.76%       1.612   \n 6                    9770.0           0.26%       2.178   \n 7                 3747540.0            100%       1.706   \n \n    Number of births in 2020 % of all born.4  TFR (2020) 2020-2016  \n 0                       NaN             NaN         NaN       NaN  \n 1                 1843432.0           51.0%       1.552    10.35%  \n 2                       NaN             NaN         NaN       NaN  \n 3                  529811.0           14.7%       1.714     5.16%  \n 4                  219068.0            6.1%       1.385     13.9%  \n 5                   26813.0           0.74%       1.517    14.75%  \n 6                    9626.0           0.26%       2.142     3.04%  \n 7                 3613647.0            100%       1.641     9.84%  ,\n           Ethnicity of mother  Number of births in 2016 % of all born  \\\n 0  Non-Hispanic (of any race)                   3027428           NaN   \n 1      Hispanic (of any race)                    918447         23.3%   \n \n    TFR (2016)  Number of births in 2017 % of all born.1  TFR (2017)  \\\n 0         NaN                   2956736             NaN         NaN   \n 1       2.093                    898764           23.3%       2.007   \n \n    Number of births in 2018 % of all born.2  TFR (2018)  \\\n 0                   2905502             NaN         NaN   \n 1                    886210           23.4%       1.959   \n \n    Number of births in 2019 % of all born.3  TFR (2019)  \\\n 0                   2861073             NaN         NaN   \n 1                    886467           23.7%        1.94   \n \n    Number of births in 2020 % of all born.4  TFR (2020) 2020-2016  \n 0                   2746933             NaN         NaN       NaN  \n 1                    866714           24.0%       1.876     5.63%  ,\n                      Race  2008  2011  2013\n 0                   White  2.29  2.01  1.94\n 1                   Black  2.51  2.57  2.35\n 2                   Asian  2.25  2.02  1.93\n 3                   Other  1.80  2.04  2.06\n 4  Hispanic (of any race)  3.15  2.77  2.46\n 5                   Total  2.75  2.45  2.22,\n                Country    2021\n 0               Mexico  107230\n 1                India   93450\n 2                China   49847\n 3          Philippines   27511\n 4   Dominican Republic   24553\n 5                 Cuba   23077\n 6          El Salvador   18668\n 7               Brazil   18351\n 8              Vietnam   16312\n 9             Colombia   15293\n 10           Venezuela   14412\n 11             Jamaica   13357\n 12             Nigeria   13100\n 13         South Korea   12351\n 14               Haiti   11456,\n           Region    2021\n 0       Americas  311806\n 1           Asia  295306\n 2         Africa   66211\n 3         Europe   61521\n 4        Oceania    4147\n 5  Not Specified    1011\n 6          Total  707362,\n    Class of Admission (Adjustments of Status and New Arrivals)    2021\n 0                Immediate relatives of U.S. citizens           385396\n 1                        Family-sponsored preferences            65690\n 2                        Employment-based preferences           193338\n 3                                           Diversity            15145\n 4                                            Refugees            35847\n 5                                             Asylees            20550\n 6                                            Parolees               13\n 7             Children born abroad to alien residents               75\n 8   Certain Iraqis and Afghans employed by U.S. Go...             8303\n 9                             Cancellation of removal             5017\n 10                       Victims of human trafficking              942\n 11   Victims of crimes and their spouses and children             9257\n 12                                              Other              429,\n                   Unnamed: 0  Average population[76][30][31]  Live births[77]  \\\n 0                       1935                       127250000          2377000   \n 1                       1936                       128053000          2355000   \n 2                       1937                       128825000          2413000   \n 3                       1938                       129825000          2496000   \n 4                       1939                       130880000          2466000   \n ..                       ...                             ...              ...   \n 82              2017[80][81]                       325122128          3855500   \n 83              2018[82][83]                       326838199          3791712   \n 84                      2019                       328329953          3747540   \n 85              2020[84][85]                       331501080          3613647   \n 86  2021[86][87][88][89][90]                       331893745          3664292   \n \n      Deaths  Natural change  Crude birth rate (per 1,000)  \\\n 0   1392752          984248                          18.7   \n 1   1479228          875772                          18.4   \n 2   1450427          962573                          18.7   \n 3   1381391         1114609                          19.2   \n 4   1387897         1078103                          18.8   \n ..      ...             ...                           ...   \n 82  2813503         1041997                          11.8   \n 83  2839205          952507                          11.6   \n 84  2854858          892682                          11.4   \n 85  3383729          229918                          10.9   \n 86  3464231          200061                          11.0   \n \n     Crude death rate (per 1,000)[78]  Natural change (per 1,000)  \\\n 0                               10.9                         7.7   \n 1                               11.5                         6.8   \n 2                               11.2                         7.5   \n 3                               10.6                         8.6   \n 4                               10.6                         8.2   \n ..                               ...                         ...   \n 82                               8.7                         3.1   \n 83                               8.7                         2.9   \n 84                               8.7                         2.7   \n 85                              10.2                         0.7   \n 86                              10.5                         0.5   \n \n     Total fertility rate[fn 1][79]  \n 0                            2.190  \n 1                            2.150  \n 2                            2.170  \n 3                            2.220  \n 4                            2.170  \n ..                             ...  \n 82                           1.765  \n 83                           1.729  \n 84                           1.706  \n 85                           1.641  \n 86                           1.664  \n \n [87 rows x 9 columns],\n                 Period       Live births            Deaths Natural increase\n 0  January — June 2021         1 752 000         1 684 000          +68 000\n 1  January — June 2022         1 765 000         1 671 000          +94 000\n 2           Difference  +13 000 (+0.74%)  -13 000 (-0.77%)          +26 000,\n     Year  Population\n 0   2017      325511\n 1   2018      327892\n 2   2019      330269\n 3   2020      332639\n 4   2021      334998\n 5   2022      337342\n 6   2023      339665\n 7   2024      341963\n 8   2025      344234\n 9   2026      346481\n 10  2027      348695\n 11  2028      350872\n 12  2029      353008\n 13  2030      355101\n 14  2031      357147\n 15  2032      359147\n 16  2033      361099\n 17  2034      363003\n 18  2035      364862\n 19  2036      366676\n 20  2037      368448\n 21  2038      370179\n 22  2039      371871\n 23  2040      373528\n 24  2041      375152\n 25  2042      376746\n 26  2043      378314\n 27  2044      379861\n 28  2045      381390\n 29  2046      382907\n 30  2047      384415\n 31  2048      385918\n 32  2049      387419\n 33  2050      388922\n 34  2051      390431\n 35  2052      391947\n 36  2053      393473\n 37  2054      395009\n 38  2055      396557\n 39  2056      398118\n 40  2057      399691\n 41  2058      401277\n 42  2059      402874\n 43  2060      404483,\n     0                                                  1\n 0 NaN  This section needs to be updated. The reason g...,\n                                 Historical population  \\\n                                                Census   \n 0                                                1790   \n 1                                                1800   \n 2                                                1810   \n 3                                                1820   \n 4                                                1830   \n 5                                                1840   \n 6                                                1850   \n 7                                                1860   \n 8                                                1870   \n 9                                                1880   \n 10                                               1890   \n 11                                               1900   \n 12                                               1910   \n 13                                               1920   \n 14                                               1930   \n 15                                               1940   \n 16                                               1950   \n 17                                               1960   \n 18                                               1970   \n 19                                               1980   \n 20                                               1990   \n 21                                               2000   \n 22                                               2010   \n 23                                               2020   \n 24  Sources: United States Census Bureau[93][94][9...   \n \n                                                        \\\n                                                  Pop.   \n 0                                             3929214   \n 1                                             5236631   \n 2                                             7239881   \n 3                                             9638453   \n 4                                            12866020   \n 5                                            17069453   \n 6                                            23191876   \n 7                                            31443321   \n 8                                            38558371   \n 9                                            49371340   \n 10                                           62979766   \n 11                                           76212168   \n 12                                           92228531   \n 13                                          106021568   \n 14                                          123202660   \n 15                                          132165129   \n 16                                          151325798   \n 17                                          179323175   \n 18                                          203211926   \n 19                                          226545805   \n 20                                          248709873   \n 21                                          281421906   \n 22                                          308745538   \n 23                                          331449281   \n 24  Sources: United States Census Bureau[93][94][9...   \n \n                                                        \\\n                                    Unnamed: 2_level_1   \n 0                                                 NaN   \n 1                                                 NaN   \n 2                                                 NaN   \n 3                                                 NaN   \n 4                                                 NaN   \n 5                                                 NaN   \n 6                                                 NaN   \n 7                                                 NaN   \n 8                                                 NaN   \n 9                                                 NaN   \n 10                                                NaN   \n 11                                                NaN   \n 12                                                NaN   \n 13                                                NaN   \n 14                                                NaN   \n 15                                                NaN   \n 16                                                NaN   \n 17                                                NaN   \n 18                                                NaN   \n 19                                                NaN   \n 20                                                NaN   \n 21                                                NaN   \n 22                                                NaN   \n 23                                                NaN   \n 24  Sources: United States Census Bureau[93][94][9...   \n \n                                                        \n                                                    %±  \n 0                                                   —  \n 1                                               33.3%  \n 2                                               38.3%  \n 3                                               33.1%  \n 4                                               33.5%  \n 5                                               32.7%  \n 6                                               35.9%  \n 7                                               35.6%  \n 8                                               22.6%  \n 9                                               28.0%  \n 10                                              27.6%  \n 11                                              21.0%  \n 12                                              21.0%  \n 13                                              15.0%  \n 14                                              16.2%  \n 15                                               7.3%  \n 16                                              14.5%  \n 17                                              18.5%  \n 18                                              13.3%  \n 19                                              11.5%  \n 20                                               9.8%  \n 21                                              13.2%  \n 22                                               9.7%  \n 23                                               7.4%  \n 24  Sources: United States Census Bureau[93][94][9...  ,\n                                 Years  1820  1830  1840  1850  1860  1870  \\\n 0  Median age of the total population  16.7  17.2  17.8  18.9  19.4  20.2   \n 1                 Median age of males  16.6  17.2  17.9  19.2  19.8  20.2   \n 2               Median age of females  16.8  17.3  17.8  18.6  19.1  20.1   \n \n    1880  1890  1900  \n 0  20.9  22.0  22.9  \n 1  21.2  22.3  23.3  \n 2  20.7  21.6  22.4  ,\n                                 Years  1910  1920  1930  1940  1950  1960  \\\n 0  Median age of the total population  24.1  25.3  26.5  29.0  30.2  29.6   \n 1                 Median age of males  24.6  25.8  26.7  29.1  29.9  28.7   \n 2               Median age of females  23.5  24.7  25.2  29.0  30.5  30.4   \n \n    1970  1980  1990  2000  2010  2018  2021  \n 0  28.1  30.0  32.9  35.3  37.2  38.2  38.8  \n 1  26.8  28.8  31.7  34.0  35.8  36.9  37.7  \n 2  29.8  31.2  34.1  36.5  38.5  39.5  39.8  ,\n                                        Years  1800  1810  1820  1830  1840  \\\n 0  Total Fertility Rate in the United States   7.0   6.9   6.7   6.6   6.1   \n \n    1850  1860  1870  1880  1890  1900[114]  \n 0   5.4   5.2   4.6   4.2   3.9        3.6  ,\n                                        Years  1910  1920  1930  1940  1950  \\\n 0  Total Fertility Rate in the United States   3.4   3.2   2.5   2.2   3.0   \n \n    1960  1970  1980  1990  2000  2010[114]  \n 0   3.5   2.5   1.8  2.08  2.06       1.93  ,\n                                   Years  1901  1902  1903  1904  1905  1906  \\\n 0  Life expectancy in the United States  49.3  50.5  50.6  49.6  50.3  50.2   \n \n    1907  1908  1909  1910[115]  \n 0  50.1  51.9  52.8       51.8  ,\n                                   Years  1911  1912  1913  1914  1915  1916  \\\n 0  Life expectancy in the United States  53.4  54.1  53.5  54.6  55.1  54.2   \n \n    1917  1918  1919  1920[115]  \n 0  54.0  47.0  55.3       55.4  ,\n                                   Years  1921  1922  1923  1924  1925  1926  \\\n 0  Life expectancy in the United States  58.2  58.1  57.5  58.5  58.5  57.9   \n \n    1927  1928  1929  1930[115]  \n 0  59.4  58.3  58.5       59.6  ,\n                                   Years  1931  1932  1933  1934  1935  1936  \\\n 0  Life expectancy in the United States  60.3  61.0  60.9  60.2  60.9  60.4   \n \n    1937  1938  1939  1940[115]  \n 0  61.1  62.4  63.1       63.2  ,\n                                   Years  1941  1942  1943  1944  1945  1946  \\\n 0  Life expectancy in the United States  63.8  64.6  64.3  65.1  65.6  66.3   \n \n    1947  1948  1949  1950[115]  \n 0  66.7  67.3  67.6       68.1  ,\n        Period Life expectancy in Years\n 0   1901–1909              49.3 – 52.8\n 1   1910–1919         53.5 – 55.3[116]\n 2   1920–1929              55.4 – 59.4\n 3   1930–1939              60.2 – 63.1\n 4   1940–1949              63.8 – 67.6\n 5   1950–1955                     68.7\n 6   1955–1960                     69.7\n 7   1960–1965                     70.1\n 8   1965–1970                     70.4\n 9   1970–1975                     71.4\n 10  1975–1980                     73.3\n 11  1980–1985                     74.4\n 12  1985–1990                     74.9\n 13  1990–1995                     75.7\n 14  1995–2000                     76.5\n 15  2000–2005                     77.2\n 16  2005–2010                     78.2\n 17  2010–2015                     78.9\n 18  2015–2020                     78.8,\n                 Ages   1900   1910   1920   1930   1940   1950   1960   1970  \\\n 0         0–14 years   34.5   32.1   31.8   29.4   25.0   26.9   31.1   28.5   \n 1        15–24 years   19.6   19.7   17.7   18.3   18.2   14.7   13.4   17.4   \n 2        25–44 years   28.1   29.2   29.6   29.5   30.1   30.0   26.2   23.6   \n 3        45–64 years   13.7   14.6   16.1   17.5   19.8   20.3   20.1   20.6   \n 4  65 years and over    4.1    4.3    4.7    5.4    6.8    8.1    9.2    9.9   \n 5          Total (%)  100.0  100.0  100.0  100.0  100.0  100.0  100.0  100.0   \n \n     1980   1990   2000  2010  2015  \n 0   22.6   21.5   21.4  20.2  19.8  \n 1   18.8   14.8   13.9   NaN   NaN  \n 2   27.7   32.5   30.2   NaN   NaN  \n 3   19.6   18.6   22.0   NaN   NaN  \n 4   11.3   12.6   12.4  13.0  14.3  \n 5  100.0  100.0  100.0  33.2  34.1  ,\n    .mw-parser-output .navbar{display:inline;font-size:88%;font-weight:normal}.mw-parser-output .navbar-collapse{float:left;text-align:left}.mw-parser-output .navbar-boxtext{word-spacing:0}.mw-parser-output .navbar ul{display:inline-block;white-space:nowrap;line-height:inherit}.mw-parser-output .navbar-brackets::before{margin-right:-0.125em;content:\"[ \"}.mw-parser-output .navbar-brackets::after{margin-left:-0.125em;content:\" ]\"}.mw-parser-output .navbar li{word-spacing:-0.125em}.mw-parser-output .navbar a>span,.mw-parser-output .navbar a>abbr{text-decoration:inherit}.mw-parser-output .navbar-mini abbr{font-variant:small-caps;border-bottom:none;text-decoration:none;cursor:inherit}.mw-parser-output .navbar-ct-full{font-size:114%;margin:0 7em}.mw-parser-output .navbar-ct-mini{font-size:114%;margin:0 4em}vte Largest metropolitan areas in United States 2021 MSA population estimates from the U.S. Census Bureau  \\\n                                                                                                                                                                                                                                                                                                                                                                                                                                                                                                                                                                                                                                                                                                                                                                                                                                                                                                                                   Unnamed: 0_level_1   \n 0                                New York Los Angeles                                                                                                                                                                                                                                                                                                                                                                                                                                                                                                                                                                                                                                                                                                                                                                                                                                                                                                  \n 1                                New York Los Angeles                                                                                                                                                                                                                                                                                                                                                                                                                                                                                                                                                                                                                                                                                                                                                                                                                                                                                                  \n 2                                New York Los Angeles                                                                                                                                                                                                                                                                                                                                                                                                                                                                                                                                                                                                                                                                                                                                                                                                                                                                                                  \n 3                                New York Los Angeles                                                                                                                                                                                                                                                                                                                                                                                                                                                                                                                                                                                                                                                                                                                                                                                                                                                                                                  \n 4                                New York Los Angeles                                                                                                                                                                                                                                                                                                                                                                                                                                                                                                                                                                                                                                                                                                                                                                                                                                                                                                  \n 5                                New York Los Angeles                                                                                                                                                                                                                                                                                                                                                                                                                                                                                                                                                                                                                                                                                                                                                                                                                                                                                                  \n 6                                New York Los Angeles                                                                                                                                                                                                                                                                                                                                                                                                                                                                                                                                                                                                                                                                                                                                                                                                                                                                                                  \n 7                                New York Los Angeles                                                                                                                                                                                                                                                                                                                                                                                                                                                                                                                                                                                                                                                                                                                                                                                                                                                                                                  \n 8                                New York Los Angeles                                                                                                                                                                                                                                                                                                                                                                                                                                                                                                                                                                                                                                                                                                                                                                                                                                                                                                  \n 9                                New York Los Angeles                                                                                                                                                                                                                                                                                                                                                                                                                                                                                                                                                                                                                                                                                                                                                                                                                                                                                                  \n 10                               New York Los Angeles                                                                                                                                                                                                                                                                                                                                                                                                                                                                                                                                                                                                                                                                                                                                                                                                                                                                                                  \n \n                                                            \\\n     Rank Unnamed: 2_level_1     Region        Pop. Rank.1   \n 0    1.0           New York  Northeast  19768458.0   11.0   \n 1    2.0        Los Angeles       West  12997353.0   12.0   \n 2    3.0            Chicago    Midwest   9509934.0   13.0   \n 3    4.0  Dallas–Fort Worth      South   7759615.0   14.0   \n 4    5.0            Houston      South   7206841.0   15.0   \n 5    6.0   Washington, D.C.      South   6356434.0   16.0   \n 6    7.0       Philadelphia  Northeast   6228601.0   17.0   \n 7    8.0            Atlanta      South   6144050.0   18.0   \n 8    9.0              Miami      South   6091747.0   19.0   \n 9   10.0            Phoenix       West   4946145.0   20.0   \n 10   NaN                NaN        NaN         NaN    NaN   \n \n                                                                        \n           Unnamed: 6_level_1   Region.1     Pop..1 Unnamed: 9_level_1  \n 0                     Boston  Northeast  4899932.0                NaN  \n 1   Riverside–San Bernardino       West  4653105.0                NaN  \n 2              San Francisco       West  4623264.0                NaN  \n 3                    Detroit    Midwest  4365205.0                NaN  \n 4                    Seattle       West  4011553.0                NaN  \n 5     Minneapolis–Saint Paul    Midwest  3690512.0                NaN  \n 6                  San Diego       West  3286069.0                NaN  \n 7       Tampa–St. Petersburg      South  3219514.0                NaN  \n 8                     Denver       West  2972566.0                NaN  \n 9                  Baltimore      South  2838327.0                NaN  \n 10                       NaN        NaN        NaN                NaN  ,\n                                                Race  \\\n 0                                             Total   \n 1                              White alone, percent   \n 2      White alone, not Hispanic or Latino, percent   \n 3          Black or African American alone, percent   \n 4  American Indian and Alaska Native alone, percent   \n 5                              Asian alone, percent   \n 6        Native Hawaiian and Other Pacific Islander   \n 7                        Two or More Races, percent   \n 8                        Two or More Races, percent   \n 9         Hispanic or Latino (of any race), percent   \n \n   Population (April 2021 est.)  \n 0                    331893745  \n 1                        75.8%  \n 2                        59.3%  \n 3                        13.6%  \n 4                         1.3%  \n 5                         6.1%  \n 6                         0.3%  \n 7                         2.9%  \n 8                         2.9%  \n 9                        18.9%  ,\n                                                  Race  Population (2017 est.)  \\\n 0                                               Total               321004407   \n 1                                            One race               310923363   \n 2                                               White               234370202   \n 3                           Black or African American                40610815   \n 4                   American Indian and Alaska Native                 2632102   \n 5                                               Asian                17186320   \n 6          Native Hawaiian and Other Pacific Islander                  570116   \n 7                                         Other races                15553808   \n 8                                   Two or more races                10081044   \n 9                 White and Black or African American                 2657560   \n 10        White and American Indian and Alaska Native                 1905946   \n 11                                    White and Asian                 2057321   \n 12  Black or African American and American Indian ...                  319097   \n 13                   Hispanic or Latino (of any race)                56510571   \n 14                                            Mexican                35709528   \n 15                                       Puerto Rican                 5418521   \n 16                                              Cuban                 2158962   \n 17                           Other Hispanic or Latino                13223560   \n 18                             Not Hispanic or Latino               264493836   \n 19                               White (non-Hispanic)               197277789   \n 20           Black or African American (non-Hispanic)                39445495   \n 21   American Indian and Alaska Native (non-Hispanic)                 2098763   \n 22                               Asian (non-Hispanic)                16989540   \n 23  Native Hawaiian and Other Pacific Islander (no...                  515522   \n 24                     Some other race (non-Hispanic)                  715432   \n 25                                  Two or more races                 7451295   \n \n    Share of total population  \n 0                       100%  \n 1                      96.9%  \n 2                      73.0%  \n 3                      12.7%  \n 4                       0.8%  \n 5                       5.4%  \n 6                       0.2%  \n 7                       4.8%  \n 8                       3.1%  \n 9                       0.8%  \n 10                      0.6%  \n 11                      0.6%  \n 12                      0.1%  \n 13                     17.6%  \n 14                     11.1%  \n 15                      1.7%  \n 16                      0.7%  \n 17                      4.1%  \n 18                     82.4%  \n 19                     61.5%  \n 20                     12.3%  \n 21                      0.7%  \n 22                      5.3%  \n 23                      0.2%  \n 24                      0.2%  \n 25                      2.3%  ,\n                                                Years  1900  1910  1920  1930  \\\n 0                                              White  87.9  88.9  89.7  89.8   \n 1                          Black or African American  11.6  10.7   9.9   9.7   \n 2                  American Indian and Alaska Native   NaN   NaN   NaN   NaN   \n 3  Asian and Native Hawaiian and other Pacific Is...   NaN   NaN   NaN   NaN   \n 4                                    Some other race   NaN   NaN   NaN   NaN   \n 5                                  Two or more races   NaN   NaN   NaN   NaN   \n 6                                            Sum (%)  99.5  99.6  99.6  99.5   \n \n    1940  1950  1960  1970   1980   1990  2000*  2010*  2020*  \n 0  89.8  89.5  88.6  87.5   83.0   80.3   75.1   72.4   61.6  \n 1   9.8  10.0  10.5  11.1   11.7   12.1   12.3   12.6   12.4  \n 2   NaN   NaN   NaN   NaN    0.8    0.8    0.9    0.9    1.1  \n 3   NaN   NaN   NaN   NaN    1.5    2.9    3.8    5.0    6.2  \n 4   NaN   NaN   NaN   NaN    3.0    3.9    5.5    6.2    8.4  \n 5   NaN   NaN   NaN   NaN    NaN    NaN    2.4    2.9   10.2  \n 6  99.6  99.5  99.1  98.6  100.0  100.0  100.0  100.0  100.0  ,\n                                          Race  \\\n 0                            Total Population   \n 1                        White (Non-Hispanic)   \n 2                   Black or African American   \n 3           American Indian and Alaska Native   \n 4                                       Asian   \n 5  Native Hawaiian and Other Pacific Islander   \n 6                           Two or More Races   \n 7                              Hispanic alone   \n 8                                Not Hispanic   \n \n    Median age (both sexes) (years)  Median age (male) (years)  \\\n 0                             38.8                       37.7   \n 1                             43.8                       42.6   \n 2                             34.5                       32.9   \n 3                             32.1                       31.8   \n 4                             37.7                       36.5   \n 5                             32.7                       32.5   \n 6                             21.1                       20.4   \n 7                             30.5                       30.2   \n 8                             41.0                       39.8   \n \n    Median age (female) (years)  \n 0                         39.8  \n 1                         45.0  \n 2                         36.1  \n 3                         32.5  \n 4                         38.9  \n 5                         32.9  \n 6                         21.8  \n 7                         30.8  \n 8                         42.1  ,\n                                          Race  \\\n 0                                       White   \n 1                   Black or African American   \n 2           American Indian and Alaska Native   \n 3                                       Asian   \n 4  Native Hawaiian and Other Pacific Islander   \n 5                        White (Non-Hispanic)   \n \n    Median age (both sexes) (years)  Median age (male) (years)  \\\n 0                             39.8                       38.9   \n 1                             32.7                       31.2   \n 2                             31.6                       30.9   \n 3                             35.4                       34.1   \n 4                             29.8                       29.3   \n 5                             42.8                       41.7   \n \n    Median age (female) (years)  \n 0                         40.8  \n 1                         34.2  \n 2                         32.2  \n 3                         36.6  \n 4                         30.3  \n 5                         44.0  ,\n     Race/ethnicity  White Black or African American Hispanic  Asian  \\\n 0  Most common age  58 yo                     27 yo    11 yo  29 yo   \n \n   American Indian and Alaska Native Native Hawaiian and Pacific Islander  \\\n 0                             26 yo                                28 yo   \n \n   Multiracial  \n 0        3 yo  ,\n       State or territory  Population (2015 est.)  White  \\\n 0                Alabama                 4830620  68.8%   \n 1                 Alaska                  733375  66.0%   \n 2                Arizona                 6641928  78.4%   \n 3               Arkansas                 2958208  78.0%   \n 4             California                38421464  61.8%   \n 5               Colorado                 5278906  84.2%   \n 6            Connecticut                 3593222  77.3%   \n 7               Delaware                  926454  69.4%   \n 8   District of Columbia                  647484  40.2%   \n 9                Florida                19645772  76.0%   \n 10               Georgia                10006693  60.2%   \n 11                Hawaii                 1406299  25.4%   \n 12                 Idaho                 1616547  91.7%   \n 13              Illinois                12873761  72.3%   \n 14               Indiana                 6568645  84.2%   \n 15                  Iowa                 3093526  91.2%   \n 16                Kansas                 2892987  85.2%   \n 17              Kentucky                 4397353  87.6%   \n 18             Louisiana                 4625253  62.8%   \n 19                 Maine                 1329100  95.0%   \n 20              Maryland                 5930538  57.6%   \n 21         Massachusetts                 6705586  79.6%   \n 22              Michigan                 9900571  79.0%   \n 23             Minnesota                 5419171  84.8%   \n 24           Mississippi                 2988081  59.2%   \n 25              Missouri                 6045448  82.6%   \n 26               Montana                 1014699  89.2%   \n 27              Nebraska                 1869365  88.1%   \n 28                Nevada                 2798636  69.0%   \n 29         New Hampshire                 1324201  93.7%   \n 30            New Jersey                 8904413  68.3%   \n 31            New Mexico                 2084117  73.2%   \n 32              New York                19673174  64.6%   \n 33        North Carolina                 9845333  69.5%   \n 34          North Dakota                  721640  88.7%   \n 35                  Ohio                11575977  82.4%   \n 36              Oklahoma                 3849733  73.1%   \n 37                Oregon                 3939233  85.1%   \n 38          Pennsylvania                12779559  81.6%   \n 39           Puerto Rico                 3583073  69.7%   \n 40          Rhode Island                 1053661  81.1%   \n 41        South Carolina                 4777576  67.2%   \n 42          South Dakota                  843190  85.0%   \n 43             Tennessee                 6499615  77.8%   \n 44                 Texas                26538614  74.9%   \n 45                  Utah                 2903379  87.6%   \n 46               Vermont                  626604  94.9%   \n 47              Virginia                 8256630  69.0%   \n 48            Washington                 6985464  77.8%   \n 49         West Virginia                 1851420  93.6%   \n 50             Wisconsin                 5742117  86.5%   \n 51               Wyoming                  579679  91.0%   \n \n    Black or African American American Indian and Alaska Native  Asian  \\\n 0                      26.4%                              0.5%   1.2%   \n 1                       3.4%                             13.8%   5.9%   \n 2                       4.2%                              4.4%   3.0%   \n 3                      15.5%                              0.6%   1.4%   \n 4                       5.9%                              0.7%  13.7%   \n 5                       4.0%                              0.9%   2.9%   \n 6                      10.3%                              0.2%   4.2%   \n 7                      21.6%                              0.3%   3.6%   \n 8                      48.9%                              0.3%   3.7%   \n 9                      16.1%                              0.3%   2.6%   \n 10                     30.9%                              0.3%   3.6%   \n 11                      2.0%                              0.2%  37.7%   \n 12                      0.6%                              1.3%   1.3%   \n 13                     14.3%                              0.2%   5.0%   \n 14                      9.2%                              0.2%   1.9%   \n 15                      3.2%                              0.3%   2.0%   \n 16                      5.8%                              0.8%   2.6%   \n 17                      7.9%                              0.2%   1.3%   \n 18                     32.1%                              0.6%   1.7%   \n 19                      1.1%                              0.6%   1.1%   \n 20                     29.5%                              0.3%   6.0%   \n 21                      7.1%                              0.2%   6.0%   \n 22                     14.0%                              0.5%   2.7%   \n 23                      5.5%                              1.0%   4.4%   \n 24                     37.4%                              0.4%   1.0%   \n 25                     11.5%                              0.4%   1.8%   \n 26                      0.5%                              6.5%   0.7%   \n 27                      4.7%                              0.9%   2.0%   \n 28                      8.4%                              1.1%   7.7%   \n 29                      1.3%                              0.2%   2.4%   \n 30                     13.5%                              0.2%   9.0%   \n 31                      2.1%                              9.1%   1.4%   \n 32                     15.6%                              0.4%   8.0%   \n 33                     21.5%                              1.2%   2.5%   \n 34                      1.6%                              5.3%   1.2%   \n 35                     12.2%                              0.2%   1.9%   \n 36                      7.2%                              7.3%   1.9%   \n 37                      1.8%                              1.2%   4.0%   \n 38                     11.0%                              0.2%   3.1%   \n 39                      8.4%                              0.3%   0.3%   \n 40                      6.5%                              0.5%   3.2%   \n 41                     27.5%                              0.3%   1.4%   \n 42                      1.6%                              8.6%   1.2%   \n 43                     16.8%                              0.3%   1.6%   \n 44                     11.9%                              0.5%   4.2%   \n 45                      1.1%                              1.1%   2.2%   \n 46                      1.1%                              0.3%   1.4%   \n 47                     19.2%                              0.3%   6.0%   \n 48                      3.6%                              1.3%   7.7%   \n 49                      3.3%                              0.2%   0.7%   \n 50                      6.3%                              0.9%   2.5%   \n 51                      1.1%                              2.2%   0.9%   \n \n    Native Hawaiian and Other Pacific Islander Some other race  \\\n 0                                        0.1%            1.3%   \n 1                                        1.2%            1.3%   \n 2                                        0.2%            6.5%   \n 3                                        0.2%            2.1%   \n 4                                        0.4%           12.9%   \n 5                                        0.1%            4.3%   \n 6                                        0.0%            5.1%   \n 7                                        0.0%            2.3%   \n 8                                        0.0%            4.2%   \n 9                                        0.1%            2.5%   \n 10                                       0.0%            2.8%   \n 11                                       9.9%            1.1%   \n 12                                       0.1%            2.4%   \n 13                                       0.0%            5.8%   \n 14                                       0.0%            2.3%   \n 15                                       0.1%            1.3%   \n 16                                       0.1%            2.2%   \n 17                                       0.0%            0.9%   \n 18                                       0.0%            1.0%   \n 19                                       0.0%            0.2%   \n 20                                       0.0%            3.6%   \n 21                                       0.0%            4.2%   \n 22                                       0.0%            1.1%   \n 23                                       0.0%            1.5%   \n 24                                       0.0%            0.9%   \n 25                                       0.1%            1.1%   \n 26                                       0.1%            0.5%   \n 27                                       0.1%            1.9%   \n 28                                       0.6%            8.8%   \n 29                                       0.0%            0.5%   \n 30                                       0.0%            6.4%   \n 31                                       0.1%           10.9%   \n 32                                       0.0%            8.6%   \n 33                                       0.1%            3.0%   \n 34                                       0.0%            0.8%   \n 35                                       0.0%            0.8%   \n 36                                       0.1%            2.6%   \n 37                                       0.4%            3.4%   \n 38                                       0.0%            2.0%   \n 39                                       0.0%           12.0%   \n 40                                       0.0%            5.8%   \n 41                                       0.1%            1.5%   \n 42                                       0.0%            0.9%   \n 43                                       0.1%            1.5%   \n 44                                       0.1%            6.0%   \n 45                                       0.9%            4.5%   \n 46                                       0.0%            0.3%   \n 47                                       0.1%            2.2%   \n 48                                       0.6%            3.8%   \n 49                                       0.0%            0.2%   \n 50                                       0.0%            1.7%   \n 51                                       0.1%            2.1%   \n \n    Two or more races  \n 0               1.7%  \n 1               8.4%  \n 2               3.2%  \n 3               2.1%  \n 4               4.5%  \n 5               3.5%  \n 6               2.8%  \n 7               2.7%  \n 8               2.7%  \n 9               2.4%  \n 10              2.1%  \n 11             23.7%  \n 12              2.6%  \n 13              2.2%  \n 14              2.2%  \n 15              2.0%  \n 16              3.3%  \n 17              2.1%  \n 18              1.8%  \n 19              2.0%  \n 20              3.0%  \n 21              2.9%  \n 22              2.6%  \n 23              2.7%  \n 24              1.2%  \n 25              2.4%  \n 26              2.5%  \n 27              2.2%  \n 28              4.4%  \n 29              1.8%  \n 30              2.5%  \n 31              3.3%  \n 32              2.9%  \n 33              2.4%  \n 34              2.2%  \n 35              2.5%  \n 36              7.8%  \n 37              4.1%  \n 38              2.1%  \n 39              9.3%  \n 40              2.8%  \n 41              2.0%  \n 42              2.6%  \n 43              2.0%  \n 44              2.5%  \n 45              2.6%  \n 46              1.9%  \n 47              3.2%  \n 48              5.2%  \n 49              2.0%  \n 50              2.1%  \n 51              2.7%  ,\n                   Territory  Population (2010 est.)  White  \\\n 0            American Samoa                   55519   0.9%   \n 1                      Guam                  159358   7.1%   \n 2  Northern Mariana Islands                   53883   2.1%   \n 3       U.S. Virgin Islands                  106405  15.6%   \n \n   Black or African American American Indian and Alaska Native  Asian  \\\n 0                      0.0%                                 —   3.6%   \n 1                      1.0%                                 —  32.2%   \n 2                      0.1%                                 —  49.9%   \n 3                     76.0%                                 —   1.4%   \n \n   Native Hawaiian and Other Pacific Islander Some other race Two or more races  \n 0                                      92.6%            0.1%              2.7%  \n 1                                      49.3%            0.3%              9.4%  \n 2                                      34.9%            0.2%             12.7%  \n 3                                       0.0%            4.9%              2.1%  ,\n    Year White Alone Black Alone Hispanic Native American Alone Asian Alone  \\\n 0  2018       51.6%       14.6%    23.4%                  0.8%        6.4%   \n \n   Pacific Islander Alone  \n 0                   0.3%  ,\n    Year White Black or African American Hispanic Asian Pacific Islander  \\\n 0  2000   60%                       15%      16%    3%                —   \n 1  2017   51%                       14%      25%    5%                —   \n \n   American Indian Alaska Native Two or more races  \n 0                            1%                2%  \n 1                            1%                4%  ,\n    Year White Black or African American Hispanic Asian Pacific Islander  \\\n 0  2000   62%                       14%      18%    4%                —   \n 1  2017   54%                       14%      22%    6%                —   \n \n   American Indian Alaska Native Two or more races  \n 0                            1%                1%  \n 1                            1%                3%  ,\n             Age group  85+ 80–84 75–79 70–74 65–69 60–64 55–59 50–54 45–49  \\\n 0  non-Hispanic white  83%   81%   79%   78%   77%   74%   72%   69%   65%   \n 1            Minority  17%   19%   21%   22%   23%   26%   28%   31%   35%   \n \n   40–44 35–39 30–34 25–29 20–24 15–19 10–14  5–9   <5  \n 0   61%   58%   57%   57%   56%   55%   54%  52%  50%  \n 1   39%   42%   43%   43%   44%   45%   46%  48%  50%  ,\n                   Hispanic or Latino and Race  Population (2015 est.)  \\\n 0                    United States population               316515021   \n 1            Hispanic or Latino (of any race)                54232205   \n 2                                       White                35684777   \n 3                   Black or African American                 1122369   \n 4           American Indian and Alaska Native                  490557   \n 5                                       Asian                  181231   \n 6  Native Hawaiian and Other Pacific Islander                   46724   \n 7                             Some other race                14226829   \n 8                           Two or more races                 2479718   \n 9                      Not Hispanic or Latino               262282816   \n \n   Percentage of total population  \n 0                           100%  \n 1                          17.1%  \n 2                          11.3%  \n 3                           0.3%  \n 4                           0.1%  \n 5                           0.0%  \n 6                           0.0%  \n 7                           4.5%  \n 8                           0.8%  \n 9                          82.9%  ,\n                     Years   1970   1980   1990   2000   2010   2020\n 0  Not Hispanic or Latino   95.5   93.6   91.0   87.5   83.7   81.3\n 1      Hispanic or Latino    4.5    6.4    9.0   12.5   16.3   18.7\n 2               Total (%)  100.0  100.0  100.0  100.0  100.0  100.0,\n                                          Race  Median age (both sex) (years)  \\\n 0                            Total (Hispanic)                           30.5   \n 1                                       White                           31.2   \n 2                   Black or African American                           27.1   \n 3           American Indian and Alaska Native                           28.4   \n 4                                       Asian                           26.9   \n 5  Native Hawaiian and Other Pacific Islander                           27.8   \n 6                           Two or More Races                           21.5   \n \n    Median age (male) (years)  Median age (female) (years)  \n 0                       30.2                         30.8  \n 1                       30.9                         31.5  \n 2                       26.1                         28.2  \n 3                       29.0                         27.8  \n 4                       26.2                         27.7  \n 5                       28.3                         27.2  \n 6                       21.1                         22.0  ,\n                                          Race  Median age (both sex) (years)  \\\n 0                                       White                           30.9   \n 1                   Black or African American                           25.3   \n 2           American Indian and Alaska Native                           27.6   \n 3                                       Asian                           23.0   \n 4  Native Hawaiian and Other Pacific Islander                           24.8   \n \n    Median age (male) (years)  Median age (female) (years)  \n 0                       30.6                         31.1  \n 1                       24.3                         26.3  \n 2                       27.8                         27.3  \n 3                       22.3                         23.7  \n 4                       24.9                         24.7  ,\n                         Unnamed: 0                   2015  \\\n 0                 White Americans1                  77.4%   \n 1            > Non-Hispanic Whites                  61.8%   \n 2                 Black Americans1                  13.2%   \n 3                 Asian Americans1                   5.3%   \n 4           Multiracial Americans1                   2.6%   \n 5  Hispanics/Latinos (of any race)                  17.8%   \n 6            1 Including Hispanics  1 Including Hispanics   \n \n                     2050  \n 0                  70.8%  \n 1                  46.6%  \n 2                  14.4%  \n 3                   7.7%  \n 4                   5.4%  \n 5                  28.0%  \n 6  1 Including Hispanics  ,\n                                           Unnamed: 0  \\\n 0                                    White Americans   \n 1                                 Hispanic Americans   \n 2                                    Black Americans   \n 3                                    Asian Americans   \n 4  Note: All races modified and not Hispanic; Ame...   \n \n                                                 1960  \\\n 0                                                85%   \n 1                                               3.5%   \n 2                                                11%   \n 3                                               0.6%   \n 4  Note: All races modified and not Hispanic; Ame...   \n \n                                                 2005  \\\n 0                                                67%   \n 1                                                14%   \n 2                                                13%   \n 3                                                 5%   \n 4  Note: All races modified and not Hispanic; Ame...   \n \n                                                 2050  \n 0                                                47%  \n 1                                                29%  \n 2                                                14%  \n 3                                                 9%  \n 4  Note: All races modified and not Hispanic; Ame...  ,\n                   Years  1970  1980  1990  2000  2010  2020  2030  2040  2042\n 0  Percent minority (%)  16.5  20.4  24.4  30.9  36.3  39.9  44.5  49.2  50.1,\n    Year  Projection (Census Bureau)[148] (thousands)  \\\n 0  2010                                       310233   \n 1  2020                                       332639   \n 2  2030                                       373504   \n 3  2040                                       405655   \n 4  2050                                       439010   \n \n    Projection (UN)[157] (thousands)  Actual result  \n 0                            309011    308745538.0  \n 1                            331003    331449281.0  \n 2                            349642            NaN  \n 3                            366572            NaN  \n 4                            379419            NaN  ,\n                          Place of birth  Estimate  \\\n 0                              Americas  23241959   \n 1                             Caribbean   4414943   \n 2                                > Cuba   1311803   \n 3                  > Dominican Republic   1162568   \n 4    Central America (including Mexico)  14796926   \n 5                              > Mexico  11269913   \n 6                         > El Salvador   1401832   \n 7                         South America   3213187   \n 8                              > Canada    809267   \n 9                                Europe   4818662   \n 10                      Northern Europe    941796   \n 11                       Western Europe    949591   \n 12                      Southern Europe    761390   \n 13                       Eastern Europe   2153855   \n 14                                 Asia  13907844   \n 15                         Eastern Asia   4267303   \n 16                              > China   2639365   \n 17                              > Korea   1064960   \n 18                   South Central Asia   4113013   \n 19                              > India   2348687   \n 20                   South Eastern Asia   4318647   \n 21                        > Philippines   1945345   \n 22                            > Vietnam   1314927   \n 23                         Western Asia   1159835   \n 24                               Africa   2293028   \n 25                       Eastern Africa    693784   \n 26                        Middle Africa    163364   \n 27                      Northern Africa    359559   \n 28                      Southern Africa    116297   \n 29                       Western Africa    837290   \n 30                              Oceania    263965   \n 31  Australia and New Zealand Subregion    123080   \n \n    Percentage of total foreign-born people  \n 0                                    52.2%  \n 1                                     9.9%  \n 2                                     3.0%  \n 3                                     2.6%  \n 4                                    33.2%  \n 5                                    25.3%  \n 6                                     3.2%  \n 7                                     7.2%  \n 8                                     1.8%  \n 9                                    10.8%  \n 10                                    2.1%  \n 11                                    2.1%  \n 12                                    1.7%  \n 13                                    4.8%  \n 14                                   31.2%  \n 15                                    9.6%  \n 16                                    5.9%  \n 17                                    2.4%  \n 18                                    9.2%  \n 19                                    5.3%  \n 20                                    6.7%  \n 21                                    4.4%  \n 22                                    3.0%  \n 23                                    2.6%  \n 24                                    5.2%  \n 25                                    1.6%  \n 26                                    0.4%  \n 27                                    0.8%  \n 28                                    0.2%  \n 29                                    1.9%  \n 30                                    0.6%  \n 31                                    0.3%  ,\n                              Religious body Year reported Places of worship  \\\n 0        African Methodist Episcopal Church          1999           no data   \n 1   African Methodist Episcopal Zion Church          2002              3226   \n 2              American Baptist Association          2009        1,600[174]   \n 3                          Amish, Old Order          1993               898   \n 4             American Baptist Churches USA          2017              5057   \n ..                                      ...           ...               ...   \n 81    United House of Prayer for All People       no data               100   \n 82             United Methodist Church, The          2018             36170   \n 83                     Wesleyan Church, The          1998              1590   \n 84     Wisconsin Evangelical Lutheran Synod          2018        1,281[198]   \n 85                           Zoroastrianism          2006           no data   \n \n    Membership (thousands)   Clergy  \n 0                    2500     7741  \n 1                    1431     3252  \n 2                100[174]     1740  \n 3                     227     3592  \n 4              1,146[175]     4145  \n ..                    ...      ...  \n 81                     25  no data  \n 82             6,672[197]  no data  \n 83                    120     1806  \n 84               359[198]     1222  \n 85                     11  no data  \n \n [86 rows x 5 columns],\n                                Group  1990 adults × 1,000  \\\n 0            Adult population, total               175440   \n 1        Adult population, Responded               171409   \n 2                    Total Christian               151225   \n 3                           Catholic                46004   \n 4             Non-Catholic Christian               105221   \n 5                            Baptist                33964   \n 6                Mainline Protestant                32784   \n 7                          Methodist                14174   \n 8                           Lutheran                 9110   \n 9                       Presbyterian                 4985   \n 10             Episcopalian/Anglican                 3043   \n 11           United Church of Christ                  438   \n 12                 Christian Generic                25980   \n 13                 Jehovah's Witness                 1381   \n 14             Christian Unspecified                 8073   \n 15      Non-denominational Christian                  194   \n 16          Protestant – Unspecified                17214   \n 17            Evangelical/Born Again                  546   \n 18           Pentecostal/Charismatic                 5647   \n 19         Pentecostal – Unspecified                 3116   \n 20                 Assemblies of God                  617   \n 21                     Church of God                  590   \n 22     Other Protestant Denomination                 4630   \n 23             Seventh-Day Adventist                  668   \n 24                Churches of Christ                 1769   \n 25          Mormon/Latter-Day Saints                 2487   \n 26     Total non-Christian religions                 5853   \n 27                            Jewish                 3137   \n 28                 Eastern Religions                  687   \n 29                          Buddhist                  404   \n 30                            Muslim                  527   \n 31  New Religious Movements & Others                 1296   \n 32          None/ No religion, total                14331   \n 33                  Agnostic+Atheist                 1186   \n 34    Did Not Know/ Refused to reply                 4031   \n \n     2001 adults × 1,000  2008 adults × 1,000  \\\n 0                207983               228182   \n 1                196683               216367   \n 2                159514               173402   \n 3                 50873                57199   \n 4                108641               116203   \n 5                 33820                36148   \n 6                 35788                29375   \n 7                 14039                11366   \n 8                  9580                 8674   \n 9                  5596                 4723   \n 10                 3451                 2405   \n 11                 1378                  736   \n 12                22546                32441   \n 13                 1331                 1914   \n 14                14190                16384   \n 15                 2489                 8032   \n 16                 4647                 5187   \n 17                 1088                 2154   \n 18                 7831                 7948   \n 19                 4407                 5416   \n 20                 1105                  810   \n 21                  943                  663   \n 22                 5949                 7131   \n 23                  724                  938   \n 24                 2593                 1921   \n 25                 2697                 3158   \n 26                 7740                 8796   \n 27                 2837                 2680   \n 28                 2020                 1961   \n 29                 1082                 1189   \n 30                 1104                 1349   \n 31                 1770                 2804   \n 32                29481                34169   \n 33                 1893                 3606   \n 34                11300                11815   \n \n    Numerical Change 1990– 2008 as % of 1990 1990 % of adults 2001 % of adults  \\\n 0                                     30.1%              NaN              NaN   \n 1                                     26.2%            97.7%            94.6%   \n 2                                     14.7%            86.2%            76.7%   \n 3                                     24.3%            26.2%            24.5%   \n 4                                     10.4%            60.0%            52.2%   \n 5                                      6.4%            19.4%            16.3%   \n 6                                    −10.4%            18.7%            17.2%   \n 7                                    −19.8%             8.1%             6.8%   \n 8                                     −4.8%             5.2%             4.6%   \n 9                                     −5.3%             2.8%             2.7%   \n 10                                   −21.0%             1.7%             1.7%   \n 11                                    68.0%             0.2%             0.7%   \n 12                                    24.9%            14.8%            10.8%   \n 13                                    38.6%             0.8%             0.6%   \n 14                                   102.9%             4.6%             6.8%   \n 15                                  4040.2%             0.1%             1.2%   \n 16                                   −69.9%             9.8%             2.2%   \n 17                                   294.5%             0.3%             0.5%   \n 18                                    40.7%             3.2%             3.8%   \n 19                                    73.8%             1.8%             2.1%   \n 20                                    31.3%             0.4%             0.5%   \n 21                                    12.4%             0.3%             0.5%   \n 22                                    54.0%             2.6%             2.9%   \n 23                                    40.4%             0.4%             0.3%   \n 24                                     8.6%             1.0%             1.2%   \n 25                                    27.0%             1.4%             1.3%   \n 26                                    50.3%             3.3%             3.7%   \n 27                                   −14.6%             1.8%             1.4%   \n 28                                   185.4%             0.4%             1.0%   \n 29                                   194.3%             0.2%             0.5%   \n 30                                   156.0%             0.3%             0.5%   \n 31                                   116.4%             0.7%             0.9%   \n 32                                   138.4%             8.2%            14.2%   \n 33                                   204.0%             0.7%             0.9%   \n 34                                   193.1%             2.3%             5.4%   \n \n    2008 % of adults change in % of total adults 1990– 2008  \n 0               NaN                                    NaN  \n 1             94.8%                                  −2.9%  \n 2             76.0%                                 −10.2%  \n 3             25.1%                                  −1.2%  \n 4             50.9%                                  −9.0%  \n 5             15.8%                                  −3.5%  \n 6             12.9%                                  −5.8%  \n 7              5.0%                                  −3.1%  \n 8              3.8%                                  −1.4%  \n 9              2.1%                                  −0.8%  \n 10             1.1%                                  −0.7%  \n 11             0.3%                                   0.1%  \n 12            14.2%                                  −0.6%  \n 13             0.8%                                   0.1%  \n 14             7.2%                                   2.6%  \n 15             3.5%                                   3.4%  \n 16             2.3%                                  −7.5%  \n 17             0.9%                                   0.6%  \n 18             3.5%                                   0.3%  \n 19             2.4%                                   0.6%  \n 20             0.4%                                   0.0%  \n 21             0.3%                                   0.0%  \n 22             3.1%                                   0.5%  \n 23             0.4%                                   0.0%  \n 24             0.8%                                  −0.2%  \n 25             1.4%                                   0.0%  \n 26             3.9%                                   0.5%  \n 27             1.2%                                  −0.6%  \n 28             0.9%                                   0.5%  \n 29             0.5%                                   0.3%  \n 30             0.6%                                   0.3%  \n 31             1.2%                                   0.5%  \n 32            15.0%                                   6.8%  \n 33             1.6%                                   0.9%  \n 34             5.2%                                   2.9%  ,\n   Type of household                                         \\\n      All households Family households Nonfamily households   \n 0           $70,784           $91,162              $41,797   \n \n   Race and Hispanic origin                                                     \\\n                      Asian Non-Hispanic White Hispanic (of any race)    Black   \n 0                 $101,418            $77,999                $57,981  $48,297   \n \n      Region                             \n   Northeast  Midwest    South     West  \n 0   $77,422  $71,129  $63,368  $79,430  ,\n                                   Age of Householder  \\\n                                       Under 65 years   \n 0                                            $80,734   \n 1  *Householders aged 25 and older. In 2021, the ...   \n \n                                                       \\\n                                   65 years and older   \n 0                                            $47,620   \n 1  *Householders aged 25 and older. In 2021, the ...   \n \n                                                       \\\n                                          Native-born   \n 0                                            $71,522   \n 1  *Householders aged 25 and older. In 2021, the ...   \n \n                              Nativity of Householder  \\\n                                         Foreign-born   \n 0                                            $66,043   \n 1  *Householders aged 25 and older. In 2021, the ...   \n \n                                                       \\\n                                           Inside MSA   \n 0                                            $73,823   \n 1  *Householders aged 25 and older. In 2021, the ...   \n \n           Metropolitan Statistical Area (MSA) Status  \\\n                                          Outside MSA   \n 0                                            $53,750   \n 1  *Householders aged 25 and older. In 2021, the ...   \n \n                                                       \\\n                               No high school diploma   \n 0                                            $30,378   \n 1  *Householders aged 25 and older. In 2021, the ...   \n \n               Educational Attainment of Householder*  \\\n                              High school, no college   \n 0                                            $50,401   \n 1  *Householders aged 25 and older. In 2021, the ...   \n \n                                                       \\\n                                         Some college   \n 0                                            $64,378   \n 1  *Householders aged 25 and older. In 2021, the ...   \n \n                                                                           \n                          Bachelor's degree or higher Unnamed: 10_level_1  \n 0                                           $115,456                 NaN  \n 1  *Householders aged 25 and older. In 2021, the ...                 NaN  ,\n   Total workers                   Full-Time, year-round workers           \\\n      Both sexes     Male   Female                    Both sexes     Male   \n 0       $45,470  $50,983  $39,201                       $56,473  $61,180   \n \n             \n     Female  \n 0  $51,226  ,\n                                 Measure                 Overall  \\\n 0         Persons, age 25+ w/ earnings*                 $46,985   \n 1            Male, age 25+ w/ earnings*                 $52,298   \n 2          Female, age 25+ w/ earnings*                 $40,392   \n 3  Persons, age 25+, employed full-time                 $59,371   \n 4                             Household                 $69,228   \n 5                *Total work experience  *Total work experience   \n \n       Less than 9th grade        Some High School    High school graduate  \\\n 0                 $25,162                 $26,092                 $34,540   \n 1                 $30,089                 $31,097                 $40,852   \n 2                 $18,588                 $19,504                 $27,320   \n 3                 $33,945                 $34,897                 $42,417   \n 4                 $29,609                 $29,520                 $47,405   \n 5  *Total work experience  *Total work experience  *Total work experience   \n \n              Some college      Associate's degree Bachelor's degree or higher  \\\n 0                 $39,362                 $42,391                     $66,423   \n 1                 $47,706                 $52,450                     $80,192   \n 2                 $31,837                 $36,298                     $57,355   \n 3                 $50,640                 $52,285                     $77,105   \n 4                 $60,392                 $68,769                    $106,936   \n 5  *Total work experience  *Total work experience      *Total work experience   \n \n         Bachelor's degree         Master's degree Professional degree  \\\n 0                 $60,705                 $71,851            $102,741   \n 1                 $71,666                 $91,141            $126,584   \n 2                 $51,154                 $62,522             $92,780   \n 3                 $71,283                 $82,183            $130,466   \n 4                $100,128                $114,900            $151,560   \n 5  *Total work experience  *Total work experience                 NaN   \n \n   Doctorate degree  \n 0         $101,526  \n 1         $121,956  \n 2          $85,551  \n 3         $119,552  \n 4         $142,493  \n 5              NaN  ,\n                                      10th percentile  \\\n 0                                          ≤ $15,700   \n 1  Source: US Census Bureau, 2021; income statist...   \n \n                                      20th percentile  \\\n 0                                          ≤ $28,000   \n 1  Source: US Census Bureau, 2021; income statist...   \n \n                                      30th percentile  \\\n 0                                          ≤ $40,500   \n 1  Source: US Census Bureau, 2021; income statist...   \n \n                                      40th percentile  \\\n 0                                          ≤ $55,000   \n 1  Source: US Census Bureau, 2021; income statist...   \n \n                                      50th percentile  \\\n 0                                            $70,800   \n 1  Source: US Census Bureau, 2021; income statist...   \n \n                                      60th percentile  \\\n 0                                          ≤ $89,700   \n 1  Source: US Census Bureau, 2021; income statist...   \n \n                                      70th percentile  \\\n 0                                         ≤ $113,200   \n 1  Source: US Census Bureau, 2021; income statist...   \n \n                                      80th percentile  \\\n 0                                         ≤ $149,100   \n 1  Source: US Census Bureau, 2021; income statist...   \n \n                                      90th percentile  \\\n 0                                         ≤ $212,100   \n 1  Source: US Census Bureau, 2021; income statist...   \n \n                                      95th percentile  \n 0                                         ≤ $286,300  \n 1  Source: US Census Bureau, 2021; income statist...  ,\n                                 Dennis Gilbert, 2002  \\\n                                                Class   \n 0                              Capitalist class (1%)   \n 1                        Upper middle class[1] (15%)   \n 2                        Upper middle class[1] (15%)   \n 3                           Lower middle class (30%)   \n 4                                Working class (30%)   \n 5                                Working class (30%)   \n 6                                 Working poor (13%)   \n 7                                 Working poor (13%)   \n 8                                   Underclass (12%)   \n 9  References: Gilbert, D. (2002) The American Cl...   \n \n                                                       \\\n                              Typical characteristics   \n 0  Top-level executives, high-rung politicians, h...   \n 1  Highly-educated (often with graduate degrees),...   \n 2  Highly-educated (often with graduate degrees),...   \n 3  Semi-professionals and craftsmen with a roughl...   \n 4  Clerical and most blue-collar workers whose wo...   \n 5  Clerical and most blue-collar workers whose wo...   \n 6  Service, low-rung clerical and some blue-colla...   \n 7  Service, low-rung clerical and some blue-colla...   \n 8  Those with limited or no participation in the ...   \n 9  References: Gilbert, D. (2002) The American Cl...   \n \n               William Thompson & Joseph Hickey, 2005  \\\n                                                Class   \n 0                                   Upper class (1%)   \n 1                        Upper middle class[1] (15%)   \n 2                        Upper middle class[1] (15%)   \n 3                           Lower middle class (32%)   \n 4                           Lower middle class (32%)   \n 5                                Working class (32%)   \n 6                                Working class (32%)   \n 7                           Lower class (ca. 14–20%)   \n 8                           Lower class (ca. 14–20%)   \n 9  References: Gilbert, D. (2002) The American Cl...   \n \n                                                       \\\n                              Typical characteristics   \n 0  Top-level executives, celebrities, heirs; inco...   \n 1  Highly-educated (often with graduate degrees) ...   \n 2  Highly-educated (often with graduate degrees) ...   \n 3  Semi-professionals and craftsmen with some wor...   \n 4  Semi-professionals and craftsmen with some wor...   \n 5  Clerical, pink- and blue-collar workers with o...   \n 6  Clerical, pink- and blue-collar workers with o...   \n 7  Those who occupy poorly-paid positions or rely...   \n 8  Those who occupy poorly-paid positions or rely...   \n 9  References: Gilbert, D. (2002) The American Cl...   \n \n                               Leonard Beeghley, 2004  \\\n                                                Class   \n 0                              The super-rich (0.9%)   \n 1                                      The rich (5%)   \n 2       Middle class (plurality/ majority?; ca. 46%)   \n 3       Middle class (plurality/ majority?; ca. 46%)   \n 4       Middle class (plurality/ majority?; ca. 46%)   \n 5                         Working class (ca. 40–45%)   \n 6                         Working class (ca. 40–45%)   \n 7                         Working class (ca. 40–45%)   \n 8                                 The poor (ca. 12%)   \n 9  References: Gilbert, D. (2002) The American Cl...   \n \n                                                       \n                              Typical characteristics  \n 0  Multi-millionaires whose incomes commonly exce...  \n 1  Households with net worth of $1 million or mor...  \n 2  College-educated workers with considerably hig...  \n 3  College-educated workers with considerably hig...  \n 4  College-educated workers with considerably hig...  \n 5  Blue-collar workers and those whose jobs are h...  \n 6  Blue-collar workers and those whose jobs are h...  \n 7  Blue-collar workers and those whose jobs are h...  \n 8  Those living below the poverty line with limit...  \n 9  References: Gilbert, D. (2002) The American Cl...  ,\n    Age group (2010) Total (of population) White alone (of race/age group)  \\\n 0             Total      308745538 (100%)               223553265 (72.4%)   \n 1               0–4       20201362 (6.5%)           12795675 (5.7%/63.3%)   \n 2               5–9       20348657 (6.6%)           13293799 (5.9%/65.3%)   \n 3             10–14       20677194 (6.7%)           13737332 (6.1%/66.4%)   \n 4             15–19       22040343 (7.1%)           14620638 (6.5%/66.4%)   \n 5             20–24       21585999 (7.0%)           14535947 (6.5%/67.3%)   \n 6             25–29       21101849 (6.8%)           14345364 (6.4%/68.0%)   \n 7             30–34       19962099 (6.5%)           13573270 (6.1%/68.0%)   \n 8             35–39       20179642 (6.5%)          13996797 (6.3%/69.36%)   \n 9             40–44       20890964 (6.8%)           15052798 (6.7%/72.1%)   \n 10            45–49       22708591 (7.4%)           17028255 (7.6%/75.0%)   \n 11            50–54       22298125 (7.2%)           17178632 (7.7%/77.0%)   \n 12            55–59       19664805 (6.4%)           15562187 (7.0%/79.1%)   \n 13            60–64       16817924 (5.4%)           13693334 (6.1%/81.4%)   \n 14            65–69       12435263 (4.0%)           10313002 (4.6%/82.9%)   \n 15            70–74        9278166 (3.0%)            7740932 (3.5%/83.4%)   \n 16            75–79        7317795 (2.4%)            6224569 (2.8%/85.1%)   \n 17            80–84        5743327 (1.9%)            5002427 (2.2%/87.1%)   \n 18              85+        5493433 (1.8%)            4858307 (2.2%/88.4%)   \n \n    Black alone (of race/age group)  \\\n 0                 38929319 (12.6%)   \n 1             2902590 (7.5%/14.4%)   \n 2             2882597 (7.4%/14.2%)   \n 3             3034266 (7.8%/14.7%)   \n 4             3448051 (8.9%/15.6%)   \n 5             3111397 (8.0%/14.4%)   \n 6             2786254 (7.2%/13.2%)   \n 7             2627925 (6.8%/13.2%)   \n 8             2613389 (6.7%/13.0%)   \n 9             2669034 (6.9%/12.8%)   \n 10            2828657 (7.3%/12.5%)   \n 11            2694247 (6.9%/12.1%)   \n 12            2205820 (5.7%/11.2%)   \n 13            1686695 (4.3%/10.0%)   \n 14             1162577 (3.0%/9.4%)   \n 15              852317 (2.2%/9.2%)   \n 16              616789 (1.6%/8.4%)   \n 17              424592 (1.1%/7.4%)   \n 18              382122 (1.0%/7.0%)   \n \n    Mixed and/or Some Other Race (of race/age group)  \\\n 0                                   28116441 (9.1%)   \n 1                             3315480 (11.8%/16.4%)   \n 2                             2957487 (10.5%/14.5%)   \n 3                              2736570 (9.7%/13.2%)   \n 4                              2704571 (9.6%/12.3%)   \n 5                              2538967 (9.0%/11.8%)   \n 6                              2464343 (8.8%/11.7%)   \n 7                              2273322 (8.1%/11.4%)   \n 8                              2038408 (7.2%/10.1%)   \n 9                               1782463 (6.3%/8.5%)   \n 10                              1532117 (5.4%/6.8%)   \n 11                              1222175 (4.3%/5.5%)   \n 12                               873943 (3.1%/4.4%)   \n 13                               611144 (2.2%/3.6%)   \n 14                               394208 (1.4%/3.2%)   \n 15                               268574 (1.0%/2.9%)   \n 16                               184596 (0.7%/2.5%)   \n 17                               122249 (0.4%/2.1%)   \n 18                                95824 (0.3%/1.7%)   \n \n    Asian alone (of race/age group)  \\\n 0                  14674252 (4.9%)   \n 1               898011 (6.1%/4.5%)   \n 2               928248 (6.3%/4.6%)   \n 3               881590 (6.0%/4.3%)   \n 4               956028 (6.5%/4.3%)   \n 5              1106222 (7.5%/5.1%)   \n 6              1234322 (8.4%/5.9%)   \n 7              1240906 (8.5%/6.2%)   \n 8              1296301 (8.8%/6.4%)   \n 9              1155565 (7.9%/5.5%)   \n 10             1076060 (7.3%/4.7%)   \n 11              980282 (6.7%/4.4%)   \n 12              844490 (5.8%/4.3%)   \n 13              689601 (4.7%/4.1%)   \n 14              474327 (3.2%/3.8%)   \n 15              354268 (2.4%/3.8%)   \n 16              251210 (1.7%/3.4%)   \n 17              168879 (1.2%/2.9%)   \n 18              137942 (0.9%/2.5%)   \n \n    Either American Indian or Alaska Native (of race/age group)  \\\n 0                                      2932248 (1.0%)            \n 1                                  244615 (8.3%/1.2%)            \n 2                                  243259 (8.3%/1.2%)            \n 3                                 245049 (8.4%/1.19%)            \n 4                                  263805 (9.0%/1.2%)            \n 5                                  240716 (8.2%/1.1%)            \n 6                                  221654 (7.6%/1.1%)            \n 7                                  202928 (6.9%/1.0%)            \n 8                                  196017 (6.7%/1.0%)            \n 9                                  194713 (6.6%/0.9%)            \n 10                                 207857 (7.1%/0.9%)            \n 11                                 191893 (6.5%/0.9%)            \n 12                                 154320 (5.3%/0.8%)            \n 13                                 118362 (4.0%/0.7%)            \n 14                                  79079 (2.7%/0.6%)            \n 15                                  53926 (1.8%/0.6%)            \n 16                                  35268 (1.2%/0.5%)            \n 17                                  21963 (0.7%/0.4%)            \n 18                                  16824 (0.6%/0.3%)            \n \n    Either Native Hawaiian or Other Pacific Islander (of race/age group)  \n 0                                       540013 (0.2%)                    \n 1                                   44991 (8.3%/0.2%)                    \n 2                                   43267 (8.0%/0.0%)                    \n 3                                   42387 (7.8%/0.2%)                    \n 4                                   47250 (8.7%/0.2%)                    \n 5                                   52750 (9.8%/0.2%)                    \n 6                                   49912 (9.2%/0.2%)                    \n 7                                   43748 (8.1%/0.2%)                    \n 8                                   38730 (7.2%/0.2%)                    \n 9                                   36391 (6.7%/0.2%)                    \n 10                                  35645 (6.6%/0.2%)                    \n 11                                  30896 (5.7%/0.1%)                    \n 12                                  24045 (4.5%/0.1%)                    \n 13                                  18788 (3.5%/0.1%)                    \n 14                                  12070 (2.2%/0.1%)                    \n 15                                   8149 (1.5%/0.1%)                    \n 16                                   5363 (1.0%/0.1%)                    \n 17                                   3217 (0.6%/0.1%)                    \n 18                                   2414 (0.4%/0.0%)                    ,\n                                                    0\n 0                This article is part of a series on\n 1             Income in the United States of America\n 2  Topics Household Personal Affluence Social cla...\n 3  Lists by income States (by inequality) Countie...\n 4                               United States portal\n 5                                                vte,\n                  vteDemographics of the United States  \\\n 0                                 Demographic history   \n 1                              By economic and social   \n 2                                         By religion   \n 3                    By continent and ethnic ancestry   \n 4                                              Africa   \n 5                                                Asia   \n 6                                              Europe   \n 7                                       North America   \n 8                                             Oceania   \n 9                                       South America   \n 10                                        Multiethnic   \n 11  People of the United States / Americans Americ...   \n \n                vteDemographics of the United States.1  \n 0                                 Demographic history  \n 1   Affluence Educational attainment Emigration Ho...  \n 2   Baha'is Buddhists Christians Catholics Coptics...  \n 3   Africa African Americans African diaspora in t...  \n 4   African Americans African diaspora in the Amer...  \n 5   Asian Americans Asian Hispanic and Latino Amer...  \n 6   White Americans Albanian Americans Asturian Am...  \n 7   Native Americans Abenaki Apache Blackfeet Cher...  \n 8   Pacific Islander Americans Chamorro Americans ...  \n 9   Argentine Americans Bolivian Americans Brazili...  \n 10  Afro-Asian Amerasian Louisiana Creole people M...  \n 11  People of the United States / Americans Americ...  ,\n                                                    0  \\\n 0                                             Africa   \n 1                                               Asia   \n 2                                             Europe   \n 3                                      North America   \n 4                                            Oceania   \n 5                                      South America   \n 6                                        Multiethnic   \n 7  People of the United States / Americans Americ...   \n \n                                                    1  \n 0  African Americans African diaspora in the Amer...  \n 1  Asian Americans Asian Hispanic and Latino Amer...  \n 2  White Americans Albanian Americans Asturian Am...  \n 3  Native Americans Abenaki Apache Blackfeet Cher...  \n 4  Pacific Islander Americans Chamorro Americans ...  \n 5  Argentine Americans Bolivian Americans Brazili...  \n 6  Afro-Asian Amerasian Louisiana Creole people M...  \n 7  People of the United States / Americans Americ...  ,\n   vteDemographics of the United States by state, territory, and metropolitan area/city  \\\n 0                                           by state                                     \n 1                                by federal district                                     \n 2                                       by territory                                     \n 3                          by metropolitan area/city                                     \n \n   vteDemographics of the United States by state, territory, and metropolitan area/city.1  \n 0  Alabama Alaska Arizona Arkansas California Col...                                      \n 1                               District of Columbia                                      \n 2  American Samoa Guam Northern Mariana Islands P...                                      \n 3  Atlanta Chicago Cincinnati Cleveland Dallas-Fo...                                      ,\n                             vteUnited States articles  \\\n 0                                             History   \n 1                                           By period   \n 2                                            By event   \n 3                                            By topic   \n 4                                           Geography   \n 5   Territory Contiguous United States counties fe...   \n 6                                            Politics   \n 7   FederalExecutive Cabinet Civil service Executi...   \n 8                                             Federal   \n 9                                           Executive   \n 10                                        Legislative   \n 11                                           Judicial   \n 12                                                Law   \n 13                                       Intelligence   \n 14                                          Uniformed   \n 15  51st state Political status of Puerto Rico Pue...   \n 16                                            Economy   \n 17  By sector Agriculture Banking Communications C...   \n 18                                            Society   \n 19  Culture Americana Architecture Cinema Crime Cu...   \n 20                                            Culture   \n 21                                       Social class   \n 22                                             Issues   \n 23                       OutlineIndex Category Portal   \n \n                           vteUnited States articles.1  \n 0   By period 1776–1789 1789–1849 1849–1865 1865–1...  \n 1   1776–1789 1789–1849 1849–1865 1865–1918 1918–1...  \n 2   Pre-colonial era Colonial era Stamp Act Congre...  \n 3   Outline of U.S. history Demographic Discoverie...  \n 4   Territory Contiguous United States counties fe...  \n 5   Territory Contiguous United States counties fe...  \n 6   FederalExecutive Cabinet Civil service Executi...  \n 7   FederalExecutive Cabinet Civil service Executi...  \n 8   Executive Cabinet Civil service Executive depa...  \n 9   Cabinet Civil service Executive departments Ex...  \n 10  House of Representatives current members Speak...  \n 11    District courts Courts of appeals Supreme Court  \n 12  Bill of Rights civil liberties Code of Federal...  \n 13  Central Intelligence Agency Defense Intelligen...  \n 14  Armed Forces Army Marine Corps Navy Air Force ...  \n 15  51st state Political status of Puerto Rico Pue...  \n 16  By sector Agriculture Banking Communications C...  \n 17  By sector Agriculture Banking Communications C...  \n 18  Culture Americana Architecture Cinema Crime Cu...  \n 19  Culture Americana Architecture Cinema Crime Cu...  \n 20  Americana Architecture Cinema Crime Cuisine Wi...  \n 21  Affluence American Dream Educational attainmen...  \n 22  Ages of consent Capital punishment Crime incar...  \n 23                       OutlineIndex Category Portal  ,\n            0                                                  1\n 0  By period  1776–1789 1789–1849 1849–1865 1865–1918 1918–1...\n 1   By event  Pre-colonial era Colonial era Stamp Act Congre...\n 2   By topic  Outline of U.S. history Demographic Discoverie...,\n                                                    0  \\\n 0  Territory Contiguous United States counties fe...   \n \n                                                    1  \n 0  Territory Contiguous United States counties fe...  ,\n                                                    0  \\\n 0  FederalExecutive Cabinet Civil service Executi...   \n 1                                            Federal   \n 2                                          Executive   \n 3                                        Legislative   \n 4                                           Judicial   \n 5                                                Law   \n 6                                       Intelligence   \n 7                                          Uniformed   \n 8  51st state Political status of Puerto Rico Pue...   \n \n                                                    1  \n 0  FederalExecutive Cabinet Civil service Executi...  \n 1  Executive Cabinet Civil service Executive depa...  \n 2  Cabinet Civil service Executive departments Ex...  \n 3  House of Representatives current members Speak...  \n 4    District courts Courts of appeals Supreme Court  \n 5  Bill of Rights civil liberties Code of Federal...  \n 6  Central Intelligence Agency Defense Intelligen...  \n 7  Armed Forces Army Marine Corps Navy Air Force ...  \n 8  51st state Political status of Puerto Rico Pue...  ,\n                                                    0  \\\n 0                                            Federal   \n 1                                          Executive   \n 2                                        Legislative   \n 3                                           Judicial   \n 4                                                Law   \n 5                                       Intelligence   \n 6                                          Uniformed   \n 7  51st state Political status of Puerto Rico Pue...   \n \n                                                    1  \n 0  Executive Cabinet Civil service Executive depa...  \n 1  Cabinet Civil service Executive departments Ex...  \n 2  House of Representatives current members Speak...  \n 3    District courts Courts of appeals Supreme Court  \n 4  Bill of Rights civil liberties Code of Federal...  \n 5  Central Intelligence Agency Defense Intelligen...  \n 6  Armed Forces Army Marine Corps Navy Air Force ...  \n 7  51st state Political status of Puerto Rico Pue...  ,\n               0                                                  1\n 0     Executive  Cabinet Civil service Executive departments Ex...\n 1   Legislative  House of Representatives current members Speak...\n 2      Judicial    District courts Courts of appeals Supreme Court\n 3           Law  Bill of Rights civil liberties Code of Federal...\n 4  Intelligence  Central Intelligence Agency Defense Intelligen...\n 5     Uniformed  Armed Forces Army Marine Corps Navy Air Force ...,\n                                                    0  \\\n 0  By sector Agriculture Banking Communications C...   \n \n                                                    1  \n 0  By sector Agriculture Banking Communications C...  ,\n                                                    0  \\\n 0  Culture Americana Architecture Cinema Crime Cu...   \n 1                                            Culture   \n 2                                       Social class   \n 3                                             Issues   \n \n                                                    1  \n 0  Culture Americana Architecture Cinema Crime Cu...  \n 1  Americana Architecture Cinema Crime Cuisine Wi...  \n 2  Affluence American Dream Educational attainmen...  \n 3  Ages of consent Capital punishment Crime incar...  ,\n               0                                                  1\n 0       Culture  Americana Architecture Cinema Crime Cuisine Wi...\n 1  Social class  Affluence American Dream Educational attainmen...\n 2        Issues  Ages of consent Capital punishment Crime incar...,\n      vteDemographics of North America  \\\n 0                    Sovereign states   \n 1  Dependencies and other territories   \n \n                   vteDemographics of North America.1  \n 0  Antigua and Barbuda Bahamas Barbados Belize Ca...  \n 1  Anguilla Aruba Bermuda Bonaire British Virgin ...  ]"
     },
     "execution_count": 21,
     "metadata": {},
     "output_type": "execute_result"
    }
   ],
   "source": [
    "get_full_data_from_html = pd.read_html(\"https://en.wikipedia.org/wiki/Demographics_of_the_United_States\")\n",
    "get_full_data_from_html"
   ]
  },
  {
   "cell_type": "markdown",
   "id": "e417671d",
   "metadata": {
    "pycharm": {
     "name": "#%% md\n"
    }
   },
   "source": [
    "### read a column (us demographics)\n"
   ]
  },
  {
   "cell_type": "code",
   "execution_count": 22,
   "id": "f1efc70b",
   "metadata": {
    "pycharm": {
     "name": "#%%\n"
    }
   },
   "outputs": [
    {
     "data": {
      "text/plain": "                  Unnamed: 0  Average population[76][30][31]  Live births[77]  \\\n0                       1935                       127250000          2377000   \n1                       1936                       128053000          2355000   \n2                       1937                       128825000          2413000   \n3                       1938                       129825000          2496000   \n4                       1939                       130880000          2466000   \n..                       ...                             ...              ...   \n82              2017[80][81]                       325122128          3855500   \n83              2018[82][83]                       326838199          3791712   \n84                      2019                       328329953          3747540   \n85              2020[84][85]                       331501080          3613647   \n86  2021[86][87][88][89][90]                       331893745          3664292   \n\n     Deaths  Natural change  Crude birth rate (per 1,000)  \\\n0   1392752          984248                          18.7   \n1   1479228          875772                          18.4   \n2   1450427          962573                          18.7   \n3   1381391         1114609                          19.2   \n4   1387897         1078103                          18.8   \n..      ...             ...                           ...   \n82  2813503         1041997                          11.8   \n83  2839205          952507                          11.6   \n84  2854858          892682                          11.4   \n85  3383729          229918                          10.9   \n86  3464231          200061                          11.0   \n\n    Crude death rate (per 1,000)[78]  Natural change (per 1,000)  \\\n0                               10.9                         7.7   \n1                               11.5                         6.8   \n2                               11.2                         7.5   \n3                               10.6                         8.6   \n4                               10.6                         8.2   \n..                               ...                         ...   \n82                               8.7                         3.1   \n83                               8.7                         2.9   \n84                               8.7                         2.7   \n85                              10.2                         0.7   \n86                              10.5                         0.5   \n\n    Total fertility rate[fn 1][79]  \n0                            2.190  \n1                            2.150  \n2                            2.170  \n3                            2.220  \n4                            2.170  \n..                             ...  \n82                           1.765  \n83                           1.729  \n84                           1.706  \n85                           1.641  \n86                           1.664  \n\n[87 rows x 9 columns]",
      "text/html": "<div>\n<style scoped>\n    .dataframe tbody tr th:only-of-type {\n        vertical-align: middle;\n    }\n\n    .dataframe tbody tr th {\n        vertical-align: top;\n    }\n\n    .dataframe thead th {\n        text-align: right;\n    }\n</style>\n<table border=\"1\" class=\"dataframe\">\n  <thead>\n    <tr style=\"text-align: right;\">\n      <th></th>\n      <th>Unnamed: 0</th>\n      <th>Average population[76][30][31]</th>\n      <th>Live births[77]</th>\n      <th>Deaths</th>\n      <th>Natural change</th>\n      <th>Crude birth rate (per 1,000)</th>\n      <th>Crude death rate (per 1,000)[78]</th>\n      <th>Natural change (per 1,000)</th>\n      <th>Total fertility rate[fn 1][79]</th>\n    </tr>\n  </thead>\n  <tbody>\n    <tr>\n      <th>0</th>\n      <td>1935</td>\n      <td>127250000</td>\n      <td>2377000</td>\n      <td>1392752</td>\n      <td>984248</td>\n      <td>18.7</td>\n      <td>10.9</td>\n      <td>7.7</td>\n      <td>2.190</td>\n    </tr>\n    <tr>\n      <th>1</th>\n      <td>1936</td>\n      <td>128053000</td>\n      <td>2355000</td>\n      <td>1479228</td>\n      <td>875772</td>\n      <td>18.4</td>\n      <td>11.5</td>\n      <td>6.8</td>\n      <td>2.150</td>\n    </tr>\n    <tr>\n      <th>2</th>\n      <td>1937</td>\n      <td>128825000</td>\n      <td>2413000</td>\n      <td>1450427</td>\n      <td>962573</td>\n      <td>18.7</td>\n      <td>11.2</td>\n      <td>7.5</td>\n      <td>2.170</td>\n    </tr>\n    <tr>\n      <th>3</th>\n      <td>1938</td>\n      <td>129825000</td>\n      <td>2496000</td>\n      <td>1381391</td>\n      <td>1114609</td>\n      <td>19.2</td>\n      <td>10.6</td>\n      <td>8.6</td>\n      <td>2.220</td>\n    </tr>\n    <tr>\n      <th>4</th>\n      <td>1939</td>\n      <td>130880000</td>\n      <td>2466000</td>\n      <td>1387897</td>\n      <td>1078103</td>\n      <td>18.8</td>\n      <td>10.6</td>\n      <td>8.2</td>\n      <td>2.170</td>\n    </tr>\n    <tr>\n      <th>...</th>\n      <td>...</td>\n      <td>...</td>\n      <td>...</td>\n      <td>...</td>\n      <td>...</td>\n      <td>...</td>\n      <td>...</td>\n      <td>...</td>\n      <td>...</td>\n    </tr>\n    <tr>\n      <th>82</th>\n      <td>2017[80][81]</td>\n      <td>325122128</td>\n      <td>3855500</td>\n      <td>2813503</td>\n      <td>1041997</td>\n      <td>11.8</td>\n      <td>8.7</td>\n      <td>3.1</td>\n      <td>1.765</td>\n    </tr>\n    <tr>\n      <th>83</th>\n      <td>2018[82][83]</td>\n      <td>326838199</td>\n      <td>3791712</td>\n      <td>2839205</td>\n      <td>952507</td>\n      <td>11.6</td>\n      <td>8.7</td>\n      <td>2.9</td>\n      <td>1.729</td>\n    </tr>\n    <tr>\n      <th>84</th>\n      <td>2019</td>\n      <td>328329953</td>\n      <td>3747540</td>\n      <td>2854858</td>\n      <td>892682</td>\n      <td>11.4</td>\n      <td>8.7</td>\n      <td>2.7</td>\n      <td>1.706</td>\n    </tr>\n    <tr>\n      <th>85</th>\n      <td>2020[84][85]</td>\n      <td>331501080</td>\n      <td>3613647</td>\n      <td>3383729</td>\n      <td>229918</td>\n      <td>10.9</td>\n      <td>10.2</td>\n      <td>0.7</td>\n      <td>1.641</td>\n    </tr>\n    <tr>\n      <th>86</th>\n      <td>2021[86][87][88][89][90]</td>\n      <td>331893745</td>\n      <td>3664292</td>\n      <td>3464231</td>\n      <td>200061</td>\n      <td>11.0</td>\n      <td>10.5</td>\n      <td>0.5</td>\n      <td>1.664</td>\n    </tr>\n  </tbody>\n</table>\n<p>87 rows × 9 columns</p>\n</div>"
     },
     "execution_count": 22,
     "metadata": {},
     "output_type": "execute_result"
    }
   ],
   "source": [
    "# match searches found in tables\n",
    "vital_statistics = pd.read_html(\"https://en.wikipedia.org/wiki/Demographics_of_the_United_States\",match=\"Average population\")[0]\n",
    "vital_statistics"
   ]
  },
  {
   "cell_type": "markdown",
   "source": [
    "### replace spaces with column names\n"
   ],
   "metadata": {
    "collapsed": false,
    "pycharm": {
     "name": "#%% md\n"
    }
   }
  },
  {
   "cell_type": "code",
   "execution_count": 23,
   "id": "5e9101e8",
   "metadata": {
    "pycharm": {
     "name": "#%%\n"
    }
   },
   "outputs": [
    {
     "data": {
      "text/plain": "                  Unnamed:_0  Average_population[76][30][31]  Live_births[77]  \\\n0                       1935                       127250000          2377000   \n1                       1936                       128053000          2355000   \n2                       1937                       128825000          2413000   \n3                       1938                       129825000          2496000   \n4                       1939                       130880000          2466000   \n..                       ...                             ...              ...   \n82              2017[80][81]                       325122128          3855500   \n83              2018[82][83]                       326838199          3791712   \n84                      2019                       328329953          3747540   \n85              2020[84][85]                       331501080          3613647   \n86  2021[86][87][88][89][90]                       331893745          3664292   \n\n     Deaths  Natural_change  Crude_birth_rate_(per_1,000)  \\\n0   1392752          984248                          18.7   \n1   1479228          875772                          18.4   \n2   1450427          962573                          18.7   \n3   1381391         1114609                          19.2   \n4   1387897         1078103                          18.8   \n..      ...             ...                           ...   \n82  2813503         1041997                          11.8   \n83  2839205          952507                          11.6   \n84  2854858          892682                          11.4   \n85  3383729          229918                          10.9   \n86  3464231          200061                          11.0   \n\n    Crude_death_rate_(per_1,000)[78]  Natural_change_(per_1,000)  \\\n0                               10.9                         7.7   \n1                               11.5                         6.8   \n2                               11.2                         7.5   \n3                               10.6                         8.6   \n4                               10.6                         8.2   \n..                               ...                         ...   \n82                               8.7                         3.1   \n83                               8.7                         2.9   \n84                               8.7                         2.7   \n85                              10.2                         0.7   \n86                              10.5                         0.5   \n\n    Total_fertility_rate[fn_1][79]  \n0                            2.190  \n1                            2.150  \n2                            2.170  \n3                            2.220  \n4                            2.170  \n..                             ...  \n82                           1.765  \n83                           1.729  \n84                           1.706  \n85                           1.641  \n86                           1.664  \n\n[87 rows x 9 columns]",
      "text/html": "<div>\n<style scoped>\n    .dataframe tbody tr th:only-of-type {\n        vertical-align: middle;\n    }\n\n    .dataframe tbody tr th {\n        vertical-align: top;\n    }\n\n    .dataframe thead th {\n        text-align: right;\n    }\n</style>\n<table border=\"1\" class=\"dataframe\">\n  <thead>\n    <tr style=\"text-align: right;\">\n      <th></th>\n      <th>Unnamed:_0</th>\n      <th>Average_population[76][30][31]</th>\n      <th>Live_births[77]</th>\n      <th>Deaths</th>\n      <th>Natural_change</th>\n      <th>Crude_birth_rate_(per_1,000)</th>\n      <th>Crude_death_rate_(per_1,000)[78]</th>\n      <th>Natural_change_(per_1,000)</th>\n      <th>Total_fertility_rate[fn_1][79]</th>\n    </tr>\n  </thead>\n  <tbody>\n    <tr>\n      <th>0</th>\n      <td>1935</td>\n      <td>127250000</td>\n      <td>2377000</td>\n      <td>1392752</td>\n      <td>984248</td>\n      <td>18.7</td>\n      <td>10.9</td>\n      <td>7.7</td>\n      <td>2.190</td>\n    </tr>\n    <tr>\n      <th>1</th>\n      <td>1936</td>\n      <td>128053000</td>\n      <td>2355000</td>\n      <td>1479228</td>\n      <td>875772</td>\n      <td>18.4</td>\n      <td>11.5</td>\n      <td>6.8</td>\n      <td>2.150</td>\n    </tr>\n    <tr>\n      <th>2</th>\n      <td>1937</td>\n      <td>128825000</td>\n      <td>2413000</td>\n      <td>1450427</td>\n      <td>962573</td>\n      <td>18.7</td>\n      <td>11.2</td>\n      <td>7.5</td>\n      <td>2.170</td>\n    </tr>\n    <tr>\n      <th>3</th>\n      <td>1938</td>\n      <td>129825000</td>\n      <td>2496000</td>\n      <td>1381391</td>\n      <td>1114609</td>\n      <td>19.2</td>\n      <td>10.6</td>\n      <td>8.6</td>\n      <td>2.220</td>\n    </tr>\n    <tr>\n      <th>4</th>\n      <td>1939</td>\n      <td>130880000</td>\n      <td>2466000</td>\n      <td>1387897</td>\n      <td>1078103</td>\n      <td>18.8</td>\n      <td>10.6</td>\n      <td>8.2</td>\n      <td>2.170</td>\n    </tr>\n    <tr>\n      <th>...</th>\n      <td>...</td>\n      <td>...</td>\n      <td>...</td>\n      <td>...</td>\n      <td>...</td>\n      <td>...</td>\n      <td>...</td>\n      <td>...</td>\n      <td>...</td>\n    </tr>\n    <tr>\n      <th>82</th>\n      <td>2017[80][81]</td>\n      <td>325122128</td>\n      <td>3855500</td>\n      <td>2813503</td>\n      <td>1041997</td>\n      <td>11.8</td>\n      <td>8.7</td>\n      <td>3.1</td>\n      <td>1.765</td>\n    </tr>\n    <tr>\n      <th>83</th>\n      <td>2018[82][83]</td>\n      <td>326838199</td>\n      <td>3791712</td>\n      <td>2839205</td>\n      <td>952507</td>\n      <td>11.6</td>\n      <td>8.7</td>\n      <td>2.9</td>\n      <td>1.729</td>\n    </tr>\n    <tr>\n      <th>84</th>\n      <td>2019</td>\n      <td>328329953</td>\n      <td>3747540</td>\n      <td>2854858</td>\n      <td>892682</td>\n      <td>11.4</td>\n      <td>8.7</td>\n      <td>2.7</td>\n      <td>1.706</td>\n    </tr>\n    <tr>\n      <th>85</th>\n      <td>2020[84][85]</td>\n      <td>331501080</td>\n      <td>3613647</td>\n      <td>3383729</td>\n      <td>229918</td>\n      <td>10.9</td>\n      <td>10.2</td>\n      <td>0.7</td>\n      <td>1.641</td>\n    </tr>\n    <tr>\n      <th>86</th>\n      <td>2021[86][87][88][89][90]</td>\n      <td>331893745</td>\n      <td>3664292</td>\n      <td>3464231</td>\n      <td>200061</td>\n      <td>11.0</td>\n      <td>10.5</td>\n      <td>0.5</td>\n      <td>1.664</td>\n    </tr>\n  </tbody>\n</table>\n<p>87 rows × 9 columns</p>\n</div>"
     },
     "execution_count": 23,
     "metadata": {},
     "output_type": "execute_result"
    }
   ],
   "source": [
    "# replace spaces with column names // >>>>>>> this needs to be exercised more <<<<<<\n",
    "vital_statistics.columns = [x.replace(' ', '_') for x in vital_statistics.columns]\n",
    "vital_statistics"
   ]
  },
  {
   "cell_type": "markdown",
   "source": [
    "### remove characters in columns ( rounded parentheses)\n"
   ],
   "metadata": {
    "collapsed": false,
    "pycharm": {
     "name": "#%% md\n"
    }
   }
  },
  {
   "cell_type": "code",
   "execution_count": 24,
   "id": "c50db104",
   "metadata": {
    "pycharm": {
     "name": "#%%\n"
    }
   },
   "outputs": [
    {
     "data": {
      "text/plain": "                  Unnamed:_0  Average_population[76][30][31]  Live_births[77]  \\\n0                       1935                       127250000          2377000   \n1                       1936                       128053000          2355000   \n2                       1937                       128825000          2413000   \n3                       1938                       129825000          2496000   \n4                       1939                       130880000          2466000   \n..                       ...                             ...              ...   \n82              2017[80][81]                       325122128          3855500   \n83              2018[82][83]                       326838199          3791712   \n84                      2019                       328329953          3747540   \n85              2020[84][85]                       331501080          3613647   \n86  2021[86][87][88][89][90]                       331893745          3664292   \n\n     Deaths  Natural_change  Crude_birth_rate_  Crude_death_rate_[78]  \\\n0   1392752          984248               18.7                   10.9   \n1   1479228          875772               18.4                   11.5   \n2   1450427          962573               18.7                   11.2   \n3   1381391         1114609               19.2                   10.6   \n4   1387897         1078103               18.8                   10.6   \n..      ...             ...                ...                    ...   \n82  2813503         1041997               11.8                    8.7   \n83  2839205          952507               11.6                    8.7   \n84  2854858          892682               11.4                    8.7   \n85  3383729          229918               10.9                   10.2   \n86  3464231          200061               11.0                   10.5   \n\n    Natural_change_  Total_fertility_rate[fn_1][79]  \n0               7.7                           2.190  \n1               6.8                           2.150  \n2               7.5                           2.170  \n3               8.6                           2.220  \n4               8.2                           2.170  \n..              ...                             ...  \n82              3.1                           1.765  \n83              2.9                           1.729  \n84              2.7                           1.706  \n85              0.7                           1.641  \n86              0.5                           1.664  \n\n[87 rows x 9 columns]",
      "text/html": "<div>\n<style scoped>\n    .dataframe tbody tr th:only-of-type {\n        vertical-align: middle;\n    }\n\n    .dataframe tbody tr th {\n        vertical-align: top;\n    }\n\n    .dataframe thead th {\n        text-align: right;\n    }\n</style>\n<table border=\"1\" class=\"dataframe\">\n  <thead>\n    <tr style=\"text-align: right;\">\n      <th></th>\n      <th>Unnamed:_0</th>\n      <th>Average_population[76][30][31]</th>\n      <th>Live_births[77]</th>\n      <th>Deaths</th>\n      <th>Natural_change</th>\n      <th>Crude_birth_rate_</th>\n      <th>Crude_death_rate_[78]</th>\n      <th>Natural_change_</th>\n      <th>Total_fertility_rate[fn_1][79]</th>\n    </tr>\n  </thead>\n  <tbody>\n    <tr>\n      <th>0</th>\n      <td>1935</td>\n      <td>127250000</td>\n      <td>2377000</td>\n      <td>1392752</td>\n      <td>984248</td>\n      <td>18.7</td>\n      <td>10.9</td>\n      <td>7.7</td>\n      <td>2.190</td>\n    </tr>\n    <tr>\n      <th>1</th>\n      <td>1936</td>\n      <td>128053000</td>\n      <td>2355000</td>\n      <td>1479228</td>\n      <td>875772</td>\n      <td>18.4</td>\n      <td>11.5</td>\n      <td>6.8</td>\n      <td>2.150</td>\n    </tr>\n    <tr>\n      <th>2</th>\n      <td>1937</td>\n      <td>128825000</td>\n      <td>2413000</td>\n      <td>1450427</td>\n      <td>962573</td>\n      <td>18.7</td>\n      <td>11.2</td>\n      <td>7.5</td>\n      <td>2.170</td>\n    </tr>\n    <tr>\n      <th>3</th>\n      <td>1938</td>\n      <td>129825000</td>\n      <td>2496000</td>\n      <td>1381391</td>\n      <td>1114609</td>\n      <td>19.2</td>\n      <td>10.6</td>\n      <td>8.6</td>\n      <td>2.220</td>\n    </tr>\n    <tr>\n      <th>4</th>\n      <td>1939</td>\n      <td>130880000</td>\n      <td>2466000</td>\n      <td>1387897</td>\n      <td>1078103</td>\n      <td>18.8</td>\n      <td>10.6</td>\n      <td>8.2</td>\n      <td>2.170</td>\n    </tr>\n    <tr>\n      <th>...</th>\n      <td>...</td>\n      <td>...</td>\n      <td>...</td>\n      <td>...</td>\n      <td>...</td>\n      <td>...</td>\n      <td>...</td>\n      <td>...</td>\n      <td>...</td>\n    </tr>\n    <tr>\n      <th>82</th>\n      <td>2017[80][81]</td>\n      <td>325122128</td>\n      <td>3855500</td>\n      <td>2813503</td>\n      <td>1041997</td>\n      <td>11.8</td>\n      <td>8.7</td>\n      <td>3.1</td>\n      <td>1.765</td>\n    </tr>\n    <tr>\n      <th>83</th>\n      <td>2018[82][83]</td>\n      <td>326838199</td>\n      <td>3791712</td>\n      <td>2839205</td>\n      <td>952507</td>\n      <td>11.6</td>\n      <td>8.7</td>\n      <td>2.9</td>\n      <td>1.729</td>\n    </tr>\n    <tr>\n      <th>84</th>\n      <td>2019</td>\n      <td>328329953</td>\n      <td>3747540</td>\n      <td>2854858</td>\n      <td>892682</td>\n      <td>11.4</td>\n      <td>8.7</td>\n      <td>2.7</td>\n      <td>1.706</td>\n    </tr>\n    <tr>\n      <th>85</th>\n      <td>2020[84][85]</td>\n      <td>331501080</td>\n      <td>3613647</td>\n      <td>3383729</td>\n      <td>229918</td>\n      <td>10.9</td>\n      <td>10.2</td>\n      <td>0.7</td>\n      <td>1.641</td>\n    </tr>\n    <tr>\n      <th>86</th>\n      <td>2021[86][87][88][89][90]</td>\n      <td>331893745</td>\n      <td>3664292</td>\n      <td>3464231</td>\n      <td>200061</td>\n      <td>11.0</td>\n      <td>10.5</td>\n      <td>0.5</td>\n      <td>1.664</td>\n    </tr>\n  </tbody>\n</table>\n<p>87 rows × 9 columns</p>\n</div>"
     },
     "execution_count": 24,
     "metadata": {},
     "output_type": "execute_result"
    }
   ],
   "source": [
    "# remove parentheses and what's inside them <<<<<< needs repetition ! <<<<<<\n",
    "vital_statistics.columns = vital_statistics.columns.str.replace(r\"\\(.*\\)\",\"\")\n",
    "vital_statistics"
   ]
  },
  {
   "cell_type": "markdown",
   "source": [
    "### remove characters in columns (squared parentheses)"
   ],
   "metadata": {
    "collapsed": false,
    "pycharm": {
     "name": "#%% md\n"
    }
   }
  },
  {
   "cell_type": "code",
   "execution_count": 25,
   "outputs": [
    {
     "data": {
      "text/plain": "                  Unnamed:_0  Average_population  Live_births   Deaths  \\\n0                       1935           127250000      2377000  1392752   \n1                       1936           128053000      2355000  1479228   \n2                       1937           128825000      2413000  1450427   \n3                       1938           129825000      2496000  1381391   \n4                       1939           130880000      2466000  1387897   \n..                       ...                 ...          ...      ...   \n82              2017[80][81]           325122128      3855500  2813503   \n83              2018[82][83]           326838199      3791712  2839205   \n84                      2019           328329953      3747540  2854858   \n85              2020[84][85]           331501080      3613647  3383729   \n86  2021[86][87][88][89][90]           331893745      3664292  3464231   \n\n    Natural_change  Crude_birth_rate_  Crude_death_rate_  Natural_change_  \\\n0           984248               18.7               10.9              7.7   \n1           875772               18.4               11.5              6.8   \n2           962573               18.7               11.2              7.5   \n3          1114609               19.2               10.6              8.6   \n4          1078103               18.8               10.6              8.2   \n..             ...                ...                ...              ...   \n82         1041997               11.8                8.7              3.1   \n83          952507               11.6                8.7              2.9   \n84          892682               11.4                8.7              2.7   \n85          229918               10.9               10.2              0.7   \n86          200061               11.0               10.5              0.5   \n\n    Total_fertility_rate  \n0                  2.190  \n1                  2.150  \n2                  2.170  \n3                  2.220  \n4                  2.170  \n..                   ...  \n82                 1.765  \n83                 1.729  \n84                 1.706  \n85                 1.641  \n86                 1.664  \n\n[87 rows x 9 columns]",
      "text/html": "<div>\n<style scoped>\n    .dataframe tbody tr th:only-of-type {\n        vertical-align: middle;\n    }\n\n    .dataframe tbody tr th {\n        vertical-align: top;\n    }\n\n    .dataframe thead th {\n        text-align: right;\n    }\n</style>\n<table border=\"1\" class=\"dataframe\">\n  <thead>\n    <tr style=\"text-align: right;\">\n      <th></th>\n      <th>Unnamed:_0</th>\n      <th>Average_population</th>\n      <th>Live_births</th>\n      <th>Deaths</th>\n      <th>Natural_change</th>\n      <th>Crude_birth_rate_</th>\n      <th>Crude_death_rate_</th>\n      <th>Natural_change_</th>\n      <th>Total_fertility_rate</th>\n    </tr>\n  </thead>\n  <tbody>\n    <tr>\n      <th>0</th>\n      <td>1935</td>\n      <td>127250000</td>\n      <td>2377000</td>\n      <td>1392752</td>\n      <td>984248</td>\n      <td>18.7</td>\n      <td>10.9</td>\n      <td>7.7</td>\n      <td>2.190</td>\n    </tr>\n    <tr>\n      <th>1</th>\n      <td>1936</td>\n      <td>128053000</td>\n      <td>2355000</td>\n      <td>1479228</td>\n      <td>875772</td>\n      <td>18.4</td>\n      <td>11.5</td>\n      <td>6.8</td>\n      <td>2.150</td>\n    </tr>\n    <tr>\n      <th>2</th>\n      <td>1937</td>\n      <td>128825000</td>\n      <td>2413000</td>\n      <td>1450427</td>\n      <td>962573</td>\n      <td>18.7</td>\n      <td>11.2</td>\n      <td>7.5</td>\n      <td>2.170</td>\n    </tr>\n    <tr>\n      <th>3</th>\n      <td>1938</td>\n      <td>129825000</td>\n      <td>2496000</td>\n      <td>1381391</td>\n      <td>1114609</td>\n      <td>19.2</td>\n      <td>10.6</td>\n      <td>8.6</td>\n      <td>2.220</td>\n    </tr>\n    <tr>\n      <th>4</th>\n      <td>1939</td>\n      <td>130880000</td>\n      <td>2466000</td>\n      <td>1387897</td>\n      <td>1078103</td>\n      <td>18.8</td>\n      <td>10.6</td>\n      <td>8.2</td>\n      <td>2.170</td>\n    </tr>\n    <tr>\n      <th>...</th>\n      <td>...</td>\n      <td>...</td>\n      <td>...</td>\n      <td>...</td>\n      <td>...</td>\n      <td>...</td>\n      <td>...</td>\n      <td>...</td>\n      <td>...</td>\n    </tr>\n    <tr>\n      <th>82</th>\n      <td>2017[80][81]</td>\n      <td>325122128</td>\n      <td>3855500</td>\n      <td>2813503</td>\n      <td>1041997</td>\n      <td>11.8</td>\n      <td>8.7</td>\n      <td>3.1</td>\n      <td>1.765</td>\n    </tr>\n    <tr>\n      <th>83</th>\n      <td>2018[82][83]</td>\n      <td>326838199</td>\n      <td>3791712</td>\n      <td>2839205</td>\n      <td>952507</td>\n      <td>11.6</td>\n      <td>8.7</td>\n      <td>2.9</td>\n      <td>1.729</td>\n    </tr>\n    <tr>\n      <th>84</th>\n      <td>2019</td>\n      <td>328329953</td>\n      <td>3747540</td>\n      <td>2854858</td>\n      <td>892682</td>\n      <td>11.4</td>\n      <td>8.7</td>\n      <td>2.7</td>\n      <td>1.706</td>\n    </tr>\n    <tr>\n      <th>85</th>\n      <td>2020[84][85]</td>\n      <td>331501080</td>\n      <td>3613647</td>\n      <td>3383729</td>\n      <td>229918</td>\n      <td>10.9</td>\n      <td>10.2</td>\n      <td>0.7</td>\n      <td>1.641</td>\n    </tr>\n    <tr>\n      <th>86</th>\n      <td>2021[86][87][88][89][90]</td>\n      <td>331893745</td>\n      <td>3664292</td>\n      <td>3464231</td>\n      <td>200061</td>\n      <td>11.0</td>\n      <td>10.5</td>\n      <td>0.5</td>\n      <td>1.664</td>\n    </tr>\n  </tbody>\n</table>\n<p>87 rows × 9 columns</p>\n</div>"
     },
     "execution_count": 25,
     "metadata": {},
     "output_type": "execute_result"
    }
   ],
   "source": [
    "# remove parentheses and what's inside them <<<<<< needs repetition ! <<<<<<\n",
    "vital_statistics.columns = vital_statistics.columns.str.replace(r\"\\[.*\\]\",\"\")\n",
    "vital_statistics"
   ],
   "metadata": {
    "collapsed": false,
    "pycharm": {
     "name": "#%%\n"
    }
   }
  },
  {
   "cell_type": "markdown",
   "source": [
    "### Rename Columns\n"
   ],
   "metadata": {
    "collapsed": false,
    "pycharm": {
     "name": "#%% md\n"
    }
   }
  },
  {
   "cell_type": "code",
   "execution_count": 26,
   "id": "256cad0a",
   "metadata": {
    "pycharm": {
     "name": "#%%\n"
    }
   },
   "outputs": [
    {
     "data": {
      "text/plain": "                        Year  Average_population  Live_births   Deaths  \\\n0                       1935           127250000      2377000  1392752   \n1                       1936           128053000      2355000  1479228   \n2                       1937           128825000      2413000  1450427   \n3                       1938           129825000      2496000  1381391   \n4                       1939           130880000      2466000  1387897   \n..                       ...                 ...          ...      ...   \n82              2017[80][81]           325122128      3855500  2813503   \n83              2018[82][83]           326838199      3791712  2839205   \n84                      2019           328329953      3747540  2854858   \n85              2020[84][85]           331501080      3613647  3383729   \n86  2021[86][87][88][89][90]           331893745      3664292  3464231   \n\n    Natural_change  Crude_birth_rate  Crude_death_rate  Natural_change  \\\n0           984248              18.7              10.9             7.7   \n1           875772              18.4              11.5             6.8   \n2           962573              18.7              11.2             7.5   \n3          1114609              19.2              10.6             8.6   \n4          1078103              18.8              10.6             8.2   \n..             ...               ...               ...             ...   \n82         1041997              11.8               8.7             3.1   \n83          952507              11.6               8.7             2.9   \n84          892682              11.4               8.7             2.7   \n85          229918              10.9              10.2             0.7   \n86          200061              11.0              10.5             0.5   \n\n    Total_fertility_rate  \n0                  2.190  \n1                  2.150  \n2                  2.170  \n3                  2.220  \n4                  2.170  \n..                   ...  \n82                 1.765  \n83                 1.729  \n84                 1.706  \n85                 1.641  \n86                 1.664  \n\n[87 rows x 9 columns]",
      "text/html": "<div>\n<style scoped>\n    .dataframe tbody tr th:only-of-type {\n        vertical-align: middle;\n    }\n\n    .dataframe tbody tr th {\n        vertical-align: top;\n    }\n\n    .dataframe thead th {\n        text-align: right;\n    }\n</style>\n<table border=\"1\" class=\"dataframe\">\n  <thead>\n    <tr style=\"text-align: right;\">\n      <th></th>\n      <th>Year</th>\n      <th>Average_population</th>\n      <th>Live_births</th>\n      <th>Deaths</th>\n      <th>Natural_change</th>\n      <th>Crude_birth_rate</th>\n      <th>Crude_death_rate</th>\n      <th>Natural_change</th>\n      <th>Total_fertility_rate</th>\n    </tr>\n  </thead>\n  <tbody>\n    <tr>\n      <th>0</th>\n      <td>1935</td>\n      <td>127250000</td>\n      <td>2377000</td>\n      <td>1392752</td>\n      <td>984248</td>\n      <td>18.7</td>\n      <td>10.9</td>\n      <td>7.7</td>\n      <td>2.190</td>\n    </tr>\n    <tr>\n      <th>1</th>\n      <td>1936</td>\n      <td>128053000</td>\n      <td>2355000</td>\n      <td>1479228</td>\n      <td>875772</td>\n      <td>18.4</td>\n      <td>11.5</td>\n      <td>6.8</td>\n      <td>2.150</td>\n    </tr>\n    <tr>\n      <th>2</th>\n      <td>1937</td>\n      <td>128825000</td>\n      <td>2413000</td>\n      <td>1450427</td>\n      <td>962573</td>\n      <td>18.7</td>\n      <td>11.2</td>\n      <td>7.5</td>\n      <td>2.170</td>\n    </tr>\n    <tr>\n      <th>3</th>\n      <td>1938</td>\n      <td>129825000</td>\n      <td>2496000</td>\n      <td>1381391</td>\n      <td>1114609</td>\n      <td>19.2</td>\n      <td>10.6</td>\n      <td>8.6</td>\n      <td>2.220</td>\n    </tr>\n    <tr>\n      <th>4</th>\n      <td>1939</td>\n      <td>130880000</td>\n      <td>2466000</td>\n      <td>1387897</td>\n      <td>1078103</td>\n      <td>18.8</td>\n      <td>10.6</td>\n      <td>8.2</td>\n      <td>2.170</td>\n    </tr>\n    <tr>\n      <th>...</th>\n      <td>...</td>\n      <td>...</td>\n      <td>...</td>\n      <td>...</td>\n      <td>...</td>\n      <td>...</td>\n      <td>...</td>\n      <td>...</td>\n      <td>...</td>\n    </tr>\n    <tr>\n      <th>82</th>\n      <td>2017[80][81]</td>\n      <td>325122128</td>\n      <td>3855500</td>\n      <td>2813503</td>\n      <td>1041997</td>\n      <td>11.8</td>\n      <td>8.7</td>\n      <td>3.1</td>\n      <td>1.765</td>\n    </tr>\n    <tr>\n      <th>83</th>\n      <td>2018[82][83]</td>\n      <td>326838199</td>\n      <td>3791712</td>\n      <td>2839205</td>\n      <td>952507</td>\n      <td>11.6</td>\n      <td>8.7</td>\n      <td>2.9</td>\n      <td>1.729</td>\n    </tr>\n    <tr>\n      <th>84</th>\n      <td>2019</td>\n      <td>328329953</td>\n      <td>3747540</td>\n      <td>2854858</td>\n      <td>892682</td>\n      <td>11.4</td>\n      <td>8.7</td>\n      <td>2.7</td>\n      <td>1.706</td>\n    </tr>\n    <tr>\n      <th>85</th>\n      <td>2020[84][85]</td>\n      <td>331501080</td>\n      <td>3613647</td>\n      <td>3383729</td>\n      <td>229918</td>\n      <td>10.9</td>\n      <td>10.2</td>\n      <td>0.7</td>\n      <td>1.641</td>\n    </tr>\n    <tr>\n      <th>86</th>\n      <td>2021[86][87][88][89][90]</td>\n      <td>331893745</td>\n      <td>3664292</td>\n      <td>3464231</td>\n      <td>200061</td>\n      <td>11.0</td>\n      <td>10.5</td>\n      <td>0.5</td>\n      <td>1.664</td>\n    </tr>\n  </tbody>\n</table>\n<p>87 rows × 9 columns</p>\n</div>"
     },
     "execution_count": 26,
     "metadata": {},
     "output_type": "execute_result"
    }
   ],
   "source": [
    "vital_statistics = vital_statistics.rename(columns={'Crude_birth_rate_': 'Crude_birth_rate'})\n",
    "vital_statistics\n",
    "\n",
    "vital_statistics = vital_statistics.rename(columns={'Crude_death_rate_': 'Crude_death_rate'})\n",
    "vital_statistics\n",
    "\n",
    "vital_statistics = vital_statistics.rename(columns={'Natural_change_': 'Natural_change'})\n",
    "vital_statistics\n",
    "\n",
    "vital_statistics = vital_statistics.rename(columns={'Unnamed:_0': \"Year\"})\n",
    "vital_statistics\n"
   ]
  },
  {
   "cell_type": "markdown",
   "source": [
    "### Remove Characters in Columns"
   ],
   "metadata": {
    "collapsed": false,
    "pycharm": {
     "name": "#%% md\n"
    }
   }
  },
  {
   "cell_type": "code",
   "execution_count": 27,
   "id": "61b7fc6b",
   "metadata": {
    "pycharm": {
     "name": "#%%\n"
    }
   },
   "outputs": [
    {
     "data": {
      "text/plain": "    Year  Average_population  Live_births   Deaths  Natural_change  \\\n0   1935           127250000      2377000  1392752          984248   \n1   1936           128053000      2355000  1479228          875772   \n2   1937           128825000      2413000  1450427          962573   \n3   1938           129825000      2496000  1381391         1114609   \n4   1939           130880000      2466000  1387897         1078103   \n..   ...                 ...          ...      ...             ...   \n82  2017           325122128      3855500  2813503         1041997   \n83  2018           326838199      3791712  2839205          952507   \n84  2019           328329953      3747540  2854858          892682   \n85  2020           331501080      3613647  3383729          229918   \n86  2021           331893745      3664292  3464231          200061   \n\n    Crude_birth_rate  Crude_death_rate  Natural_change  Total_fertility_rate  \n0               18.7              10.9             7.7                 2.190  \n1               18.4              11.5             6.8                 2.150  \n2               18.7              11.2             7.5                 2.170  \n3               19.2              10.6             8.6                 2.220  \n4               18.8              10.6             8.2                 2.170  \n..               ...               ...             ...                   ...  \n82              11.8               8.7             3.1                 1.765  \n83              11.6               8.7             2.9                 1.729  \n84              11.4               8.7             2.7                 1.706  \n85              10.9              10.2             0.7                 1.641  \n86              11.0              10.5             0.5                 1.664  \n\n[87 rows x 9 columns]",
      "text/html": "<div>\n<style scoped>\n    .dataframe tbody tr th:only-of-type {\n        vertical-align: middle;\n    }\n\n    .dataframe tbody tr th {\n        vertical-align: top;\n    }\n\n    .dataframe thead th {\n        text-align: right;\n    }\n</style>\n<table border=\"1\" class=\"dataframe\">\n  <thead>\n    <tr style=\"text-align: right;\">\n      <th></th>\n      <th>Year</th>\n      <th>Average_population</th>\n      <th>Live_births</th>\n      <th>Deaths</th>\n      <th>Natural_change</th>\n      <th>Crude_birth_rate</th>\n      <th>Crude_death_rate</th>\n      <th>Natural_change</th>\n      <th>Total_fertility_rate</th>\n    </tr>\n  </thead>\n  <tbody>\n    <tr>\n      <th>0</th>\n      <td>1935</td>\n      <td>127250000</td>\n      <td>2377000</td>\n      <td>1392752</td>\n      <td>984248</td>\n      <td>18.7</td>\n      <td>10.9</td>\n      <td>7.7</td>\n      <td>2.190</td>\n    </tr>\n    <tr>\n      <th>1</th>\n      <td>1936</td>\n      <td>128053000</td>\n      <td>2355000</td>\n      <td>1479228</td>\n      <td>875772</td>\n      <td>18.4</td>\n      <td>11.5</td>\n      <td>6.8</td>\n      <td>2.150</td>\n    </tr>\n    <tr>\n      <th>2</th>\n      <td>1937</td>\n      <td>128825000</td>\n      <td>2413000</td>\n      <td>1450427</td>\n      <td>962573</td>\n      <td>18.7</td>\n      <td>11.2</td>\n      <td>7.5</td>\n      <td>2.170</td>\n    </tr>\n    <tr>\n      <th>3</th>\n      <td>1938</td>\n      <td>129825000</td>\n      <td>2496000</td>\n      <td>1381391</td>\n      <td>1114609</td>\n      <td>19.2</td>\n      <td>10.6</td>\n      <td>8.6</td>\n      <td>2.220</td>\n    </tr>\n    <tr>\n      <th>4</th>\n      <td>1939</td>\n      <td>130880000</td>\n      <td>2466000</td>\n      <td>1387897</td>\n      <td>1078103</td>\n      <td>18.8</td>\n      <td>10.6</td>\n      <td>8.2</td>\n      <td>2.170</td>\n    </tr>\n    <tr>\n      <th>...</th>\n      <td>...</td>\n      <td>...</td>\n      <td>...</td>\n      <td>...</td>\n      <td>...</td>\n      <td>...</td>\n      <td>...</td>\n      <td>...</td>\n      <td>...</td>\n    </tr>\n    <tr>\n      <th>82</th>\n      <td>2017</td>\n      <td>325122128</td>\n      <td>3855500</td>\n      <td>2813503</td>\n      <td>1041997</td>\n      <td>11.8</td>\n      <td>8.7</td>\n      <td>3.1</td>\n      <td>1.765</td>\n    </tr>\n    <tr>\n      <th>83</th>\n      <td>2018</td>\n      <td>326838199</td>\n      <td>3791712</td>\n      <td>2839205</td>\n      <td>952507</td>\n      <td>11.6</td>\n      <td>8.7</td>\n      <td>2.9</td>\n      <td>1.729</td>\n    </tr>\n    <tr>\n      <th>84</th>\n      <td>2019</td>\n      <td>328329953</td>\n      <td>3747540</td>\n      <td>2854858</td>\n      <td>892682</td>\n      <td>11.4</td>\n      <td>8.7</td>\n      <td>2.7</td>\n      <td>1.706</td>\n    </tr>\n    <tr>\n      <th>85</th>\n      <td>2020</td>\n      <td>331501080</td>\n      <td>3613647</td>\n      <td>3383729</td>\n      <td>229918</td>\n      <td>10.9</td>\n      <td>10.2</td>\n      <td>0.7</td>\n      <td>1.641</td>\n    </tr>\n    <tr>\n      <th>86</th>\n      <td>2021</td>\n      <td>331893745</td>\n      <td>3664292</td>\n      <td>3464231</td>\n      <td>200061</td>\n      <td>11.0</td>\n      <td>10.5</td>\n      <td>0.5</td>\n      <td>1.664</td>\n    </tr>\n  </tbody>\n</table>\n<p>87 rows × 9 columns</p>\n</div>"
     },
     "execution_count": 27,
     "metadata": {},
     "output_type": "execute_result"
    }
   ],
   "source": [
    "# look at previous column, rows #82 to #86. If I want to remove the parentheses, i'd do it like this:\n",
    "# df.X = df.X.str.replace(r\"\\[.*\\]\",\"\") where X is the desired column, in my case Year\n",
    "# also, in my case I wanted to remove the references which are [] with numbers in them\n",
    "vital_statistics.Year = vital_statistics.Year.str.replace(r\"\\[.*\\]\",\"\")\n",
    "vital_statistics"
   ]
  },
  {
   "cell_type": "markdown",
   "source": [
    "### selecting a particular column"
   ],
   "metadata": {
    "collapsed": false,
    "pycharm": {
     "name": "#%% md\n"
    }
   }
  },
  {
   "cell_type": "code",
   "execution_count": 28,
   "outputs": [
    {
     "data": {
      "text/plain": "0     127250000\n1     128053000\n2     128825000\n3     129825000\n4     130880000\n        ...    \n82    325122128\n83    326838199\n84    328329953\n85    331501080\n86    331893745\nName: Average_population, Length: 87, dtype: int64"
     },
     "execution_count": 28,
     "metadata": {},
     "output_type": "execute_result"
    }
   ],
   "source": [
    "vital_statistics.Average_population  # df.column_name\n",
    "vital_statistics['Average_population'] # works the same"
   ],
   "metadata": {
    "collapsed": false,
    "pycharm": {
     "name": "#%%\n"
    }
   }
  },
  {
   "cell_type": "markdown",
   "source": [
    "### Make a Column an Index"
   ],
   "metadata": {
    "collapsed": false,
    "pycharm": {
     "name": "#%% md\n"
    }
   }
  },
  {
   "cell_type": "code",
   "execution_count": 29,
   "outputs": [
    {
     "data": {
      "text/plain": "      Average_population  Live_births   Deaths  Natural_change  \\\nYear                                                             \n1935           127250000      2377000  1392752          984248   \n1936           128053000      2355000  1479228          875772   \n1937           128825000      2413000  1450427          962573   \n1938           129825000      2496000  1381391         1114609   \n1939           130880000      2466000  1387897         1078103   \n...                  ...          ...      ...             ...   \n2017           325122128      3855500  2813503         1041997   \n2018           326838199      3791712  2839205          952507   \n2019           328329953      3747540  2854858          892682   \n2020           331501080      3613647  3383729          229918   \n2021           331893745      3664292  3464231          200061   \n\n      Crude_birth_rate  Crude_death_rate  Natural_change  Total_fertility_rate  \nYear                                                                            \n1935              18.7              10.9             7.7                 2.190  \n1936              18.4              11.5             6.8                 2.150  \n1937              18.7              11.2             7.5                 2.170  \n1938              19.2              10.6             8.6                 2.220  \n1939              18.8              10.6             8.2                 2.170  \n...                ...               ...             ...                   ...  \n2017              11.8               8.7             3.1                 1.765  \n2018              11.6               8.7             2.9                 1.729  \n2019              11.4               8.7             2.7                 1.706  \n2020              10.9              10.2             0.7                 1.641  \n2021              11.0              10.5             0.5                 1.664  \n\n[87 rows x 8 columns]",
      "text/html": "<div>\n<style scoped>\n    .dataframe tbody tr th:only-of-type {\n        vertical-align: middle;\n    }\n\n    .dataframe tbody tr th {\n        vertical-align: top;\n    }\n\n    .dataframe thead th {\n        text-align: right;\n    }\n</style>\n<table border=\"1\" class=\"dataframe\">\n  <thead>\n    <tr style=\"text-align: right;\">\n      <th></th>\n      <th>Average_population</th>\n      <th>Live_births</th>\n      <th>Deaths</th>\n      <th>Natural_change</th>\n      <th>Crude_birth_rate</th>\n      <th>Crude_death_rate</th>\n      <th>Natural_change</th>\n      <th>Total_fertility_rate</th>\n    </tr>\n    <tr>\n      <th>Year</th>\n      <th></th>\n      <th></th>\n      <th></th>\n      <th></th>\n      <th></th>\n      <th></th>\n      <th></th>\n      <th></th>\n    </tr>\n  </thead>\n  <tbody>\n    <tr>\n      <th>1935</th>\n      <td>127250000</td>\n      <td>2377000</td>\n      <td>1392752</td>\n      <td>984248</td>\n      <td>18.7</td>\n      <td>10.9</td>\n      <td>7.7</td>\n      <td>2.190</td>\n    </tr>\n    <tr>\n      <th>1936</th>\n      <td>128053000</td>\n      <td>2355000</td>\n      <td>1479228</td>\n      <td>875772</td>\n      <td>18.4</td>\n      <td>11.5</td>\n      <td>6.8</td>\n      <td>2.150</td>\n    </tr>\n    <tr>\n      <th>1937</th>\n      <td>128825000</td>\n      <td>2413000</td>\n      <td>1450427</td>\n      <td>962573</td>\n      <td>18.7</td>\n      <td>11.2</td>\n      <td>7.5</td>\n      <td>2.170</td>\n    </tr>\n    <tr>\n      <th>1938</th>\n      <td>129825000</td>\n      <td>2496000</td>\n      <td>1381391</td>\n      <td>1114609</td>\n      <td>19.2</td>\n      <td>10.6</td>\n      <td>8.6</td>\n      <td>2.220</td>\n    </tr>\n    <tr>\n      <th>1939</th>\n      <td>130880000</td>\n      <td>2466000</td>\n      <td>1387897</td>\n      <td>1078103</td>\n      <td>18.8</td>\n      <td>10.6</td>\n      <td>8.2</td>\n      <td>2.170</td>\n    </tr>\n    <tr>\n      <th>...</th>\n      <td>...</td>\n      <td>...</td>\n      <td>...</td>\n      <td>...</td>\n      <td>...</td>\n      <td>...</td>\n      <td>...</td>\n      <td>...</td>\n    </tr>\n    <tr>\n      <th>2017</th>\n      <td>325122128</td>\n      <td>3855500</td>\n      <td>2813503</td>\n      <td>1041997</td>\n      <td>11.8</td>\n      <td>8.7</td>\n      <td>3.1</td>\n      <td>1.765</td>\n    </tr>\n    <tr>\n      <th>2018</th>\n      <td>326838199</td>\n      <td>3791712</td>\n      <td>2839205</td>\n      <td>952507</td>\n      <td>11.6</td>\n      <td>8.7</td>\n      <td>2.9</td>\n      <td>1.729</td>\n    </tr>\n    <tr>\n      <th>2019</th>\n      <td>328329953</td>\n      <td>3747540</td>\n      <td>2854858</td>\n      <td>892682</td>\n      <td>11.4</td>\n      <td>8.7</td>\n      <td>2.7</td>\n      <td>1.706</td>\n    </tr>\n    <tr>\n      <th>2020</th>\n      <td>331501080</td>\n      <td>3613647</td>\n      <td>3383729</td>\n      <td>229918</td>\n      <td>10.9</td>\n      <td>10.2</td>\n      <td>0.7</td>\n      <td>1.641</td>\n    </tr>\n    <tr>\n      <th>2021</th>\n      <td>331893745</td>\n      <td>3664292</td>\n      <td>3464231</td>\n      <td>200061</td>\n      <td>11.0</td>\n      <td>10.5</td>\n      <td>0.5</td>\n      <td>1.664</td>\n    </tr>\n  </tbody>\n</table>\n<p>87 rows × 8 columns</p>\n</div>"
     },
     "execution_count": 29,
     "metadata": {},
     "output_type": "execute_result"
    }
   ],
   "source": [
    "# good when you don't want the standard index, but a different desired column (like Year in this ex)\n",
    "vital_statistics.set_index('Year', inplace=True)\n",
    "vital_statistics"
   ],
   "metadata": {
    "collapsed": false,
    "pycharm": {
     "name": "#%%\n"
    }
   }
  },
  {
   "cell_type": "code",
   "execution_count": 30,
   "outputs": [],
   "source": [
    "# vital_statistics.reset_index() ## in case I want to revert to the standard index\n",
    "# vital_statistics"
   ],
   "metadata": {
    "collapsed": false,
    "pycharm": {
     "name": "#%%\n"
    }
   }
  },
  {
   "cell_type": "markdown",
   "source": [
    "### Grab Data from Multiple Columns\n"
   ],
   "metadata": {
    "collapsed": false,
    "pycharm": {
     "name": "#%% md\n"
    }
   }
  },
  {
   "cell_type": "code",
   "execution_count": 31,
   "outputs": [
    {
     "data": {
      "text/plain": "      Live_births   Deaths\nYear                      \n1935      2377000  1392752\n1936      2355000  1479228\n1937      2413000  1450427\n1938      2496000  1381391\n1939      2466000  1387897\n...           ...      ...\n2017      3855500  2813503\n2018      3791712  2839205\n2019      3747540  2854858\n2020      3613647  3383729\n2021      3664292  3464231\n\n[87 rows x 2 columns]",
      "text/html": "<div>\n<style scoped>\n    .dataframe tbody tr th:only-of-type {\n        vertical-align: middle;\n    }\n\n    .dataframe tbody tr th {\n        vertical-align: top;\n    }\n\n    .dataframe thead th {\n        text-align: right;\n    }\n</style>\n<table border=\"1\" class=\"dataframe\">\n  <thead>\n    <tr style=\"text-align: right;\">\n      <th></th>\n      <th>Live_births</th>\n      <th>Deaths</th>\n    </tr>\n    <tr>\n      <th>Year</th>\n      <th></th>\n      <th></th>\n    </tr>\n  </thead>\n  <tbody>\n    <tr>\n      <th>1935</th>\n      <td>2377000</td>\n      <td>1392752</td>\n    </tr>\n    <tr>\n      <th>1936</th>\n      <td>2355000</td>\n      <td>1479228</td>\n    </tr>\n    <tr>\n      <th>1937</th>\n      <td>2413000</td>\n      <td>1450427</td>\n    </tr>\n    <tr>\n      <th>1938</th>\n      <td>2496000</td>\n      <td>1381391</td>\n    </tr>\n    <tr>\n      <th>1939</th>\n      <td>2466000</td>\n      <td>1387897</td>\n    </tr>\n    <tr>\n      <th>...</th>\n      <td>...</td>\n      <td>...</td>\n    </tr>\n    <tr>\n      <th>2017</th>\n      <td>3855500</td>\n      <td>2813503</td>\n    </tr>\n    <tr>\n      <th>2018</th>\n      <td>3791712</td>\n      <td>2839205</td>\n    </tr>\n    <tr>\n      <th>2019</th>\n      <td>3747540</td>\n      <td>2854858</td>\n    </tr>\n    <tr>\n      <th>2020</th>\n      <td>3613647</td>\n      <td>3383729</td>\n    </tr>\n    <tr>\n      <th>2021</th>\n      <td>3664292</td>\n      <td>3464231</td>\n    </tr>\n  </tbody>\n</table>\n<p>87 rows × 2 columns</p>\n</div>"
     },
     "execution_count": 31,
     "metadata": {},
     "output_type": "execute_result"
    }
   ],
   "source": [
    "# var = list of lists\n",
    "vital_statistics[['Live_births','Deaths']]"
   ],
   "metadata": {
    "collapsed": false,
    "pycharm": {
     "name": "#%%\n"
    }
   }
  },
  {
   "cell_type": "markdown",
   "source": [
    "### Grab a Row\n"
   ],
   "metadata": {
    "collapsed": false,
    "pycharm": {
     "name": "#%% md\n"
    }
   }
  },
  {
   "cell_type": "code",
   "execution_count": 32,
   "outputs": [
    {
     "data": {
      "text/plain": "Average_population      3.318937e+08\nLive_births             3.664292e+06\nDeaths                  3.464231e+06\nNatural_change          2.000610e+05\nCrude_birth_rate        1.100000e+01\nCrude_death_rate        1.050000e+01\nNatural_change          5.000000e-01\nTotal_fertility_rate    1.664000e+00\nName: 2021, dtype: float64"
     },
     "execution_count": 32,
     "metadata": {},
     "output_type": "execute_result"
    }
   ],
   "source": [
    "# # these would work if the index would off remained the standard one.\n",
    "# vital_statistics.loc[0]  ## only show a particular row. It's display is confusing though.\n",
    "# vital_statistics.loc[[0,1]] # here we have two rows, first and second\n",
    "vital_statistics.loc['2021']"
   ],
   "metadata": {
    "collapsed": false,
    "pycharm": {
     "name": "#%%\n"
    }
   }
  },
  {
   "cell_type": "code",
   "execution_count": 33,
   "outputs": [
    {
     "data": {
      "text/plain": "Average_population      3.318937e+08\nLive_births             3.664292e+06\nDeaths                  3.464231e+06\nNatural_change          2.000610e+05\nCrude_birth_rate        1.100000e+01\nCrude_death_rate        1.050000e+01\nNatural_change          5.000000e-01\nTotal_fertility_rate    1.664000e+00\nName: 2021, dtype: float64"
     },
     "execution_count": 33,
     "metadata": {},
     "output_type": "execute_result"
    }
   ],
   "source": [
    "vital_statistics.iloc[86]  # row by index loc"
   ],
   "metadata": {
    "collapsed": false,
    "pycharm": {
     "name": "#%%\n"
    }
   }
  },
  {
   "cell_type": "markdown",
   "source": [
    "### Add a Column\n"
   ],
   "metadata": {
    "collapsed": false,
    "pycharm": {
     "name": "#%% md\n"
    }
   }
  },
  {
   "cell_type": "code",
   "execution_count": 34,
   "outputs": [
    {
     "data": {
      "text/plain": "      Average_population  Live_births   Deaths  Natural_change  \\\nYear                                                             \n1935           127250000      2377000  1392752          984248   \n1936           128053000      2355000  1479228          875772   \n1937           128825000      2413000  1450427          962573   \n1938           129825000      2496000  1381391         1114609   \n1939           130880000      2466000  1387897         1078103   \n...                  ...          ...      ...             ...   \n2017           325122128      3855500  2813503         1041997   \n2018           326838199      3791712  2839205          952507   \n2019           328329953      3747540  2854858          892682   \n2020           331501080      3613647  3383729          229918   \n2021           331893745      3664292  3464231          200061   \n\n      Crude_birth_rate  Crude_death_rate  Natural_change  \\\nYear                                                       \n1935              18.7              10.9             7.7   \n1936              18.4              11.5             6.8   \n1937              18.7              11.2             7.5   \n1938              19.2              10.6             8.6   \n1939              18.8              10.6             8.2   \n...                ...               ...             ...   \n2017              11.8               8.7             3.1   \n2018              11.6               8.7             2.9   \n2019              11.4               8.7             2.7   \n2020              10.9              10.2             0.7   \n2021              11.0              10.5             0.5   \n\n      Total_fertility_rate  Pop_Growth  \nYear                                    \n1935                 2.190      984248  \n1936                 2.150      875772  \n1937                 2.170      962573  \n1938                 2.220     1114609  \n1939                 2.170     1078103  \n...                    ...         ...  \n2017                 1.765     1041997  \n2018                 1.729      952507  \n2019                 1.706      892682  \n2020                 1.641      229918  \n2021                 1.664      200061  \n\n[87 rows x 9 columns]",
      "text/html": "<div>\n<style scoped>\n    .dataframe tbody tr th:only-of-type {\n        vertical-align: middle;\n    }\n\n    .dataframe tbody tr th {\n        vertical-align: top;\n    }\n\n    .dataframe thead th {\n        text-align: right;\n    }\n</style>\n<table border=\"1\" class=\"dataframe\">\n  <thead>\n    <tr style=\"text-align: right;\">\n      <th></th>\n      <th>Average_population</th>\n      <th>Live_births</th>\n      <th>Deaths</th>\n      <th>Natural_change</th>\n      <th>Crude_birth_rate</th>\n      <th>Crude_death_rate</th>\n      <th>Natural_change</th>\n      <th>Total_fertility_rate</th>\n      <th>Pop_Growth</th>\n    </tr>\n    <tr>\n      <th>Year</th>\n      <th></th>\n      <th></th>\n      <th></th>\n      <th></th>\n      <th></th>\n      <th></th>\n      <th></th>\n      <th></th>\n      <th></th>\n    </tr>\n  </thead>\n  <tbody>\n    <tr>\n      <th>1935</th>\n      <td>127250000</td>\n      <td>2377000</td>\n      <td>1392752</td>\n      <td>984248</td>\n      <td>18.7</td>\n      <td>10.9</td>\n      <td>7.7</td>\n      <td>2.190</td>\n      <td>984248</td>\n    </tr>\n    <tr>\n      <th>1936</th>\n      <td>128053000</td>\n      <td>2355000</td>\n      <td>1479228</td>\n      <td>875772</td>\n      <td>18.4</td>\n      <td>11.5</td>\n      <td>6.8</td>\n      <td>2.150</td>\n      <td>875772</td>\n    </tr>\n    <tr>\n      <th>1937</th>\n      <td>128825000</td>\n      <td>2413000</td>\n      <td>1450427</td>\n      <td>962573</td>\n      <td>18.7</td>\n      <td>11.2</td>\n      <td>7.5</td>\n      <td>2.170</td>\n      <td>962573</td>\n    </tr>\n    <tr>\n      <th>1938</th>\n      <td>129825000</td>\n      <td>2496000</td>\n      <td>1381391</td>\n      <td>1114609</td>\n      <td>19.2</td>\n      <td>10.6</td>\n      <td>8.6</td>\n      <td>2.220</td>\n      <td>1114609</td>\n    </tr>\n    <tr>\n      <th>1939</th>\n      <td>130880000</td>\n      <td>2466000</td>\n      <td>1387897</td>\n      <td>1078103</td>\n      <td>18.8</td>\n      <td>10.6</td>\n      <td>8.2</td>\n      <td>2.170</td>\n      <td>1078103</td>\n    </tr>\n    <tr>\n      <th>...</th>\n      <td>...</td>\n      <td>...</td>\n      <td>...</td>\n      <td>...</td>\n      <td>...</td>\n      <td>...</td>\n      <td>...</td>\n      <td>...</td>\n      <td>...</td>\n    </tr>\n    <tr>\n      <th>2017</th>\n      <td>325122128</td>\n      <td>3855500</td>\n      <td>2813503</td>\n      <td>1041997</td>\n      <td>11.8</td>\n      <td>8.7</td>\n      <td>3.1</td>\n      <td>1.765</td>\n      <td>1041997</td>\n    </tr>\n    <tr>\n      <th>2018</th>\n      <td>326838199</td>\n      <td>3791712</td>\n      <td>2839205</td>\n      <td>952507</td>\n      <td>11.6</td>\n      <td>8.7</td>\n      <td>2.9</td>\n      <td>1.729</td>\n      <td>952507</td>\n    </tr>\n    <tr>\n      <th>2019</th>\n      <td>328329953</td>\n      <td>3747540</td>\n      <td>2854858</td>\n      <td>892682</td>\n      <td>11.4</td>\n      <td>8.7</td>\n      <td>2.7</td>\n      <td>1.706</td>\n      <td>892682</td>\n    </tr>\n    <tr>\n      <th>2020</th>\n      <td>331501080</td>\n      <td>3613647</td>\n      <td>3383729</td>\n      <td>229918</td>\n      <td>10.9</td>\n      <td>10.2</td>\n      <td>0.7</td>\n      <td>1.641</td>\n      <td>229918</td>\n    </tr>\n    <tr>\n      <th>2021</th>\n      <td>331893745</td>\n      <td>3664292</td>\n      <td>3464231</td>\n      <td>200061</td>\n      <td>11.0</td>\n      <td>10.5</td>\n      <td>0.5</td>\n      <td>1.664</td>\n      <td>200061</td>\n    </tr>\n  </tbody>\n</table>\n<p>87 rows × 9 columns</p>\n</div>"
     },
     "execution_count": 34,
     "metadata": {},
     "output_type": "execute_result"
    }
   ],
   "source": [
    "vital_statistics['Pop_Growth'] = vital_statistics['Live_births'] - vital_statistics['Deaths']\n",
    "vital_statistics  # same with Natural change"
   ],
   "metadata": {
    "collapsed": false,
    "pycharm": {
     "name": "#%%\n"
    }
   }
  },
  {
   "cell_type": "markdown",
   "source": [
    "### Delete Column\n"
   ],
   "metadata": {
    "collapsed": false,
    "pycharm": {
     "name": "#%% md\n"
    }
   }
  },
  {
   "cell_type": "code",
   "execution_count": 35,
   "outputs": [
    {
     "data": {
      "text/plain": "      Average_population  Live_births   Deaths  Natural_change  \\\nYear                                                             \n1935           127250000      2377000  1392752          984248   \n1936           128053000      2355000  1479228          875772   \n1937           128825000      2413000  1450427          962573   \n1938           129825000      2496000  1381391         1114609   \n1939           130880000      2466000  1387897         1078103   \n...                  ...          ...      ...             ...   \n2017           325122128      3855500  2813503         1041997   \n2018           326838199      3791712  2839205          952507   \n2019           328329953      3747540  2854858          892682   \n2020           331501080      3613647  3383729          229918   \n2021           331893745      3664292  3464231          200061   \n\n      Crude_birth_rate  Crude_death_rate  Natural_change  Total_fertility_rate  \nYear                                                                            \n1935              18.7              10.9             7.7                 2.190  \n1936              18.4              11.5             6.8                 2.150  \n1937              18.7              11.2             7.5                 2.170  \n1938              19.2              10.6             8.6                 2.220  \n1939              18.8              10.6             8.2                 2.170  \n...                ...               ...             ...                   ...  \n2017              11.8               8.7             3.1                 1.765  \n2018              11.6               8.7             2.9                 1.729  \n2019              11.4               8.7             2.7                 1.706  \n2020              10.9              10.2             0.7                 1.641  \n2021              11.0              10.5             0.5                 1.664  \n\n[87 rows x 8 columns]",
      "text/html": "<div>\n<style scoped>\n    .dataframe tbody tr th:only-of-type {\n        vertical-align: middle;\n    }\n\n    .dataframe tbody tr th {\n        vertical-align: top;\n    }\n\n    .dataframe thead th {\n        text-align: right;\n    }\n</style>\n<table border=\"1\" class=\"dataframe\">\n  <thead>\n    <tr style=\"text-align: right;\">\n      <th></th>\n      <th>Average_population</th>\n      <th>Live_births</th>\n      <th>Deaths</th>\n      <th>Natural_change</th>\n      <th>Crude_birth_rate</th>\n      <th>Crude_death_rate</th>\n      <th>Natural_change</th>\n      <th>Total_fertility_rate</th>\n    </tr>\n    <tr>\n      <th>Year</th>\n      <th></th>\n      <th></th>\n      <th></th>\n      <th></th>\n      <th></th>\n      <th></th>\n      <th></th>\n      <th></th>\n    </tr>\n  </thead>\n  <tbody>\n    <tr>\n      <th>1935</th>\n      <td>127250000</td>\n      <td>2377000</td>\n      <td>1392752</td>\n      <td>984248</td>\n      <td>18.7</td>\n      <td>10.9</td>\n      <td>7.7</td>\n      <td>2.190</td>\n    </tr>\n    <tr>\n      <th>1936</th>\n      <td>128053000</td>\n      <td>2355000</td>\n      <td>1479228</td>\n      <td>875772</td>\n      <td>18.4</td>\n      <td>11.5</td>\n      <td>6.8</td>\n      <td>2.150</td>\n    </tr>\n    <tr>\n      <th>1937</th>\n      <td>128825000</td>\n      <td>2413000</td>\n      <td>1450427</td>\n      <td>962573</td>\n      <td>18.7</td>\n      <td>11.2</td>\n      <td>7.5</td>\n      <td>2.170</td>\n    </tr>\n    <tr>\n      <th>1938</th>\n      <td>129825000</td>\n      <td>2496000</td>\n      <td>1381391</td>\n      <td>1114609</td>\n      <td>19.2</td>\n      <td>10.6</td>\n      <td>8.6</td>\n      <td>2.220</td>\n    </tr>\n    <tr>\n      <th>1939</th>\n      <td>130880000</td>\n      <td>2466000</td>\n      <td>1387897</td>\n      <td>1078103</td>\n      <td>18.8</td>\n      <td>10.6</td>\n      <td>8.2</td>\n      <td>2.170</td>\n    </tr>\n    <tr>\n      <th>...</th>\n      <td>...</td>\n      <td>...</td>\n      <td>...</td>\n      <td>...</td>\n      <td>...</td>\n      <td>...</td>\n      <td>...</td>\n      <td>...</td>\n    </tr>\n    <tr>\n      <th>2017</th>\n      <td>325122128</td>\n      <td>3855500</td>\n      <td>2813503</td>\n      <td>1041997</td>\n      <td>11.8</td>\n      <td>8.7</td>\n      <td>3.1</td>\n      <td>1.765</td>\n    </tr>\n    <tr>\n      <th>2018</th>\n      <td>326838199</td>\n      <td>3791712</td>\n      <td>2839205</td>\n      <td>952507</td>\n      <td>11.6</td>\n      <td>8.7</td>\n      <td>2.9</td>\n      <td>1.729</td>\n    </tr>\n    <tr>\n      <th>2019</th>\n      <td>328329953</td>\n      <td>3747540</td>\n      <td>2854858</td>\n      <td>892682</td>\n      <td>11.4</td>\n      <td>8.7</td>\n      <td>2.7</td>\n      <td>1.706</td>\n    </tr>\n    <tr>\n      <th>2020</th>\n      <td>331501080</td>\n      <td>3613647</td>\n      <td>3383729</td>\n      <td>229918</td>\n      <td>10.9</td>\n      <td>10.2</td>\n      <td>0.7</td>\n      <td>1.641</td>\n    </tr>\n    <tr>\n      <th>2021</th>\n      <td>331893745</td>\n      <td>3664292</td>\n      <td>3464231</td>\n      <td>200061</td>\n      <td>11.0</td>\n      <td>10.5</td>\n      <td>0.5</td>\n      <td>1.664</td>\n    </tr>\n  </tbody>\n</table>\n<p>87 rows × 8 columns</p>\n</div>"
     },
     "execution_count": 35,
     "metadata": {},
     "output_type": "execute_result"
    }
   ],
   "source": [
    "vital_statistics.drop('Pop_Growth', axis=1, inplace=True)  # drops desired column\n",
    "vital_statistics"
   ],
   "metadata": {
    "collapsed": false,
    "pycharm": {
     "name": "#%%\n"
    }
   }
  },
  {
   "cell_type": "code",
   "execution_count": 36,
   "outputs": [
    {
     "data": {
      "text/plain": "      Average_population  Live_births   Deaths  Natural_change  \\\nYear                                                             \n1935           127250000      2377000  1392752          984248   \n1936           128053000      2355000  1479228          875772   \n1937           128825000      2413000  1450427          962573   \n1938           129825000      2496000  1381391         1114609   \n1939           130880000      2466000  1387897         1078103   \n...                  ...          ...      ...             ...   \n2017           325122128      3855500  2813503         1041997   \n2018           326838199      3791712  2839205          952507   \n2019           328329953      3747540  2854858          892682   \n2020           331501080      3613647  3383729          229918   \n2021           331893745      3664292  3464231          200061   \n\n      Crude_birth_rate  Crude_death_rate  Natural_change  Total_fertility_rate  \nYear                                                                            \n1935              18.7              10.9             7.7                 2.190  \n1936              18.4              11.5             6.8                 2.150  \n1937              18.7              11.2             7.5                 2.170  \n1938              19.2              10.6             8.6                 2.220  \n1939              18.8              10.6             8.2                 2.170  \n...                ...               ...             ...                   ...  \n2017              11.8               8.7             3.1                 1.765  \n2018              11.6               8.7             2.9                 1.729  \n2019              11.4               8.7             2.7                 1.706  \n2020              10.9              10.2             0.7                 1.641  \n2021              11.0              10.5             0.5                 1.664  \n\n[87 rows x 8 columns]",
      "text/html": "<div>\n<style scoped>\n    .dataframe tbody tr th:only-of-type {\n        vertical-align: middle;\n    }\n\n    .dataframe tbody tr th {\n        vertical-align: top;\n    }\n\n    .dataframe thead th {\n        text-align: right;\n    }\n</style>\n<table border=\"1\" class=\"dataframe\">\n  <thead>\n    <tr style=\"text-align: right;\">\n      <th></th>\n      <th>Average_population</th>\n      <th>Live_births</th>\n      <th>Deaths</th>\n      <th>Natural_change</th>\n      <th>Crude_birth_rate</th>\n      <th>Crude_death_rate</th>\n      <th>Natural_change</th>\n      <th>Total_fertility_rate</th>\n    </tr>\n    <tr>\n      <th>Year</th>\n      <th></th>\n      <th></th>\n      <th></th>\n      <th></th>\n      <th></th>\n      <th></th>\n      <th></th>\n      <th></th>\n    </tr>\n  </thead>\n  <tbody>\n    <tr>\n      <th>1935</th>\n      <td>127250000</td>\n      <td>2377000</td>\n      <td>1392752</td>\n      <td>984248</td>\n      <td>18.7</td>\n      <td>10.9</td>\n      <td>7.7</td>\n      <td>2.190</td>\n    </tr>\n    <tr>\n      <th>1936</th>\n      <td>128053000</td>\n      <td>2355000</td>\n      <td>1479228</td>\n      <td>875772</td>\n      <td>18.4</td>\n      <td>11.5</td>\n      <td>6.8</td>\n      <td>2.150</td>\n    </tr>\n    <tr>\n      <th>1937</th>\n      <td>128825000</td>\n      <td>2413000</td>\n      <td>1450427</td>\n      <td>962573</td>\n      <td>18.7</td>\n      <td>11.2</td>\n      <td>7.5</td>\n      <td>2.170</td>\n    </tr>\n    <tr>\n      <th>1938</th>\n      <td>129825000</td>\n      <td>2496000</td>\n      <td>1381391</td>\n      <td>1114609</td>\n      <td>19.2</td>\n      <td>10.6</td>\n      <td>8.6</td>\n      <td>2.220</td>\n    </tr>\n    <tr>\n      <th>1939</th>\n      <td>130880000</td>\n      <td>2466000</td>\n      <td>1387897</td>\n      <td>1078103</td>\n      <td>18.8</td>\n      <td>10.6</td>\n      <td>8.2</td>\n      <td>2.170</td>\n    </tr>\n    <tr>\n      <th>...</th>\n      <td>...</td>\n      <td>...</td>\n      <td>...</td>\n      <td>...</td>\n      <td>...</td>\n      <td>...</td>\n      <td>...</td>\n      <td>...</td>\n    </tr>\n    <tr>\n      <th>2017</th>\n      <td>325122128</td>\n      <td>3855500</td>\n      <td>2813503</td>\n      <td>1041997</td>\n      <td>11.8</td>\n      <td>8.7</td>\n      <td>3.1</td>\n      <td>1.765</td>\n    </tr>\n    <tr>\n      <th>2018</th>\n      <td>326838199</td>\n      <td>3791712</td>\n      <td>2839205</td>\n      <td>952507</td>\n      <td>11.6</td>\n      <td>8.7</td>\n      <td>2.9</td>\n      <td>1.729</td>\n    </tr>\n    <tr>\n      <th>2019</th>\n      <td>328329953</td>\n      <td>3747540</td>\n      <td>2854858</td>\n      <td>892682</td>\n      <td>11.4</td>\n      <td>8.7</td>\n      <td>2.7</td>\n      <td>1.706</td>\n    </tr>\n    <tr>\n      <th>2020</th>\n      <td>331501080</td>\n      <td>3613647</td>\n      <td>3383729</td>\n      <td>229918</td>\n      <td>10.9</td>\n      <td>10.2</td>\n      <td>0.7</td>\n      <td>1.641</td>\n    </tr>\n    <tr>\n      <th>2021</th>\n      <td>331893745</td>\n      <td>3664292</td>\n      <td>3464231</td>\n      <td>200061</td>\n      <td>11.0</td>\n      <td>10.5</td>\n      <td>0.5</td>\n      <td>1.664</td>\n    </tr>\n  </tbody>\n</table>\n<p>87 rows × 8 columns</p>\n</div>"
     },
     "execution_count": 36,
     "metadata": {},
     "output_type": "execute_result"
    }
   ],
   "source": [
    "vital_statistics_test = vital_statistics ## some variations for other settings\n",
    "vital_statistics_test"
   ],
   "metadata": {
    "collapsed": false,
    "pycharm": {
     "name": "#%%\n"
    }
   }
  },
  {
   "cell_type": "markdown",
   "source": [
    "### Delete a Row\n"
   ],
   "metadata": {
    "collapsed": false,
    "pycharm": {
     "name": "#%% md\n"
    }
   }
  },
  {
   "cell_type": "code",
   "execution_count": 37,
   "outputs": [
    {
     "data": {
      "text/plain": "      Average_population  Live_births   Deaths  Natural_change  \\\nYear                                                             \n1936           128053000      2355000  1479228          875772   \n1937           128825000      2413000  1450427          962573   \n1938           129825000      2496000  1381391         1114609   \n1939           130880000      2466000  1387897         1078103   \n1940           131930000      2559000  1417269         1142000   \n...                  ...          ...      ...             ...   \n2017           325122128      3855500  2813503         1041997   \n2018           326838199      3791712  2839205          952507   \n2019           328329953      3747540  2854858          892682   \n2020           331501080      3613647  3383729          229918   \n2021           331893745      3664292  3464231          200061   \n\n      Crude_birth_rate  Crude_death_rate  Natural_change  Total_fertility_rate  \nYear                                                                            \n1936              18.4              11.5             6.8                 2.150  \n1937              18.7              11.2             7.5                 2.170  \n1938              19.2              10.6             8.6                 2.220  \n1939              18.8              10.6             8.2                 2.170  \n1940              19.4              10.8             8.7                 2.301  \n...                ...               ...             ...                   ...  \n2017              11.8               8.7             3.1                 1.765  \n2018              11.6               8.7             2.9                 1.729  \n2019              11.4               8.7             2.7                 1.706  \n2020              10.9              10.2             0.7                 1.641  \n2021              11.0              10.5             0.5                 1.664  \n\n[86 rows x 8 columns]",
      "text/html": "<div>\n<style scoped>\n    .dataframe tbody tr th:only-of-type {\n        vertical-align: middle;\n    }\n\n    .dataframe tbody tr th {\n        vertical-align: top;\n    }\n\n    .dataframe thead th {\n        text-align: right;\n    }\n</style>\n<table border=\"1\" class=\"dataframe\">\n  <thead>\n    <tr style=\"text-align: right;\">\n      <th></th>\n      <th>Average_population</th>\n      <th>Live_births</th>\n      <th>Deaths</th>\n      <th>Natural_change</th>\n      <th>Crude_birth_rate</th>\n      <th>Crude_death_rate</th>\n      <th>Natural_change</th>\n      <th>Total_fertility_rate</th>\n    </tr>\n    <tr>\n      <th>Year</th>\n      <th></th>\n      <th></th>\n      <th></th>\n      <th></th>\n      <th></th>\n      <th></th>\n      <th></th>\n      <th></th>\n    </tr>\n  </thead>\n  <tbody>\n    <tr>\n      <th>1936</th>\n      <td>128053000</td>\n      <td>2355000</td>\n      <td>1479228</td>\n      <td>875772</td>\n      <td>18.4</td>\n      <td>11.5</td>\n      <td>6.8</td>\n      <td>2.150</td>\n    </tr>\n    <tr>\n      <th>1937</th>\n      <td>128825000</td>\n      <td>2413000</td>\n      <td>1450427</td>\n      <td>962573</td>\n      <td>18.7</td>\n      <td>11.2</td>\n      <td>7.5</td>\n      <td>2.170</td>\n    </tr>\n    <tr>\n      <th>1938</th>\n      <td>129825000</td>\n      <td>2496000</td>\n      <td>1381391</td>\n      <td>1114609</td>\n      <td>19.2</td>\n      <td>10.6</td>\n      <td>8.6</td>\n      <td>2.220</td>\n    </tr>\n    <tr>\n      <th>1939</th>\n      <td>130880000</td>\n      <td>2466000</td>\n      <td>1387897</td>\n      <td>1078103</td>\n      <td>18.8</td>\n      <td>10.6</td>\n      <td>8.2</td>\n      <td>2.170</td>\n    </tr>\n    <tr>\n      <th>1940</th>\n      <td>131930000</td>\n      <td>2559000</td>\n      <td>1417269</td>\n      <td>1142000</td>\n      <td>19.4</td>\n      <td>10.8</td>\n      <td>8.7</td>\n      <td>2.301</td>\n    </tr>\n    <tr>\n      <th>...</th>\n      <td>...</td>\n      <td>...</td>\n      <td>...</td>\n      <td>...</td>\n      <td>...</td>\n      <td>...</td>\n      <td>...</td>\n      <td>...</td>\n    </tr>\n    <tr>\n      <th>2017</th>\n      <td>325122128</td>\n      <td>3855500</td>\n      <td>2813503</td>\n      <td>1041997</td>\n      <td>11.8</td>\n      <td>8.7</td>\n      <td>3.1</td>\n      <td>1.765</td>\n    </tr>\n    <tr>\n      <th>2018</th>\n      <td>326838199</td>\n      <td>3791712</td>\n      <td>2839205</td>\n      <td>952507</td>\n      <td>11.6</td>\n      <td>8.7</td>\n      <td>2.9</td>\n      <td>1.729</td>\n    </tr>\n    <tr>\n      <th>2019</th>\n      <td>328329953</td>\n      <td>3747540</td>\n      <td>2854858</td>\n      <td>892682</td>\n      <td>11.4</td>\n      <td>8.7</td>\n      <td>2.7</td>\n      <td>1.706</td>\n    </tr>\n    <tr>\n      <th>2020</th>\n      <td>331501080</td>\n      <td>3613647</td>\n      <td>3383729</td>\n      <td>229918</td>\n      <td>10.9</td>\n      <td>10.2</td>\n      <td>0.7</td>\n      <td>1.641</td>\n    </tr>\n    <tr>\n      <th>2021</th>\n      <td>331893745</td>\n      <td>3664292</td>\n      <td>3464231</td>\n      <td>200061</td>\n      <td>11.0</td>\n      <td>10.5</td>\n      <td>0.5</td>\n      <td>1.664</td>\n    </tr>\n  </tbody>\n</table>\n<p>86 rows × 8 columns</p>\n</div>"
     },
     "execution_count": 37,
     "metadata": {},
     "output_type": "execute_result"
    }
   ],
   "source": [
    "vital_statistics.drop('1935',axis=0, inplace=True)\n",
    "vital_statistics"
   ],
   "metadata": {
    "collapsed": false,
    "pycharm": {
     "name": "#%%\n"
    }
   }
  },
  {
   "cell_type": "markdown",
   "source": [
    "\n",
    "## --- Manipulating other data - Countries by GDP ---\n",
    "\n"
   ],
   "metadata": {
    "collapsed": false,
    "pycharm": {
     "name": "#%% md\n"
    }
   }
  },
  {
   "cell_type": "code",
   "execution_count": 38,
   "outputs": [
    {
     "data": {
      "text/plain": "    Country/Territory UN Region IMF[1][13]            World Bank[14]  \\\n    Country/Territory UN Region   Estimate       Year       Estimate   \n0               World         —  101560901       2022       96100091   \n1       United States  Americas   25035164       2022       22996100   \n2               China      Asia   18321197  [n 1]2022       17734063   \n3               Japan      Asia    4300621       2022        4937422   \n4             Germany    Europe    4031149       2022        4223116   \n..                ...       ...        ...        ...            ...   \n212             Palau   Oceania        226       2022            258   \n213          Kiribati   Oceania        207       2022            181   \n214             Nauru   Oceania        134       2022            133   \n215        Montserrat  Americas          —          —              —   \n216            Tuvalu   Oceania         64       2022             63   \n\n               United Nations[15]             \n          Year           Estimate       Year  \n0         2021           85328323       2020  \n1         2021           20893746       2020  \n2    [n 3]2021           14722801  [n 1]2020  \n3         2021            5057759       2020  \n4         2021            3846414       2020  \n..         ...                ...        ...  \n212       2020                264       2020  \n213       2020                181       2020  \n214       2021                135       2020  \n215          —                 68       2020  \n216       2021                 55       2020  \n\n[217 rows x 8 columns]",
      "text/html": "<div>\n<style scoped>\n    .dataframe tbody tr th:only-of-type {\n        vertical-align: middle;\n    }\n\n    .dataframe tbody tr th {\n        vertical-align: top;\n    }\n\n    .dataframe thead tr th {\n        text-align: left;\n    }\n</style>\n<table border=\"1\" class=\"dataframe\">\n  <thead>\n    <tr>\n      <th></th>\n      <th>Country/Territory</th>\n      <th>UN Region</th>\n      <th colspan=\"2\" halign=\"left\">IMF[1][13]</th>\n      <th colspan=\"2\" halign=\"left\">World Bank[14]</th>\n      <th colspan=\"2\" halign=\"left\">United Nations[15]</th>\n    </tr>\n    <tr>\n      <th></th>\n      <th>Country/Territory</th>\n      <th>UN Region</th>\n      <th>Estimate</th>\n      <th>Year</th>\n      <th>Estimate</th>\n      <th>Year</th>\n      <th>Estimate</th>\n      <th>Year</th>\n    </tr>\n  </thead>\n  <tbody>\n    <tr>\n      <th>0</th>\n      <td>World</td>\n      <td>—</td>\n      <td>101560901</td>\n      <td>2022</td>\n      <td>96100091</td>\n      <td>2021</td>\n      <td>85328323</td>\n      <td>2020</td>\n    </tr>\n    <tr>\n      <th>1</th>\n      <td>United States</td>\n      <td>Americas</td>\n      <td>25035164</td>\n      <td>2022</td>\n      <td>22996100</td>\n      <td>2021</td>\n      <td>20893746</td>\n      <td>2020</td>\n    </tr>\n    <tr>\n      <th>2</th>\n      <td>China</td>\n      <td>Asia</td>\n      <td>18321197</td>\n      <td>[n 1]2022</td>\n      <td>17734063</td>\n      <td>[n 3]2021</td>\n      <td>14722801</td>\n      <td>[n 1]2020</td>\n    </tr>\n    <tr>\n      <th>3</th>\n      <td>Japan</td>\n      <td>Asia</td>\n      <td>4300621</td>\n      <td>2022</td>\n      <td>4937422</td>\n      <td>2021</td>\n      <td>5057759</td>\n      <td>2020</td>\n    </tr>\n    <tr>\n      <th>4</th>\n      <td>Germany</td>\n      <td>Europe</td>\n      <td>4031149</td>\n      <td>2022</td>\n      <td>4223116</td>\n      <td>2021</td>\n      <td>3846414</td>\n      <td>2020</td>\n    </tr>\n    <tr>\n      <th>...</th>\n      <td>...</td>\n      <td>...</td>\n      <td>...</td>\n      <td>...</td>\n      <td>...</td>\n      <td>...</td>\n      <td>...</td>\n      <td>...</td>\n    </tr>\n    <tr>\n      <th>212</th>\n      <td>Palau</td>\n      <td>Oceania</td>\n      <td>226</td>\n      <td>2022</td>\n      <td>258</td>\n      <td>2020</td>\n      <td>264</td>\n      <td>2020</td>\n    </tr>\n    <tr>\n      <th>213</th>\n      <td>Kiribati</td>\n      <td>Oceania</td>\n      <td>207</td>\n      <td>2022</td>\n      <td>181</td>\n      <td>2020</td>\n      <td>181</td>\n      <td>2020</td>\n    </tr>\n    <tr>\n      <th>214</th>\n      <td>Nauru</td>\n      <td>Oceania</td>\n      <td>134</td>\n      <td>2022</td>\n      <td>133</td>\n      <td>2021</td>\n      <td>135</td>\n      <td>2020</td>\n    </tr>\n    <tr>\n      <th>215</th>\n      <td>Montserrat</td>\n      <td>Americas</td>\n      <td>—</td>\n      <td>—</td>\n      <td>—</td>\n      <td>—</td>\n      <td>68</td>\n      <td>2020</td>\n    </tr>\n    <tr>\n      <th>216</th>\n      <td>Tuvalu</td>\n      <td>Oceania</td>\n      <td>64</td>\n      <td>2022</td>\n      <td>63</td>\n      <td>2021</td>\n      <td>55</td>\n      <td>2020</td>\n    </tr>\n  </tbody>\n</table>\n<p>217 rows × 8 columns</p>\n</div>"
     },
     "execution_count": 38,
     "metadata": {},
     "output_type": "execute_result"
    }
   ],
   "source": [
    "countries_by_gdp = pd.read_html(\"https://en.wikipedia.org/wiki/List_of_countries_by_GDP_(nominal)\")[2]\n",
    "countries_by_gdp\n"
   ],
   "metadata": {
    "collapsed": false,
    "pycharm": {
     "name": "#%%\n"
    }
   }
  },
  {
   "cell_type": "code",
   "execution_count": 39,
   "outputs": [
    {
     "name": "stdout",
     "output_type": "stream",
     "text": [
      "('Country/Territory', 'Country/Territory')\n",
      "('UN Region', 'UN Region')\n",
      "('IMF[1][13]', 'Estimate')\n",
      "('IMF[1][13]', 'Year')\n",
      "('World Bank[14]', 'Estimate')\n",
      "('World Bank[14]', 'Year')\n",
      "('United Nations[15]', 'Estimate')\n",
      "('United Nations[15]', 'Year')\n"
     ]
    }
   ],
   "source": [
    "for col in countries_by_gdp.columns: # iterate through columns top-dowm left right\n",
    "    print(col)"
   ],
   "metadata": {
    "collapsed": false,
    "pycharm": {
     "name": "#%%\n"
    }
   }
  },
  {
   "cell_type": "code",
   "execution_count": 40,
   "outputs": [
    {
     "data": {
      "text/plain": "    Country/Territory UN Region   Estimate       Year  Estimate       Year  \\\n0               World         —  101560901       2022  96100091       2021   \n1       United States  Americas   25035164       2022  22996100       2021   \n2               China      Asia   18321197  [n 1]2022  17734063  [n 3]2021   \n3               Japan      Asia    4300621       2022   4937422       2021   \n4             Germany    Europe    4031149       2022   4223116       2021   \n..                ...       ...        ...        ...       ...        ...   \n212             Palau   Oceania        226       2022       258       2020   \n213          Kiribati   Oceania        207       2022       181       2020   \n214             Nauru   Oceania        134       2022       133       2021   \n215        Montserrat  Americas          —          —         —          —   \n216            Tuvalu   Oceania         64       2022        63       2021   \n\n     Estimate       Year  \n0    85328323       2020  \n1    20893746       2020  \n2    14722801  [n 1]2020  \n3     5057759       2020  \n4     3846414       2020  \n..        ...        ...  \n212       264       2020  \n213       181       2020  \n214       135       2020  \n215        68       2020  \n216        55       2020  \n\n[217 rows x 8 columns]",
      "text/html": "<div>\n<style scoped>\n    .dataframe tbody tr th:only-of-type {\n        vertical-align: middle;\n    }\n\n    .dataframe tbody tr th {\n        vertical-align: top;\n    }\n\n    .dataframe thead th {\n        text-align: right;\n    }\n</style>\n<table border=\"1\" class=\"dataframe\">\n  <thead>\n    <tr style=\"text-align: right;\">\n      <th></th>\n      <th>Country/Territory</th>\n      <th>UN Region</th>\n      <th>Estimate</th>\n      <th>Year</th>\n      <th>Estimate</th>\n      <th>Year</th>\n      <th>Estimate</th>\n      <th>Year</th>\n    </tr>\n  </thead>\n  <tbody>\n    <tr>\n      <th>0</th>\n      <td>World</td>\n      <td>—</td>\n      <td>101560901</td>\n      <td>2022</td>\n      <td>96100091</td>\n      <td>2021</td>\n      <td>85328323</td>\n      <td>2020</td>\n    </tr>\n    <tr>\n      <th>1</th>\n      <td>United States</td>\n      <td>Americas</td>\n      <td>25035164</td>\n      <td>2022</td>\n      <td>22996100</td>\n      <td>2021</td>\n      <td>20893746</td>\n      <td>2020</td>\n    </tr>\n    <tr>\n      <th>2</th>\n      <td>China</td>\n      <td>Asia</td>\n      <td>18321197</td>\n      <td>[n 1]2022</td>\n      <td>17734063</td>\n      <td>[n 3]2021</td>\n      <td>14722801</td>\n      <td>[n 1]2020</td>\n    </tr>\n    <tr>\n      <th>3</th>\n      <td>Japan</td>\n      <td>Asia</td>\n      <td>4300621</td>\n      <td>2022</td>\n      <td>4937422</td>\n      <td>2021</td>\n      <td>5057759</td>\n      <td>2020</td>\n    </tr>\n    <tr>\n      <th>4</th>\n      <td>Germany</td>\n      <td>Europe</td>\n      <td>4031149</td>\n      <td>2022</td>\n      <td>4223116</td>\n      <td>2021</td>\n      <td>3846414</td>\n      <td>2020</td>\n    </tr>\n    <tr>\n      <th>...</th>\n      <td>...</td>\n      <td>...</td>\n      <td>...</td>\n      <td>...</td>\n      <td>...</td>\n      <td>...</td>\n      <td>...</td>\n      <td>...</td>\n    </tr>\n    <tr>\n      <th>212</th>\n      <td>Palau</td>\n      <td>Oceania</td>\n      <td>226</td>\n      <td>2022</td>\n      <td>258</td>\n      <td>2020</td>\n      <td>264</td>\n      <td>2020</td>\n    </tr>\n    <tr>\n      <th>213</th>\n      <td>Kiribati</td>\n      <td>Oceania</td>\n      <td>207</td>\n      <td>2022</td>\n      <td>181</td>\n      <td>2020</td>\n      <td>181</td>\n      <td>2020</td>\n    </tr>\n    <tr>\n      <th>214</th>\n      <td>Nauru</td>\n      <td>Oceania</td>\n      <td>134</td>\n      <td>2022</td>\n      <td>133</td>\n      <td>2021</td>\n      <td>135</td>\n      <td>2020</td>\n    </tr>\n    <tr>\n      <th>215</th>\n      <td>Montserrat</td>\n      <td>Americas</td>\n      <td>—</td>\n      <td>—</td>\n      <td>—</td>\n      <td>—</td>\n      <td>68</td>\n      <td>2020</td>\n    </tr>\n    <tr>\n      <th>216</th>\n      <td>Tuvalu</td>\n      <td>Oceania</td>\n      <td>64</td>\n      <td>2022</td>\n      <td>63</td>\n      <td>2021</td>\n      <td>55</td>\n      <td>2020</td>\n    </tr>\n  </tbody>\n</table>\n<p>217 rows × 8 columns</p>\n</div>"
     },
     "execution_count": 40,
     "metadata": {},
     "output_type": "execute_result"
    }
   ],
   "source": [
    "# Delete a level of a multilevel column name\n",
    "countries_by_gdp.columns = countries_by_gdp.columns.droplevel()\n",
    "countries_by_gdp"
   ],
   "metadata": {
    "collapsed": false,
    "pycharm": {
     "name": "#%%\n"
    }
   }
  },
  {
   "cell_type": "code",
   "execution_count": 41,
   "outputs": [
    {
     "data": {
      "text/plain": "    Country/Territory UN Region   Estimate       Year\n0               World         —  101560901       2022\n1       United States  Americas   25035164       2022\n2               China      Asia   18321197  [n 1]2022\n3               Japan      Asia    4300621       2022\n4             Germany    Europe    4031149       2022\n..                ...       ...        ...        ...\n212             Palau   Oceania        226       2022\n213          Kiribati   Oceania        207       2022\n214             Nauru   Oceania        134       2022\n215        Montserrat  Americas          —          —\n216            Tuvalu   Oceania         64       2022\n\n[217 rows x 4 columns]",
      "text/html": "<div>\n<style scoped>\n    .dataframe tbody tr th:only-of-type {\n        vertical-align: middle;\n    }\n\n    .dataframe tbody tr th {\n        vertical-align: top;\n    }\n\n    .dataframe thead th {\n        text-align: right;\n    }\n</style>\n<table border=\"1\" class=\"dataframe\">\n  <thead>\n    <tr style=\"text-align: right;\">\n      <th></th>\n      <th>Country/Territory</th>\n      <th>UN Region</th>\n      <th>Estimate</th>\n      <th>Year</th>\n    </tr>\n  </thead>\n  <tbody>\n    <tr>\n      <th>0</th>\n      <td>World</td>\n      <td>—</td>\n      <td>101560901</td>\n      <td>2022</td>\n    </tr>\n    <tr>\n      <th>1</th>\n      <td>United States</td>\n      <td>Americas</td>\n      <td>25035164</td>\n      <td>2022</td>\n    </tr>\n    <tr>\n      <th>2</th>\n      <td>China</td>\n      <td>Asia</td>\n      <td>18321197</td>\n      <td>[n 1]2022</td>\n    </tr>\n    <tr>\n      <th>3</th>\n      <td>Japan</td>\n      <td>Asia</td>\n      <td>4300621</td>\n      <td>2022</td>\n    </tr>\n    <tr>\n      <th>4</th>\n      <td>Germany</td>\n      <td>Europe</td>\n      <td>4031149</td>\n      <td>2022</td>\n    </tr>\n    <tr>\n      <th>...</th>\n      <td>...</td>\n      <td>...</td>\n      <td>...</td>\n      <td>...</td>\n    </tr>\n    <tr>\n      <th>212</th>\n      <td>Palau</td>\n      <td>Oceania</td>\n      <td>226</td>\n      <td>2022</td>\n    </tr>\n    <tr>\n      <th>213</th>\n      <td>Kiribati</td>\n      <td>Oceania</td>\n      <td>207</td>\n      <td>2022</td>\n    </tr>\n    <tr>\n      <th>214</th>\n      <td>Nauru</td>\n      <td>Oceania</td>\n      <td>134</td>\n      <td>2022</td>\n    </tr>\n    <tr>\n      <th>215</th>\n      <td>Montserrat</td>\n      <td>Americas</td>\n      <td>—</td>\n      <td>—</td>\n    </tr>\n    <tr>\n      <th>216</th>\n      <td>Tuvalu</td>\n      <td>Oceania</td>\n      <td>64</td>\n      <td>2022</td>\n    </tr>\n  </tbody>\n</table>\n<p>217 rows × 4 columns</p>\n</div>"
     },
     "execution_count": 41,
     "metadata": {},
     "output_type": "execute_result"
    }
   ],
   "source": [
    "# Keep only columns if they haven't used the same name prior\n",
    "countries_by_gdp = countries_by_gdp.loc[:,~countries_by_gdp.columns.duplicated()]\n",
    "countries_by_gdp"
   ],
   "metadata": {
    "collapsed": false,
    "pycharm": {
     "name": "#%%\n"
    }
   }
  },
  {
   "cell_type": "code",
   "execution_count": null,
   "outputs": [],
   "source": [],
   "metadata": {
    "collapsed": false,
    "pycharm": {
     "name": "#%%\n"
    }
   }
  },
  {
   "cell_type": "markdown",
   "source": [
    "### More Ways of Messing with Data\n"
   ],
   "metadata": {
    "collapsed": false,
    "pycharm": {
     "name": "#%% md\n"
    }
   }
  },
  {
   "cell_type": "code",
   "execution_count": 38,
   "outputs": [],
   "source": [],
   "metadata": {
    "collapsed": false,
    "pycharm": {
     "name": "#%%\n"
    }
   }
  },
  {
   "cell_type": "markdown",
   "source": [],
   "metadata": {
    "collapsed": false,
    "pycharm": {
     "name": "#%% md\n"
    }
   }
  }
 ],
 "metadata": {
  "kernelspec": {
   "display_name": "Python 3 (ipykernel)",
   "language": "python",
   "name": "python3"
  },
  "language_info": {
   "codemirror_mode": {
    "name": "ipython",
    "version": 3
   },
   "file_extension": ".py",
   "mimetype": "text/x-python",
   "name": "python",
   "nbconvert_exporter": "python",
   "pygments_lexer": "ipython3",
   "version": "3.9.12"
  }
 },
 "nbformat": 4,
 "nbformat_minor": 5
}