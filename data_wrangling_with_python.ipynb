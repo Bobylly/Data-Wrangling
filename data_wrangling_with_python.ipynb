{
 "cells": [
  {
   "cell_type": "markdown",
   "id": "35f299a3",
   "metadata": {
    "pycharm": {
     "name": "#%% md\n"
    }
   },
   "source": [
    "### Learn numpy & pandas by doing random exercises"
   ]
  },
  {
   "cell_type": "code",
   "execution_count": null,
   "id": "771499a6",
   "metadata": {
    "pycharm": {
     "name": "#%%\n"
    }
   },
   "outputs": [],
   "source": [
    "# clears all the variable values previously set\n",
    "# from IPython import get_ipython\n",
    "# get_ipython().magic(\"reset -sf\")"
   ]
  },
  {
   "cell_type": "code",
   "execution_count": null,
   "id": "aff9ba85",
   "metadata": {
    "pycharm": {
     "name": "#%%\n"
    }
   },
   "outputs": [],
   "source": [
    "# numpy is good for multidimensional arrays and much more.\n",
    "import numpy as np\n",
    "# pandas is used for data manipulation and analysis\n",
    "import pandas as pd\n",
    "\n",
    "from pandas_datareader import data as web #reads stock data\n",
    "import matplotlib.pyplot as plt # plotting\n",
    "import matplotlib.dates as mdates # styling dates\n",
    "from toolz.utils import raises\n",
    "%matplotlib notebook\n",
    "\n",
    "import warnings\n",
    "warnings.simplefilter(\"ignore\")"
   ]
  },
  {
   "cell_type": "markdown",
   "id": "eba1196a",
   "metadata": {
    "pycharm": {
     "name": "#%% md\n"
    }
   },
   "source": [
    "#### Numpy stuff"
   ]
  },
  {
   "cell_type": "code",
   "execution_count": null,
   "id": "bf7e0d42",
   "metadata": {
    "pycharm": {
     "name": "#%%\n"
    }
   },
   "outputs": [],
   "source": [
    "# arrays and stuff\n",
    "just_a_list = [1,2,3,4]\n",
    "nparray = np.array(just_a_list) # convert the list to a numpy array\n",
    "nparray\n",
    "type(nparray) # returns np.ndarray -> nd stands for n-dimensional"
   ]
  },
  {
   "cell_type": "markdown",
   "id": "5ec667b8",
   "metadata": {
    "pycharm": {
     "name": "#%% md\n"
    }
   },
   "source": [
    "array in range"
   ]
  },
  {
   "cell_type": "code",
   "execution_count": null,
   "id": "f172e03c",
   "metadata": {
    "pycharm": {
     "name": "#%%\n"
    }
   },
   "outputs": [],
   "source": [
    "# create array from 0 to 4\n",
    "nparray1 = np.arange(0,5)  # start, stop\n",
    "nparray1"
   ]
  },
  {
   "cell_type": "code",
   "execution_count": null,
   "id": "122c83f4",
   "metadata": {
    "pycharm": {
     "name": "#%%\n"
    }
   },
   "outputs": [],
   "source": [
    "# define a step\n",
    "nparray3 = np.arange(0,11,2) ## start, stop, step\n",
    "nparray3"
   ]
  },
  {
   "cell_type": "markdown",
   "id": "96b2836b",
   "metadata": {
    "pycharm": {
     "name": "#%% md\n"
    }
   },
   "source": [
    "#### Matrices (or fancy name for 3D arrays, I guess?)"
   ]
  },
  {
   "cell_type": "code",
   "execution_count": null,
   "id": "8cca46f7",
   "metadata": {
    "pycharm": {
     "name": "#%%\n"
    }
   },
   "outputs": [],
   "source": [
    "# create a 4 row matrix with 3 columns with all having the same value\n",
    "matrice1 = np.zeros((4,3)) # fills the matrix in this order rows, columns\n",
    "matrice1"
   ]
  },
  {
   "cell_type": "markdown",
   "id": "2b4ab837",
   "metadata": {
    "pycharm": {
     "name": "#%% md\n"
    }
   },
   "source": [
    "random matrices"
   ]
  },
  {
   "cell_type": "code",
   "execution_count": null,
   "id": "7d8708f8",
   "metadata": {
    "pycharm": {
     "name": "#%%\n"
    }
   },
   "outputs": [],
   "source": [
    "# random values between 0 and 13 as a matrix with 4 rows and 3 columns\n",
    "matrice2 = np.random.randint(0,13,(4,3)) # (value-range start,end,(row,column))\n",
    "matrice2"
   ]
  },
  {
   "cell_type": "markdown",
   "id": "f07be634",
   "metadata": {
    "pycharm": {
     "name": "#%% md\n"
    }
   },
   "source": [
    "generate defined number of values in range"
   ]
  },
  {
   "cell_type": "code",
   "execution_count": null,
   "id": "6739ad87",
   "metadata": {
    "pycharm": {
     "name": "#%%\n"
    }
   },
   "outputs": [],
   "source": [
    "# generate 10 equally distanced values between 1 and 10\n",
    "matrice3 = np.linspace(1,10,5) # good when I wannt to divide 100 in 15 chunks\n",
    "matrice3_1 = np.linspace(1,10,5)\n",
    "matrice3_1 = np.linspace(100,0,5)\n",
    "print(matrice3, \"\\n\", matrice3_1)\n",
    "print(\"\\n\")\n",
    "print(matrice3, \"\\n\", matrice3_1)"
   ]
  },
  {
   "cell_type": "markdown",
   "id": "2043087c",
   "metadata": {
    "pycharm": {
     "name": "#%% md\n"
    }
   },
   "source": [
    "reshape arrays"
   ]
  },
  {
   "cell_type": "code",
   "execution_count": null,
   "id": "8c1619b9",
   "metadata": {
    "pycharm": {
     "name": "#%%\n"
    }
   },
   "outputs": [],
   "source": [
    "# create array with 12 values\n",
    "matrice4 = np.random.randint(0,50,12)\n",
    "matrice4"
   ]
  },
  {
   "cell_type": "code",
   "execution_count": null,
   "id": "713ca408",
   "metadata": {
    "pycharm": {
     "name": "#%%\n"
    }
   },
   "outputs": [],
   "source": [
    "# reshape to a 3 row 4 column array\n",
    "matrice5 = matrice2.reshape(3,4) # var_new = var_call.reshape(row,col)\n",
    "matrice5"
   ]
  },
  {
   "cell_type": "code",
   "execution_count": null,
   "id": "022d6e09",
   "metadata": {
    "pycharm": {
     "name": "#%%\n"
    }
   },
   "outputs": [],
   "source": [
    "# reshape into a 3d arraw with 3 blocks, 2 rows, 2 columns\n",
    "# reshape differently, 2 blocks, 2 rows, 3 columns\n",
    "matrice6 = matrice2.reshape(3,2,2) # reshape(blocks,row,col)\n",
    "matrice6"
   ]
  },
  {
   "cell_type": "code",
   "execution_count": null,
   "id": "9c10c159",
   "metadata": {
    "pycharm": {
     "name": "#%%\n"
    }
   },
   "outputs": [],
   "source": [
    "# get the values in the 2nd block, 3rd row and last column\n",
    "matrice6[0][1][1]"
   ]
  },
  {
   "cell_type": "markdown",
   "id": "8d3fd9f2",
   "metadata": {
    "pycharm": {
     "name": "#%% md\n"
    }
   },
   "source": [
    "filter arrays"
   ]
  },
  {
   "cell_type": "code",
   "execution_count": null,
   "id": "c2eae426",
   "metadata": {
    "pycharm": {
     "name": "#%%\n"
    }
   },
   "outputs": [],
   "source": [
    "# provide a boolean array where values are above 10\n",
    "print(matrice2)\n",
    "matrice2 > 10"
   ]
  },
  {
   "cell_type": "code",
   "execution_count": null,
   "id": "1f7f26ab",
   "metadata": {
    "pycharm": {
     "name": "#%%\n"
    }
   },
   "outputs": [],
   "source": [
    "# return an array with just values over 20\n",
    "matrice2[matrice2 > 5] "
   ]
  },
  {
   "cell_type": "markdown",
   "id": "9eb435bc",
   "metadata": {
    "pycharm": {
     "name": "#%% md\n"
    }
   },
   "source": [
    "#### basic basic stats"
   ]
  },
  {
   "cell_type": "code",
   "execution_count": null,
   "id": "cad78139",
   "metadata": {
    "pycharm": {
     "name": "#%%\n"
    }
   },
   "outputs": [],
   "source": [
    "# mean, avg, median, std, var, maybe add some more later ?\n",
    "eth_price = np.random.randint(90,4800,48) # buy 1 eth once a month\n",
    "eth_price \n",
    "print(\"Avg price is: \", eth_price.mean().round(2)) #why is it so easy ? ffs\n",
    "print(\"Min is:        \", eth_price.min())\n",
    "print( \"Max is:       \", eth_price.max())\n",
    "print(\"Std is:       \", eth_price.std().round())\n",
    "print(\"variance is:  \", eth_price.var().round())"
   ]
  },
  {
   "cell_type": "markdown",
   "id": "d5e85d16",
   "metadata": {
    "pycharm": {
     "name": "#%% md\n"
    }
   },
   "source": [
    "the seed function"
   ]
  },
  {
   "cell_type": "code",
   "execution_count": null,
   "id": "5409b6c7",
   "metadata": {
    "pycharm": {
     "name": "#%%\n"
    }
   },
   "outputs": [],
   "source": [
    "np.random.seed(123) # SEED is the reason it stays the same\n",
    "matrice7 = np.random.randint(0,50,10)\n",
    "matrice7\n"
   ]
  },
  {
   "cell_type": "markdown",
   "id": "8e43ce6a",
   "metadata": {
    "pycharm": {
     "name": "#%% md\n"
    }
   },
   "source": [
    "####  PANDAS"
   ]
  },
  {
   "cell_type": "markdown",
   "id": "8adf3862",
   "metadata": {
    "pycharm": {
     "name": "#%% md\n"
    }
   },
   "source": [
    "####  read data from a CSV\n"
   ]
  },
  {
   "cell_type": "code",
   "execution_count": null,
   "id": "5c15ece6",
   "metadata": {
    "collapsed": true,
    "pycharm": {
     "name": "#%%\n"
    }
   },
   "outputs": [],
   "source": [
    "def get_data_from_csv(csv_file): \n",
    "    try:\n",
    "        # Validate file extension\n",
    "        if not csv_file.endswith('.csv'):\n",
    "            raise ValueError('The file must be a csv file.')\n",
    "\n",
    "        # Read the csv file\n",
    "        df = pd.read_csv(csv_file)\n",
    "    except FileNotFoundError:\n",
    "        pass\n",
    "    else:\n",
    "        return df\n",
    "\n",
    "pyrusdt_df = get_data_from_csv('csv_test_for_pandas.csv')\n",
    "pyrusdt_df"
   ]
  },
  {
   "cell_type": "markdown",
   "id": "e1698e93",
   "metadata": {
    "pycharm": {
     "name": "#%% md\n"
    }
   },
   "source": [
    "###  read data from a XLS \n",
    "\n"
   ]
  },
  {
   "cell_type": "code",
   "execution_count": null,
   "id": "9b3f4245",
   "metadata": {
    "collapsed": true,
    "pycharm": {
     "name": "#%%\n"
    }
   },
   "outputs": [],
   "source": [
    "# define func that takes one argument( a csv file)\n",
    "# we validate if the file is a csv format. if not, raise error\n",
    "# the function then tries to read the csv file using the pandas.read_csv function\n",
    "# if the csv is not found, an error is raised.\n",
    "# otherwise the data is returned in a pandas dataframe\n",
    "# call function and pass the csv file, storing the data in the desired variable\n",
    "\n",
    "def get_data_from_excel_file(excel_file):\n",
    "    try:\n",
    "        #validate if file is excel format\n",
    "        if not excel_file.endswith('.xlsx'):\n",
    "            raise ValueError('the file must be of xlsx type.')\n",
    "\n",
    "        # Read the csv file\n",
    "        df = pd.read_excel(excel_file)\n",
    "    except FileNotFoundError:\n",
    "        pass\n",
    "    else:\n",
    "        return df\n",
    "\n",
    "excel_df = get_data_from_excel_file('xls_test_for_pandas.xlsx')\n",
    "excel_df\n",
    "\n"
   ]
  },
  {
   "cell_type": "markdown",
   "id": "c3792719",
   "metadata": {
    "pycharm": {
     "name": "#%% md\n"
    }
   },
   "source": [
    "###  read data from a HTML \n",
    "\n"
   ]
  },
  {
   "cell_type": "code",
   "execution_count": null,
   "id": "ddb3beb1",
   "metadata": {
    "pycharm": {
     "name": "#%%\n"
    },
    "scrolled": true
   },
   "outputs": [],
   "source": [
    "get_full_data_from_html = pd.read_html(\"https://en.wikipedia.org/wiki/Demographics_of_the_United_States\")\n",
    "get_full_data_from_html"
   ]
  },
  {
   "cell_type": "markdown",
   "id": "e417671d",
   "metadata": {
    "pycharm": {
     "name": "#%% md\n"
    }
   },
   "source": [
    "### read a column (us demographics)\n"
   ]
  },
  {
   "cell_type": "code",
   "execution_count": null,
   "id": "f1efc70b",
   "metadata": {
    "pycharm": {
     "name": "#%%\n"
    }
   },
   "outputs": [],
   "source": [
    "# match searches found in tables\n",
    "vital_statistics = pd.read_html(\"https://en.wikipedia.org/wiki/Demographics_of_the_United_States\",match=\"Average population\")[0]\n",
    "vital_statistics"
   ]
  },
  {
   "cell_type": "markdown",
   "source": [
    "### replace spaces with column names\n"
   ],
   "metadata": {
    "collapsed": false,
    "pycharm": {
     "name": "#%% md\n"
    }
   }
  },
  {
   "cell_type": "code",
   "execution_count": null,
   "id": "5e9101e8",
   "metadata": {
    "pycharm": {
     "name": "#%%\n"
    }
   },
   "outputs": [],
   "source": [
    "# replace spaces with column names // >>>>>>> this needs to be exercised more <<<<<<\n",
    "vital_statistics.columns = [x.replace(' ', '_') for x in vital_statistics.columns]\n",
    "vital_statistics"
   ]
  },
  {
   "cell_type": "markdown",
   "source": [
    "### remove characters in columns ( rounded parentheses)\n"
   ],
   "metadata": {
    "collapsed": false,
    "pycharm": {
     "name": "#%% md\n"
    }
   }
  },
  {
   "cell_type": "code",
   "execution_count": null,
   "id": "c50db104",
   "metadata": {
    "pycharm": {
     "name": "#%%\n"
    }
   },
   "outputs": [],
   "source": [
    "# remove parentheses and what's inside them <<<<<< needs repetition ! <<<<<<\n",
    "vital_statistics.columns = vital_statistics.columns.str.replace(r\"\\(.*\\)\",\"\")\n",
    "vital_statistics"
   ]
  },
  {
   "cell_type": "markdown",
   "source": [
    "### remove characters in columns (squared parentheses)"
   ],
   "metadata": {
    "collapsed": false,
    "pycharm": {
     "name": "#%% md\n"
    }
   }
  },
  {
   "cell_type": "code",
   "execution_count": null,
   "outputs": [],
   "source": [
    "# remove parentheses and what's inside them <<<<<< needs repetition ! <<<<<<\n",
    "vital_statistics.columns = vital_statistics.columns.str.replace(r\"\\[.*\\]\",\"\")\n",
    "vital_statistics"
   ],
   "metadata": {
    "collapsed": false,
    "pycharm": {
     "name": "#%%\n"
    }
   }
  },
  {
   "cell_type": "markdown",
   "source": [
    "### Rename Columns\n"
   ],
   "metadata": {
    "collapsed": false,
    "pycharm": {
     "name": "#%% md\n"
    }
   }
  },
  {
   "cell_type": "code",
   "execution_count": null,
   "id": "256cad0a",
   "metadata": {
    "pycharm": {
     "name": "#%%\n"
    }
   },
   "outputs": [],
   "source": [
    "vital_statistics = vital_statistics.rename(columns={'Crude_birth_rate_': 'Crude_birth_rate'})\n",
    "vital_statistics\n",
    "\n",
    "vital_statistics = vital_statistics.rename(columns={'Crude_death_rate_': 'Crude_death_rate'})\n",
    "vital_statistics\n",
    "\n",
    "vital_statistics = vital_statistics.rename(columns={'Natural_change_': 'Natural_change'})\n",
    "vital_statistics\n",
    "\n",
    "vital_statistics = vital_statistics.rename(columns={'Unnamed:_0': \"Year\"})\n",
    "vital_statistics\n"
   ]
  },
  {
   "cell_type": "markdown",
   "source": [
    "### Remove Characters in Columns"
   ],
   "metadata": {
    "collapsed": false,
    "pycharm": {
     "name": "#%% md\n"
    }
   }
  },
  {
   "cell_type": "code",
   "execution_count": null,
   "id": "61b7fc6b",
   "metadata": {
    "pycharm": {
     "name": "#%%\n"
    }
   },
   "outputs": [],
   "source": [
    "# look at previous column, rows #82 to #86. If I want to remove the parentheses, i'd do it like this:\n",
    "# df.X = df.X.str.replace(r\"\\[.*\\]\",\"\") where X is the desired column, in my case Year\n",
    "# also, in my case I wanted to remove the references which are [] with numbers in them\n",
    "vital_statistics.Year = vital_statistics.Year.str.replace(r\"\\[.*\\]\",\"\")\n",
    "vital_statistics"
   ]
  },
  {
   "cell_type": "markdown",
   "source": [
    "### selecting a particular column"
   ],
   "metadata": {
    "collapsed": false,
    "pycharm": {
     "name": "#%% md\n"
    }
   }
  },
  {
   "cell_type": "code",
   "execution_count": null,
   "outputs": [],
   "source": [
    "vital_statistics.Average_population  # df.column_name\n",
    "vital_statistics['Average_population'] # works the same"
   ],
   "metadata": {
    "collapsed": false,
    "pycharm": {
     "name": "#%%\n"
    }
   }
  },
  {
   "cell_type": "markdown",
   "source": [
    "#### Make a Column an Index"
   ],
   "metadata": {
    "collapsed": false,
    "pycharm": {
     "name": "#%% md\n"
    }
   }
  },
  {
   "cell_type": "code",
   "execution_count": null,
   "outputs": [],
   "source": [
    "# good when you don't want the standard index, but a different desired column (like Year in this ex)\n",
    "vital_statistics.set_index('Year', inplace=True)\n",
    "vital_statistics"
   ],
   "metadata": {
    "collapsed": false,
    "pycharm": {
     "name": "#%%\n"
    }
   }
  },
  {
   "cell_type": "code",
   "execution_count": null,
   "outputs": [],
   "source": [
    "# vital_statistics.reset_index() ## in case I want to revert to the standard index\n",
    "# vital_statistics"
   ],
   "metadata": {
    "collapsed": false,
    "pycharm": {
     "name": "#%%\n"
    }
   }
  },
  {
   "cell_type": "markdown",
   "source": [
    "#### Grab Data from Multiple Columns\n"
   ],
   "metadata": {
    "collapsed": false,
    "pycharm": {
     "name": "#%% md\n"
    }
   }
  },
  {
   "cell_type": "code",
   "execution_count": null,
   "outputs": [],
   "source": [
    "# var = list of lists\n",
    "vital_statistics[['Live_births','Deaths']]"
   ],
   "metadata": {
    "collapsed": false,
    "pycharm": {
     "name": "#%%\n"
    }
   }
  },
  {
   "cell_type": "markdown",
   "source": [
    "#### Grab a Row\n"
   ],
   "metadata": {
    "collapsed": false,
    "pycharm": {
     "name": "#%% md\n"
    }
   }
  },
  {
   "cell_type": "code",
   "execution_count": null,
   "outputs": [],
   "source": [
    "# # these would work if the index would off remained the standard one.\n",
    "# vital_statistics.loc[0]  ## only show a particular row. It's display is confusing though.\n",
    "# vital_statistics.loc[[0,1]] # here we have two rows, first and second\n",
    "vital_statistics.loc['2021']"
   ],
   "metadata": {
    "collapsed": false,
    "pycharm": {
     "name": "#%%\n"
    }
   }
  },
  {
   "cell_type": "code",
   "execution_count": null,
   "outputs": [],
   "source": [
    "vital_statistics.iloc[86]  # row by index loc"
   ],
   "metadata": {
    "collapsed": false,
    "pycharm": {
     "name": "#%%\n"
    }
   }
  },
  {
   "cell_type": "markdown",
   "source": [
    "#### Add a Column\n"
   ],
   "metadata": {
    "collapsed": false,
    "pycharm": {
     "name": "#%% md\n"
    }
   }
  },
  {
   "cell_type": "code",
   "execution_count": null,
   "outputs": [],
   "source": [
    "vital_statistics['Pop_Growth'] = vital_statistics['Live_births'] - vital_statistics['Deaths']\n",
    "vital_statistics  # same with Natural change"
   ],
   "metadata": {
    "collapsed": false,
    "pycharm": {
     "name": "#%%\n"
    }
   }
  },
  {
   "cell_type": "markdown",
   "source": [
    "#### Delete Column\n"
   ],
   "metadata": {
    "collapsed": false,
    "pycharm": {
     "name": "#%% md\n"
    }
   }
  },
  {
   "cell_type": "code",
   "execution_count": null,
   "outputs": [],
   "source": [
    "vital_statistics.drop('Pop_Growth', axis=1, inplace=True)  # drops desired column\n",
    "vital_statistics"
   ],
   "metadata": {
    "collapsed": false,
    "pycharm": {
     "name": "#%%\n"
    }
   }
  },
  {
   "cell_type": "code",
   "execution_count": null,
   "outputs": [],
   "source": [
    "vital_statistics_test = vital_statistics ## some variations for other settings\n",
    "vital_statistics_test"
   ],
   "metadata": {
    "collapsed": false,
    "pycharm": {
     "name": "#%%\n"
    }
   }
  },
  {
   "cell_type": "markdown",
   "source": [
    "#### Delete a Row\n"
   ],
   "metadata": {
    "collapsed": false,
    "pycharm": {
     "name": "#%% md\n"
    }
   }
  },
  {
   "cell_type": "code",
   "execution_count": null,
   "outputs": [],
   "source": [
    "vital_statistics.drop('1935',axis=0, inplace=True)\n",
    "vital_statistics"
   ],
   "metadata": {
    "collapsed": false,
    "pycharm": {
     "name": "#%%\n"
    }
   }
  },
  {
   "cell_type": "markdown",
   "source": [
    "\n",
    "#### --- Manipulating other data - Countries by GDP ---\n",
    "\n"
   ],
   "metadata": {
    "collapsed": false,
    "pycharm": {
     "name": "#%% md\n"
    }
   }
  },
  {
   "cell_type": "code",
   "execution_count": null,
   "outputs": [],
   "source": [
    "countries_by_gdp = pd.read_html(\"https://en.wikipedia.org/wiki/List_of_countries_by_GDP_(nominal)\")[2]\n",
    "countries_by_gdp\n"
   ],
   "metadata": {
    "collapsed": false,
    "pycharm": {
     "name": "#%%\n"
    }
   }
  },
  {
   "cell_type": "code",
   "execution_count": null,
   "outputs": [],
   "source": [
    "for col in countries_by_gdp.columns: # iterate through columns top-dowm left right\n",
    "    print(col)"
   ],
   "metadata": {
    "collapsed": false,
    "pycharm": {
     "name": "#%%\n"
    }
   }
  },
  {
   "cell_type": "code",
   "execution_count": null,
   "outputs": [],
   "source": [
    "# Delete a level of a multilevel column name\n",
    "countries_by_gdp.columns = countries_by_gdp.columns.droplevel()\n",
    "countries_by_gdp"
   ],
   "metadata": {
    "collapsed": false,
    "pycharm": {
     "name": "#%%\n"
    }
   }
  },
  {
   "cell_type": "code",
   "execution_count": null,
   "outputs": [],
   "source": [
    "# Keep only columns if they haven't used the same name prior\n",
    "countries_by_gdp = countries_by_gdp.loc[:,~countries_by_gdp.columns.duplicated()]\n",
    "countries_by_gdp"
   ],
   "metadata": {
    "collapsed": false,
    "pycharm": {
     "name": "#%%\n"
    }
   }
  },
  {
   "cell_type": "markdown",
   "source": [
    "#### More Ways of Messing with Data\n"
   ],
   "metadata": {
    "collapsed": false,
    "pycharm": {
     "name": "#%% md\n"
    }
   }
  },
  {
   "cell_type": "code",
   "execution_count": null,
   "outputs": [],
   "source": [
    "dictionary_total_products = {'Store Nr': [5,2,1,2,3,5,2,1,3,4,1,4],'Product':['laptop','pc','phone','tablets','xbox','mouse','laptop','watch','headphones','tv','laptop','ps5'],'Price':[1000,1000,600,300,550,70,100,200,200,1000,2000,500],'Sales':[5,40,5,20,30,18,12,6,2,10,5,25],'Month':['Jan','Aug','March','May','May','June','Dec','Dec','Sept','Jan','Nov','Dec']}\n",
    "sales_data = pd.DataFrame(dictionary_total_products) # convert dictionary to dataframe\n",
    "sales_data"
   ],
   "metadata": {
    "collapsed": false,
    "pycharm": {
     "name": "#%%\n"
    }
   }
  },
  {
   "cell_type": "code",
   "execution_count": null,
   "outputs": [],
   "source": [
    "store_data = sales_data.groupby('Store Nr')\n",
    "store_data.mean().round(2) # mean value for each store, price and sales.\n",
    "                           # rounded results for obvious reasons"
   ],
   "metadata": {
    "collapsed": false,
    "pycharm": {
     "name": "#%%\n"
    }
   }
  },
  {
   "cell_type": "code",
   "execution_count": null,
   "outputs": [],
   "source": [
    "store_data.sum().loc[5] # takes the data from the Store nr.5 (not the 5th index)store_data"
   ],
   "metadata": {
    "collapsed": false,
    "pycharm": {
     "name": "#%%\n"
    }
   }
  },
  {
   "cell_type": "code",
   "execution_count": null,
   "outputs": [],
   "source": [
    "product_data = sales_data.groupby('Product')\n",
    "product_data.sum().loc['laptop'] # calculate how many Laptops have been sold\n",
    "## see the error ? it shouldn't sum store nr :)"
   ],
   "metadata": {
    "collapsed": false,
    "pycharm": {
     "name": "#%%\n"
    }
   }
  },
  {
   "cell_type": "markdown",
   "source": [
    "#### Plotly examples\n",
    "#### not the best, but not the worst"
   ],
   "metadata": {
    "collapsed": false,
    "pycharm": {
     "name": "#%% md\n"
    }
   }
  },
  {
   "cell_type": "code",
   "execution_count": null,
   "outputs": [],
   "source": [
    "# cufflinks connects pandas with plotly enabling users to create visualizations from pandas :)\n",
    "import cufflinks as cf\n",
    "import plotly.express as px\n",
    "import plotly.graph_objects as go\n",
    "\n",
    "# Make Plotly work in your Jupyter Notebook\n",
    "from plotly.offline import download_plotlyjs, init_notebook_mode, plot, iplot\n",
    "init_notebook_mode(connected=True)\n",
    "# Use Plotly locally\n",
    "cf.go_offline()\n"
   ],
   "metadata": {
    "collapsed": false,
    "pycharm": {
     "name": "#%%\n"
    }
   }
  },
  {
   "cell_type": "markdown",
   "source": [
    "#### Line Plot"
   ],
   "metadata": {
    "collapsed": false,
    "pycharm": {
     "name": "#%% md\n"
    }
   }
  },
  {
   "cell_type": "code",
   "execution_count": null,
   "outputs": [],
   "source": [
    "df_stocks = px.data.stocks() #stocks() being a built-in example\n",
    "px.line(df_stocks, x='date',y=['GOOG','MSFT','AMZN'], labels={'x':'Date', 'y':'$ Value'}, title='Comparison between cloud operators')\n",
    "#labels don't seem to work"
   ],
   "metadata": {
    "collapsed": false,
    "pycharm": {
     "name": "#%%\n"
    }
   }
  },
  {
   "cell_type": "markdown",
   "source": [],
   "metadata": {
    "collapsed": false,
    "pycharm": {
     "name": "#%% md\n"
    }
   }
  },
  {
   "cell_type": "markdown",
   "source": [
    "### multiple line plot"
   ],
   "metadata": {
    "collapsed": false,
    "pycharm": {
     "name": "#%% md\n"
    }
   }
  },
  {
   "cell_type": "code",
   "execution_count": null,
   "outputs": [],
   "source": [
    "# Multiple plots\n",
    "r_x1 = np.linspace(0,10,10)\n",
    "wealth = np.random.randn(10)\n",
    "experience = np.random.randn(10) - 5\n",
    "age = np.random.standard_normal(10) +10\n",
    "\n",
    "fig = go.Figure()\n",
    "# browse through Scatter to see all the styles\n",
    "fig.add_trace(go.Scatter(x=r_x1, y=wealth, mode='lines+markers', name='wealth'))\n",
    "fig.add_trace(go.Scatter(x=r_x1, y=experience, mode='markers', name='experience'))\n",
    "fig.add_trace(go.Scatter(x=r_x1, y=age, mode='lines', name='age'))\n",
    "\n",
    "fig.show()"
   ],
   "metadata": {
    "collapsed": false,
    "pycharm": {
     "name": "#%%\n"
    }
   }
  },
  {
   "cell_type": "markdown",
   "source": [
    "#### read from file and plot results + add a slider\n",
    "#### compare volume with price on two diff charts"
   ],
   "metadata": {
    "collapsed": false,
    "pycharm": {
     "name": "#%% md\n"
    }
   }
  },
  {
   "cell_type": "code",
   "execution_count": null,
   "outputs": [],
   "source": [
    "aapl_df = pd.read_csv('aapl_data.csv')\n",
    "\n",
    "x = aapl_df['Date']\n",
    "y = aapl_df['Close']\n",
    "x_volume = aapl_df['Date']\n",
    "y_volume = aapl_df['Volume']\n",
    "\n",
    "fig = go.Figure()\n",
    "fig2 = go.Figure()\n",
    "fig.add_trace(go.Scatter(x=x, y=y))\n",
    "fig2.add_trace(go.Scatter(x=x_volume, y=y_volume))\n",
    "fig2.show()\n",
    "fig.update_xaxes(rangeslider_visible=True, title='drag the slider left and right')\n",
    "fig.update_yaxes(title=\"Apple Price\")\n",
    "\n"
   ],
   "metadata": {
    "collapsed": false,
    "pycharm": {
     "name": "#%%\n"
    }
   }
  }
 ],
 "metadata": {
  "kernelspec": {
   "display_name": "Python 3 (ipykernel)",
   "language": "python",
   "name": "python3"
  },
  "language_info": {
   "codemirror_mode": {
    "name": "ipython",
    "version": 3
   },
   "file_extension": ".py",
   "mimetype": "text/x-python",
   "name": "python",
   "nbconvert_exporter": "python",
   "pygments_lexer": "ipython3",
   "version": "3.9.12"
  }
 },
 "nbformat": 4,
 "nbformat_minor": 5
}