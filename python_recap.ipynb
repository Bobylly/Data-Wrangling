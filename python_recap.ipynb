{
 "cells": [
  {
   "cell_type": "markdown",
   "id": "493a3884",
   "metadata": {
    "pycharm": {
     "name": "#%% md\n"
    }
   },
   "source": [
    "### Importing libraries"
   ]
  },
  {
   "cell_type": "code",
   "execution_count": 1,
   "id": "4223ad09",
   "metadata": {
    "pycharm": {
     "name": "#%%\n"
    }
   },
   "outputs": [],
   "source": [
    "import pandas as pd\n",
    "import matplotlib as mat\n",
    "import enum"
   ]
  },
  {
   "cell_type": "markdown",
   "id": "492bc95b",
   "metadata": {
    "pycharm": {
     "name": "#%% md\n"
    }
   },
   "source": [
    "#### playing with python and a few libraries, a short recap"
   ]
  },
  {
   "cell_type": "code",
   "execution_count": null,
   "id": "4d2a33c4",
   "metadata": {
    "pycharm": {
     "name": "#%%\n",
     "is_executing": true
    }
   },
   "outputs": [],
   "source": [
    "# create a list of 6 items (strings)\n",
    "list_patients = [\"cats\", \"dogs\", \"turtles\", \"birds\", \"mice\", \"snakes\"]\n",
    "#print(list_patients)\n",
    "print(len(list_patients))"
   ]
  },
  {
   "cell_type": "code",
   "execution_count": null,
   "id": "88f3c569",
   "metadata": {
    "collapsed": true,
    "pycharm": {
     "name": "#%%\n",
     "is_executing": true
    }
   },
   "outputs": [],
   "source": [
    "# create 1 list of 5 quantities\n",
    "list_nr_pacients = [5,4,3,2,1]\n",
    "print(sum(list_nr_pacients))\n",
    "# create 1 tuple of 5 prices\n",
    "list_age_pacients = (10,2,5,20,50)"
   ]
  },
  {
   "cell_type": "code",
   "execution_count": 4,
   "id": "41e3990b",
   "metadata": {
    "pycharm": {
     "name": "#%%\n"
    }
   },
   "outputs": [],
   "source": [
    "# create a list for items that are on sick. boolean type.(are or are not on sale)\n",
    "list_of_sick_animals = [5]\n",
    "# create a list for animals that are available for adoption.\n",
    "list_of_animals_for_adoption = [3]"
   ]
  },
  {
   "cell_type": "code",
   "execution_count": 5,
   "id": "4a761374",
   "metadata": {
    "pycharm": {
     "name": "#%%\n"
    }
   },
   "outputs": [],
   "source": [
    "# create a list of pregnant animals\n",
    "list_of_pregnant_animals = [2]"
   ]
  },
  {
   "cell_type": "markdown",
   "id": "da4c9fba",
   "metadata": {
    "pycharm": {
     "name": "#%% md\n"
    }
   },
   "source": []
  },
  {
   "cell_type": "markdown",
   "id": "08e14916",
   "metadata": {
    "pycharm": {
     "name": "#%% md\n"
    }
   },
   "source": [
    "### Declaring Lists of products & prices "
   ]
  },
  {
   "cell_type": "code",
   "execution_count": 6,
   "id": "a481dff8",
   "metadata": {
    "pycharm": {
     "name": "#%%\n"
    }
   },
   "outputs": [],
   "source": [
    "list_of_items = [\"laptop\",\"pc\",\"phone\",\"tv\",\"headphones\",\"tablet\"]\n",
    "list_of_prices =[2000,3000,500,1000,200]\n",
    "stock_quantity = [5,4,3,2,1]\n",
    "available_for_preorder = [True,False,False,True,True] #5 index numbers\n",
    "items_on_sale = [True,False] #items can be on sale or not\n",
    "items_brand = [\"Samsung\",\"LG\",\"Apple\"] #only 3 brands\n",
    "\n",
    "client_balance = 5000\n"
   ]
  },
  {
   "cell_type": "markdown",
   "id": "64a395c6",
   "metadata": {
    "pycharm": {
     "name": "#%% md\n"
    }
   },
   "source": [
    "### more easy exercises, with Lists"
   ]
  },
  {
   "cell_type": "code",
   "execution_count": 7,
   "id": "ef5dc104",
   "metadata": {
    "pycharm": {
     "name": "#%%\n"
    }
   },
   "outputs": [],
   "source": [
    "# what happens with the item that does not have a pair price assigned?\n",
    "# nothing happens. \n",
    "# TODO But we can check if there's any duplicates.\n",
    "# iterate through list and compare 1st to rest, 2nd to rest, etc"
   ]
  },
  {
   "cell_type": "code",
   "execution_count": null,
   "id": "2888da14",
   "metadata": {
    "pycharm": {
     "name": "#%%\n",
     "is_executing": true
    }
   },
   "outputs": [],
   "source": [
    "#how many items are in the Item list ?\n",
    "print(len(list_patients))"
   ]
  },
  {
   "cell_type": "code",
   "execution_count": null,
   "id": "0824ad48",
   "metadata": {
    "pycharm": {
     "name": "#%%\n",
     "is_executing": true
    }
   },
   "outputs": [],
   "source": [
    "#Calculate the nr of all animals in the clinic.\n",
    "list_nr_patients = [5,4,3,2,1]\n",
    "#sum(lista_nr_patients)\n",
    "print(sum(list_nr_patients[-2:]))"
   ]
  },
  {
   "cell_type": "code",
   "execution_count": 10,
   "id": "4c15d3cb",
   "metadata": {
    "pycharm": {
     "name": "#%%\n"
    }
   },
   "outputs": [],
   "source": [
    "list_of_items = [\"laptop\",\"pc\",\"phone\",\"tv\",\"headphones\",\"tablet\"]\n",
    "list_of_prices =[2000,3000,500,1000,200]\n",
    "stock_quantity = [5,4,3,2,1]\n",
    "available_for_preorder = [True,False,False,True,True] #5 index numbers\n",
    "items_on_sale = [True,False] #items can be on sale or not\n",
    "items_brand = [\"Samsung\",\"LG\",\"Apple\"] #only 3 brands\n",
    "\n",
    "client_balance = 5000"
   ]
  },
  {
   "cell_type": "code",
   "execution_count": null,
   "id": "dd0f8cfa",
   "metadata": {
    "pycharm": {
     "name": "#%%\n",
     "is_executing": true
    }
   },
   "outputs": [],
   "source": [
    "#total cost all laptops\n",
    "\n",
    "#let's consider laptop costs 2000$\n",
    "# laptop an is list_of_items[0]\n",
    "# quantity is List_of_quantity[0]\n",
    "# price is List_of_price[0]\n",
    "# **create a new list and concatenate first element of each list**\n",
    "total_Laptop_cost = list_of_prices[0] * stock_quantity[0]\n",
    "print(\"total cost of laptops is:\", total_Laptop_cost)\n",
    "type(total_Laptop_cost)"
   ]
  },
  {
   "cell_type": "code",
   "execution_count": null,
   "id": "c4aa82ee",
   "metadata": {
    "pycharm": {
     "name": "#%%\n",
     "is_executing": true
    }
   },
   "outputs": [],
   "source": [
    "#delete one list item\n",
    "list_nr_patients = [5,4,3,2,1]\n",
    "list_nr_patients.remove(5)\n",
    "print(list_nr_patients)"
   ]
  },
  {
   "cell_type": "markdown",
   "id": "d2a3eae1",
   "metadata": {
    "pycharm": {
     "name": "#%% md\n"
    }
   },
   "source": [
    "#### some more exercises (todo)"
   ]
  },
  {
   "cell_type": "code",
   "execution_count": 13,
   "id": "bc9fed1a",
   "metadata": {
    "pycharm": {
     "name": "#%%\n"
    }
   },
   "outputs": [],
   "source": [
    "# user balance is $5000. \n",
    "# Spend his money in such way that he's left with 0.\n",
    "# How many items does he own, after spending his money?"
   ]
  },
  {
   "cell_type": "code",
   "execution_count": 14,
   "id": "da1c3a97",
   "metadata": {
    "pycharm": {
     "name": "#%%\n"
    }
   },
   "outputs": [],
   "source": [
    "#create a new list in which we pair item with price\n",
    "#Questions to answer: \n",
    "    # do we use a for loop?\n",
    "    # do we pair them 1:1 by the same index ? \n",
    "    # what happens with the item that does not have a pair price assigned?\n",
    "    # if yes, what happens if there's a difference between nr of indexes in each list?\n",
    "    # what happens if we pair all lists, how would we do that ?\n"
   ]
  },
  {
   "cell_type": "code",
   "execution_count": 15,
   "id": "420e30f6",
   "metadata": {
    "pycharm": {
     "name": "#%%\n"
    }
   },
   "outputs": [],
   "source": [
    "# one of the items is out of stock and does not have a price, but is available for preorder.\n",
    "# how do we print which one is it ?\n"
   ]
  },
  {
   "cell_type": "code",
   "execution_count": 16,
   "id": "f462cf18",
   "metadata": {
    "pycharm": {
     "name": "#%%\n"
    }
   },
   "outputs": [],
   "source": [
    "### 1/2 medium-ish ### how many combinations does it take for him to spend his money\n",
    "### 2/2 by buying only one of each items(he won't afford everything, so it's a catch)?\n"
   ]
  },
  {
   "cell_type": "markdown",
   "id": "47c8492c",
   "metadata": {
    "pycharm": {
     "name": "#%% md\n"
    }
   },
   "source": [
    "#### Data types: lists, tuples, dictionaries\n"
   ]
  },
  {
   "cell_type": "code",
   "execution_count": null,
   "id": "edd166bd",
   "metadata": {
    "pycharm": {
     "name": "#%%\n",
     "is_executing": true
    }
   },
   "outputs": [],
   "source": [
    "y = [\"mouse\"]\n",
    "print(y[-2:])\n",
    "print(\"prints this way because it's a list\")\n",
    "x = \"mikey-mouse\"\n",
    "print(x[-2:])\n",
    "print(\"this is a string\\n\"\n",
    "     \"same for a tuple\")"
   ]
  },
  {
   "cell_type": "markdown",
   "id": "038aa029",
   "metadata": {
    "pycharm": {
     "name": "#%% md\n"
    }
   },
   "source": [
    "### types of parentheses, brackets"
   ]
  },
  {
   "cell_type": "code",
   "execution_count": 20,
   "id": "88ffec7c",
   "metadata": {
    "pycharm": {
     "name": "#%%\n"
    }
   },
   "outputs": [],
   "source": [
    "# Square brackets [] are used in Python to define and access lists. \n",
    "#They are also used to create empty dictionaries, to access and slice strings, \n",
    "#and to access the characters in a string.\n",
    "# when is () used in python ?\n",
    "\n",
    "# Parentheses () are used in Python to define the order of operations. \n",
    "#They are also used to define a function or a class, as well as to group expressions. \n",
    "#Additionally, parentheses can be used to create tuples or to pass arguments to a function.\n",
    "# when is {} used in python ?"
   ]
  },
  {
   "cell_type": "code",
   "execution_count": null,
   "id": "dd74cc6f",
   "metadata": {
    "collapsed": true,
    "pycharm": {
     "name": "#%%\n",
     "is_executing": true
    }
   },
   "outputs": [],
   "source": [
    "list10 = [\"a\", \"b\", \"c\", \"d\"]\n",
    "list20 = [\"e\", \"f\", \"g\"]\n",
    "list10[:]\n",
    "list10[:]\n",
    "list10 + list20\n",
    "list30 = list10[0:] + list20\n",
    "print(list30)\n",
    "# [:] type this for the full list\n",
    "#this is a slice [index:] or this [:index] for ex: [1:] or this [:5]"
   ]
  },
  {
   "cell_type": "code",
   "execution_count": null,
   "id": "b76e121b",
   "metadata": {
    "collapsed": true,
    "pycharm": {
     "name": "#%%\n",
     "is_executing": true
    }
   },
   "outputs": [],
   "source": [
    "list5 = [1, 2, 3, 4]\n",
    "list5[:] = [5, 6]\n",
    "print(list5)\n",
    "list5.append(7)\n",
    "list5.append(3**3) #inside append, we can use math operations\n",
    "list5"
   ]
  },
  {
   "cell_type": "code",
   "execution_count": null,
   "id": "421813c7",
   "metadata": {
    "collapsed": true,
    "pycharm": {
     "name": "#%%\n",
     "is_executing": true
    }
   },
   "outputs": [],
   "source": [
    "numbers = [\"xx\", \"xy\", \"zx\", \"zw\"]\n",
    "numbers[1:3] = [\"c\", \"a\", \"d\"]\n",
    "print(numbers)\n",
    "numbers[:] = [] # overwriting the old list with a new empty list\n",
    "print(numbers)\n",
    "len(numbers)\n"
   ]
  },
  {
   "cell_type": "code",
   "execution_count": null,
   "id": "ce971863",
   "metadata": {
    "collapsed": true,
    "pycharm": {
     "name": "#%%\n",
     "is_executing": true
    }
   },
   "outputs": [],
   "source": [
    "a = [1, 2, 3]\n",
    "b = [4, 5, 6]\n",
    "c = a + b\n",
    "print(c)\n",
    "# creates a new bigger list"
   ]
  },
  {
   "cell_type": "code",
   "execution_count": null,
   "id": "621bcb53",
   "metadata": {
    "collapsed": true,
    "pycharm": {
     "name": "#%%\n",
     "is_executing": true
    }
   },
   "outputs": [],
   "source": [
    "a = [1, 2, 3]\n",
    "b = [4, 5, 6]\n",
    "c = [a + b]\n",
    "print(c)\n",
    "# this is a list of list (notice the difference)"
   ]
  },
  {
   "cell_type": "code",
   "execution_count": null,
   "id": "9fa50e7e",
   "metadata": {
    "collapsed": true,
    "pycharm": {
     "name": "#%%\n",
     "is_executing": true
    }
   },
   "outputs": [],
   "source": [
    "a = [1, 2, 3]\n",
    "b = [4, 5, 6]\n",
    "c = [a, b]\n",
    "print(c)\n",
    "# again, list of list (but different !)"
   ]
  },
  {
   "cell_type": "code",
   "execution_count": null,
   "id": "48b56cab",
   "metadata": {
    "collapsed": true,
    "pycharm": {
     "name": "#%%\n",
     "is_executing": true
    }
   },
   "outputs": [],
   "source": [
    "a = [1, 2, 3]\n",
    "b = [4, 5, 6]\n",
    "c = [a, b]\n",
    "c[1][:3]\n",
    "#choose a particular value. for more than one, use slicing"
   ]
  },
  {
   "cell_type": "code",
   "execution_count": null,
   "id": "696ba0e6",
   "metadata": {
    "collapsed": true,
    "pycharm": {
     "name": "#%%\n",
     "is_executing": true
    }
   },
   "outputs": [],
   "source": [
    "word = \"word\"\n",
    "word.capitalize()"
   ]
  },
  {
   "cell_type": "code",
   "execution_count": null,
   "id": "2cd7e855",
   "metadata": {
    "pycharm": {
     "name": "#%%\n",
     "is_executing": true
    }
   },
   "outputs": [],
   "source": [
    "word = \"WORD\"\n",
    "word.casefold()"
   ]
  },
  {
   "cell_type": "code",
   "execution_count": null,
   "id": "8a8a0b23",
   "metadata": {
    "collapsed": true,
    "pycharm": {
     "name": "#%%\n",
     "is_executing": true
    }
   },
   "outputs": [],
   "source": [
    "word = \"word\"\n",
    "word.upper()"
   ]
  },
  {
   "cell_type": "markdown",
   "id": "6cd68334",
   "metadata": {
    "pycharm": {
     "name": "#%% md\n"
    }
   },
   "source": [
    "#### control flow ---\n",
    "\n",
    "IF:\n",
    "The if statement is used to execute a block of code if a certain condition is true. It is used to control the flow of a program.\n",
    "\n",
    "Good Practice: If statements should only be used when the condition is likely to be true.\n",
    "\n",
    "Bad Practice: Using too many if statements can make code hard to read and maintain.\n",
    "\n",
    "WHILE:\n",
    "The while loop is used to execute a block of code repeatedly while a certain condition is true. It is used to control the flow of a program.\n",
    "\n",
    "Good Practice: When using while loops, be sure to include an incrementing variable to ensure the loop will eventually terminate.\n",
    "\n",
    "Bad Practice: Using too many while loops can make code hard to read and maintain.\n",
    "\n",
    "FOR:\n",
    "The for loop is used to execute a block of code a set number of times. It is used to control the flow of a program.\n",
    "\n",
    "Good Practice: When using for loops, be sure to include an incrementing variable to ensure the loop will eventually terminate.\n",
    "\n",
    "Bad Practice: Using too many for loops can make code hard to read and maintain."
   ]
  },
  {
   "cell_type": "markdown",
   "id": "ecc14a5e",
   "metadata": {
    "pycharm": {
     "name": "#%% md\n"
    }
   },
   "source": [
    "#### ---------- IF examples --------"
   ]
  },
  {
   "cell_type": "code",
   "execution_count": null,
   "id": "ce0a171d",
   "metadata": {
    "collapsed": true,
    "pycharm": {
     "name": "#%%\n",
     "is_executing": true
    }
   },
   "outputs": [],
   "source": [
    "just_a_nr = int(input(\"Please enter a nr \"))\n",
    "if just_a_nr < 10:\n",
    "    print(\"0-10\")\n",
    "elif just_a_nr == 10:\n",
    "    print(a)\n",
    "elif just_a_nr > 10:\n",
    "    print(\"10+\")\n",
    "elif just_a_nr == 0:\n",
    "    print(0)\n",
    "else:\n",
    "    print(\"you've added something i'm not aware of \")"
   ]
  },
  {
   "cell_type": "markdown",
   "id": "00121c95",
   "metadata": {
    "pycharm": {
     "name": "#%% md\n"
    }
   },
   "source": [
    "    \n",
    "   #### ---------- WHILE examples --------"
   ]
  },
  {
   "cell_type": "code",
   "execution_count": null,
   "id": "d6fa4d05",
   "metadata": {
    "collapsed": true,
    "pycharm": {
     "name": "#%%\n",
     "is_executing": true
    }
   },
   "outputs": [],
   "source": [
    "a,b = 0,1\n",
    "while a <10:\n",
    "    print(\"print assigned value before entering loop.\",a)\n",
    "    a, b = b, a+b\n",
    "    print(\"print value of A after calculation, before entering next condition. \",a)"
   ]
  },
  {
   "cell_type": "code",
   "execution_count": null,
   "id": "4fd00875",
   "metadata": {
    "pycharm": {
     "name": "#%%\n",
     "is_executing": true
    }
   },
   "outputs": [],
   "source": [
    "a = int(input(\"gimme a value for a: \"))\n",
    "b = int(input(\"gimme a value for b: \"))\n",
    "while a < 10:\n",
    "    print(a)\n",
    "    a,b= b, a+b\n",
    "\n",
    "#  as long as condition is true, execute next block of code"
   ]
  },
  {
   "cell_type": "code",
   "execution_count": 33,
   "id": "841b1066",
   "metadata": {
    "pycharm": {
     "name": "#%%\n"
    }
   },
   "outputs": [],
   "source": []
  },
  {
   "cell_type": "code",
   "execution_count": null,
   "id": "c64bf7de",
   "metadata": {
    "collapsed": true,
    "pycharm": {
     "name": "#%%\n",
     "is_executing": true
    }
   },
   "outputs": [],
   "source": [
    "words = ['cat', '', 'wtf']\n",
    "for a in words:\n",
    "    if a == '':\n",
    "        a = \"not an empty string anymore\"\n",
    "    print(a)\n",
    "    \n",
    "    # replacing an element"
   ]
  },
  {
   "cell_type": "code",
   "execution_count": null,
   "outputs": [],
   "source": [
    "words_in_tuple = \"word1\",\"5\",\"word2\",\"word3\",\"word4\"\n",
    "for each_word in words_in_tuple:\n",
    "    if each_word == \"5\":\n",
    "        each_word = \"incorrect_word_name\"\n",
    "    print(each_word)"
   ],
   "metadata": {
    "collapsed": false,
    "pycharm": {
     "name": "#%%\n",
     "is_executing": true
    }
   }
  },
  {
   "cell_type": "markdown",
   "id": "f646d1c2",
   "metadata": {
    "pycharm": {
     "name": "#%% md\n"
    }
   },
   "source": [
    "###  ----- FOR potatoes -----"
   ]
  },
  {
   "cell_type": "code",
   "execution_count": null,
   "outputs": [],
   "source": [
    "# create a sample collection\n",
    "\n",
    "patients_health_status = {\"cat\" : \"healthy\",\n",
    "            \"dog\" : \"sick\",\n",
    "            \"pigeon\" : \"dead\",\n",
    "            \"zebra\" : \"healthy\"}\n",
    "\n",
    "# strategy: iterate over a copy\n",
    "\n",
    "for patient, condition in patients_health_status.copy().items():\n",
    "    if condition == \"dead\":\n",
    "        del patients_health_status[patient]\n",
    "print(\"key-value pairs now: \", len(patients_health_status),'\\n')\n",
    "print(\"these are the key-value pairs:\", \"\\n\",'\\n', patients_health_status)\n",
    "print(\"\\n end iteration\")\n",
    "print(\"\\n\")\n",
    "\n",
    "#create a new collection\n",
    "\n",
    "healthy_patients = {}\n",
    "for patient, condition in patients_health_status.items():\n",
    "    if condition == \"healthy\":\n",
    "        healthy_patients[patient] = condition\n",
    "print(healthy_patients)\n",
    "print(\"\\n\")\n",
    "print(\"type is: \", type(patient))\n"
   ],
   "metadata": {
    "collapsed": false,
    "pycharm": {
     "name": "#%%\n",
     "is_executing": true
    }
   }
  },
  {
   "cell_type": "code",
   "execution_count": null,
   "outputs": [],
   "source": [
    "vegetables = {\"potatoes\" : \"fried\", \"tomatoes\" : \"dried\", \"peppers\" : \"raw\", \"onions\": \"baked\"}\n",
    "for food_type, cooking_type in vegetables.copy().items():\n",
    "    if cooking_type == \"fried\":\n",
    "        del vegetables[food_type]\n",
    "print(vegetables)\n",
    "print(\"last element in the collections: \", food_type +\" \" + cooking_type)\n",
    "print(\"\\n\", \"begin new example in the same cell\", \"\\n\", \"_ _ _ _ _ _ _ _ _ _ _ _ _ _ _ _ _ _ _ _ \")\n",
    "\n",
    "fruits_dictionary = {\"bananas\" : \"cold_pressed\", \"apples\" : \"dulceata\", \"jam\" : \"ice_cream\"}\n",
    "for fruit_type, cooked_method in fruits_dictionary.copy().items():\n",
    "    if cooked_method == \"ice_cream\":\n",
    "        del fruits_dictionary[fruit_type]\n",
    "print(fruits_dictionary)\n",
    "# The above code is iterating through a dictionary called 'vegetables',\n",
    "# which contains vegetable names as keys and associated cooking methods\n",
    "# as values. It is using the .copy() method to create a shallow copy\n",
    "# of the original dictionary, and then using a for loop to iterate\n",
    "# through the items and check the values.\n",
    "\n",
    "# If the value is equal to 'fried', it uses the del keyword\n",
    "# to remove the key-value pair from the original dictionary.\n",
    "# Finally, it prints the updated dictionary and the last item iterated\n",
    "# over.\n",
    "\n",
    "# print every element and it's len()\n",
    " # create a list (elem1, elem2,elem4)\n",
    "    # for elem in list\n",
    "    #print elem, len(variable)\n"
   ],
   "metadata": {
    "collapsed": false,
    "pycharm": {
     "name": "#%%\n",
     "is_executing": true
    }
   }
  },
  {
   "cell_type": "markdown",
   "source": [
    "#### explaining the steps of copy() and why it's being used in the loop"
   ],
   "metadata": {
    "collapsed": false,
    "pycharm": {
     "name": "#%% md\n"
    }
   }
  },
  {
   "cell_type": "code",
   "execution_count": 38,
   "outputs": [],
   "source": [
    "\n",
    "# 1. Create a shallow copy of the dictionary using the .copy() method.\n",
    "# 2. Iterate over the copy of the dictionary.\n",
    "# 3. If the status of a user is 'inactive',\n",
    "#    delete the user from the original dictionary.\n",
    "# 4. The iteration process is happening in the RAM, as the RAM stores\n",
    "#    all of the data that is currently being used by the program.\n",
    "# 5. The original dictionary is being used after deletion,\n",
    "#    as the shallow copy was only used during the iteration process."
   ],
   "metadata": {
    "collapsed": false,
    "pycharm": {
     "name": "#%%\n"
    }
   }
  },
  {
   "cell_type": "markdown",
   "source": [
    "### range() function"
   ],
   "metadata": {
    "collapsed": false,
    "pycharm": {
     "name": "#%% md\n"
    }
   }
  },
  {
   "cell_type": "code",
   "execution_count": null,
   "outputs": [],
   "source": [
    "list(range(0, -10, -1))\n",
    "# in a negative list / tuple, the step must be negative\n",
    "# by default it's 1 (positive)"
   ],
   "metadata": {
    "collapsed": false,
    "pycharm": {
     "name": "#%%\n",
     "is_executing": true
    }
   }
  },
  {
   "cell_type": "code",
   "execution_count": null,
   "outputs": [],
   "source": [
    "list(range(0,4,4))"
   ],
   "metadata": {
    "collapsed": false,
    "pycharm": {
     "name": "#%%\n",
     "is_executing": true
    }
   }
  },
  {
   "cell_type": "code",
   "execution_count": null,
   "outputs": [],
   "source": [
    "r = range(0,20,2)\n",
    "print(r)\n",
    "print(11 in r) #bool\n",
    "print(10 in r) #bool\n",
    "print(r.index(10)) # return index nr\n",
    "print(r[:5]) # range-ul up until 5 position\n",
    "print(r[-1])\n",
    "\n",
    "# r.index(10) returns 5 because 10 is the fifth element in the range.\n",
    "# The first element in the range is 0, and the last element is 20,\n",
    "# with a step size of 2. This means that the elements in the range are 0,\n",
    "# 2, 4, 6, 8, 10, 12, 14, 16, 18 and 20. Since 10 is the fifth element,\n",
    "# its index is 5."
   ],
   "metadata": {
    "collapsed": false,
    "pycharm": {
     "name": "#%%\n",
     "is_executing": true
    }
   }
  },
  {
   "cell_type": "code",
   "execution_count": null,
   "outputs": [],
   "source": [
    "a = ['Mary', 'had', 'a', 'little', 'lamb']\n",
    "for i in range(len(a)):\n",
    "    print(i, a[i])\n",
    "# first \"i\" = index.\n",
    "# This code prints out each index of the list 'a' along with the item at that index.\n",
    "\n"
   ],
   "metadata": {
    "collapsed": false,
    "pycharm": {
     "name": "#%%\n",
     "is_executing": true
    }
   }
  },
  {
   "cell_type": "code",
   "execution_count": null,
   "outputs": [],
   "source": [
    "for letter in \"Python\":\n",
    "    if letter == \"h\":\n",
    "        break\n",
    "    print(\"innermost letter is : \", letter)\n",
    "\n",
    "    #print(\"innermost letter is : \", letter)\n"
   ],
   "metadata": {
    "collapsed": false,
    "pycharm": {
     "name": "#%%\n",
     "is_executing": true
    }
   }
  },
  {
   "cell_type": "markdown",
   "source": [],
   "metadata": {
    "collapsed": false,
    "pycharm": {
     "name": "#%% md\n"
    }
   }
  },
  {
   "cell_type": "code",
   "execution_count": null,
   "outputs": [],
   "source": [
    "# =   -> assign\n",
    "# ==  -> == condition\n",
    "\n",
    "x = int(input(\"enter the first value: \"))\n",
    "if x <= 0:\n",
    "    x = \"negative nr\"\n",
    "    print(\"negative nr is: \", x)\n",
    "print(x)\n",
    "type(x)\n",
    "y = int(input(\"enter the second value: \"))\n",
    "\n",
    "sum = x-y\n",
    "print(sum)"
   ],
   "metadata": {
    "collapsed": false,
    "pycharm": {
     "name": "#%%\n",
     "is_executing": true
    }
   }
  },
  {
   "cell_type": "code",
   "execution_count": null,
   "outputs": [],
   "source": [
    "a = ['Mary', 'had', 'a', 'little', 'lamb']\n",
    "for i in range(len(a)):\n",
    "    print(i, a)"
   ],
   "metadata": {
    "collapsed": false,
    "pycharm": {
     "name": "#%%\n",
     "is_executing": true
    }
   }
  },
  {
   "cell_type": "code",
   "execution_count": null,
   "id": "ea680c60",
   "metadata": {
    "collapsed": true,
    "pycharm": {
     "name": "#%%\n",
     "is_executing": true
    }
   },
   "outputs": [],
   "source": [
    "# Example of Continue and break\n",
    "for num in range(2, 10):\n",
    "    if num % 2 == 0:\n",
    "        print(\"found an even number \", num)\n",
    "        continue\n",
    "    print(\"found an odd number \", num)"
   ]
  },
  {
   "cell_type": "code",
   "execution_count": null,
   "id": "f9f2c908",
   "metadata": {
    "collapsed": true,
    "pycharm": {
     "name": "#%%\n",
     "is_executing": true
    }
   },
   "outputs": [],
   "source": [
    "# for some reason this isn't working in jupyter, only as a .py file\n",
    "#\n",
    "response_code = int(input(\"pick one of these values: 200, 300, 400, 500 \"))\n",
    "\n",
    "match response_code:\n",
    "    case 200:\n",
    "        print(\"Everything's peachy!\")\n",
    "    case 300:\n",
    "        print(\"You're going somewhere else!\")\n",
    "    case 400:\n",
    "        print(\"Uh oh. Are you lost?\")\n",
    "    case 500:\n",
    "        print(\"Yikes. Something went wrong!\")\n"
   ]
  },
  {
   "cell_type": "markdown",
   "id": "ca357c2e",
   "metadata": {
    "pycharm": {
     "name": "#%% md\n"
    }
   },
   "source": [
    "1. First, we define an Enum class called Color with three color constants.\n",
    "2. Next, we prompt the user to input a color.\n",
    "3. Then, we use a match statement to check the user's input against the color constants in the Color class.\n",
    "4. If the user's input matches any of the color constants, then the corresponding print statement is executed.\n",
    "\n",
    "This explanation is for the next cell"
   ]
  },
  {
   "cell_type": "code",
   "execution_count": null,
   "id": "c7e04808",
   "metadata": {
    "collapsed": true,
    "pycharm": {
     "name": "#%%\n",
     "is_executing": true
    }
   },
   "outputs": [],
   "source": [
    "### this works in .py file, not in jupyter\n",
    "\n",
    "from enum import Enum\n",
    "class Color(Enum):\n",
    "    RED = 'red'\n",
    "    GREEN = 'green'\n",
    "    BLUE = 'blue'\n",
    "\n",
    "color = Color(input(\"Enter your choice of 'red', 'blue' or 'green': \"))\n",
    "\n",
    "match color:\n",
    "    case Color.RED:\n",
    "        print(\"I see red!\")\n",
    "    case Color.GREEN:\n",
    "        print(\"Grass is green\")\n",
    "    case Color.BLUE:\n",
    "        print(\"I'm feeling the blues :(\")"
   ]
  },
  {
   "cell_type": "code",
   "execution_count": null,
   "id": "02e45c6a",
   "metadata": {
    "collapsed": true,
    "pycharm": {
     "name": "#%%\n",
     "is_executing": true
    }
   },
   "outputs": [],
   "source": [
    "def fib(n):    # write Fibonacci series up to n\n",
    "    \"\"\"Print a Fibonacci series up to n.\"\"\"\n",
    "    a, b = 0, 1\n",
    "    while a < n:\n",
    "        print(a, end=' ')\n",
    "        a, b = b, a+b\n",
    "    print()\n",
    "\n",
    "# Now call the function we just defined:\n",
    "fib(50)"
   ]
  },
  {
   "cell_type": "markdown",
   "source": [
    "## some random exercises from Kaggle"
   ],
   "metadata": {
    "collapsed": false,
    "pycharm": {
     "name": "#%% md\n"
    }
   }
  },
  {
   "cell_type": "code",
   "execution_count": 50,
   "outputs": [],
   "source": [
    "def cost_of_project(engraving, solid_gold):\n",
    "    cost = solid_gold * (100 + 10 * len(engraving)) + (not solid_gold) * (50 + 7 * len(engraving))\n",
    "    return cost"
   ],
   "metadata": {
    "collapsed": false,
    "pycharm": {
     "name": "#%%\n"
    }
   }
  },
  {
   "cell_type": "code",
   "execution_count": null,
   "id": "8d245714",
   "metadata": {
    "pycharm": {
     "name": "#%%\n",
     "is_executing": true
    }
   },
   "outputs": [],
   "source": [
    "def get_water_bill(num_gallons):\n",
    "    if num_gallons <= 8:\n",
    "        bill = 5 * num_gallons\n",
    "    elif num_gallons <= 22000:\n",
    "        bill = 6 * num_gallons / 1000\n",
    "    elif num_gallons <= 30000:\n",
    "        bill = 7 * num_gallons / 1000\n",
    "    else:\n",
    "        bill = 10 * num_gallons / 1000\n",
    "    return bill\n",
    "print(get_water_bill(16000))"
   ]
  },
  {
   "cell_type": "code",
   "execution_count": null,
   "id": "b031d8b9",
   "metadata": {
    "pycharm": {
     "name": "#%%\n",
     "is_executing": true
    }
   },
   "outputs": [],
   "source": [
    "def get_phone_bill(gb):\n",
    "    if gb <= 15:\n",
    "        bill = 100\n",
    "    else:\n",
    "        bill = 100 + (gb - 15) * 100\n",
    "    return bill\n",
    "print(get_phone_bill(16))"
   ]
  },
  {
   "cell_type": "code",
   "execution_count": null,
   "id": "8b7e832c",
   "metadata": {
    "pycharm": {
     "name": "#%%\n",
     "is_executing": true
    }
   },
   "outputs": [],
   "source": [
    "# Do not change: Initial menu for your restaurant\n",
    "menu = ['stewed meat with onions', 'bean soup', 'risotto with trout and shrimp',\n",
    "       'fish soup with cream and onion', 'gyro']\n",
    "\n",
    "# TODO: remove 'bean soup', and add 'roasted beet salad' to the end of the menu\n",
    "menu.remove('bean soup')\n",
    "print(menu)"
   ]
  },
  {
   "cell_type": "code",
   "execution_count": null,
   "id": "a0ed904e",
   "metadata": {
    "pycharm": {
     "name": "#%%\n",
     "is_executing": true
    }
   },
   "outputs": [],
   "source": [
    "#Number of customers each day for the last month\n",
    "import numpy as np\n",
    "import pandas as pd\n",
    "num_customers = [137, 147, 135, 128, 170, 174, 165, 146, 126, 159,\n",
    "                 141, 148, 132, 147, 168, 153, 170, 161, 148, 152,\n",
    "                 141, 151, 131, 149, 164, 163, 143, 143, 166, 171]\n",
    "\n",
    "# TODO: Fill in values for the variables below\n",
    "avg_first_seven = sum(num_customers[:7])/7\n",
    "avg_last_seven = sum(num_customers[-7:])/7\n",
    "max_month = max(num_customers)\n",
    "min_month = min(num_customers)\n",
    "print(avg_first_seven)\n",
    "print(type(avg_first_seven))\n",
    "## this kaggle way isn't thr approach I would take.\n",
    "## I'd choose numpy.average\n",
    "np.average(num_customers)"
   ]
  },
  {
   "cell_type": "code",
   "execution_count": 62,
   "id": "8df58f2b",
   "metadata": {
    "pycharm": {
     "name": "#%%\n"
    }
   },
   "outputs": [
    {
     "data": {
      "text/plain": "150.96666666666667"
     },
     "execution_count": 62,
     "metadata": {},
     "output_type": "execute_result"
    }
   ],
   "source": [
    "#for example:\n",
    "np.average(num_customers)"
   ]
  },
  {
   "cell_type": "code",
   "execution_count": null,
   "outputs": [],
   "source": [
    "# TODO: Edit the function\n",
    "def percentage_growth(num_users, yrs_ago):\n",
    "    growth = (num_users[len(num_users)-1] - num_users[len(num_users)-yrs_ago-1])/num_users[len(num_users)-yrs_ago-1]\n",
    "    return growth\n",
    "\n",
    "# Do not change: Variable for calculating some test examples\n",
    "num_users_test = [920344, 1043553, 1204334, 1458996, 1503323, 1593432, 1623463, 1843064, 1930992, 2001078]\n",
    "\n",
    "# Do not change: Should return .036\n",
    "print(percentage_growth(num_users_test, 1))\n",
    "\n",
    "# Do not change: Should return 0.66\n",
    "print(percentage_growth(num_users_test, 7))"
   ],
   "metadata": {
    "collapsed": false,
    "pycharm": {
     "name": "#%%\n"
    }
   }
  },
  {
   "cell_type": "code",
   "execution_count": null,
   "id": "9c9f368a",
   "metadata": {
    "pycharm": {
     "name": "#%%\n"
    }
   },
   "outputs": [],
   "source": [
    "def least_different(a,b,c):\n",
    "    \"\"\"return the smallest difference between any two numbers among a,b,c\"\"\"\n",
    "    diff1 = abs(a-b)\n",
    "    diff2 = abs(b-c)\n",
    "    diff3 = abs(a-c)\n",
    "    return min(diff1, diff2, diff3)\n",
    "print(\n",
    "    least_different(1,10,100),\n",
    "    least_different(100,10,1),\n",
    "    least_different(1,5,10),\n",
    ")"
   ]
  },
  {
   "cell_type": "markdown",
   "source": [
    "#### some higher order functions"
   ],
   "metadata": {
    "collapsed": false,
    "pycharm": {
     "name": "#%% md\n"
    }
   }
  },
  {
   "cell_type": "code",
   "execution_count": null,
   "outputs": [],
   "source": [
    "def modulus_5(x):\n",
    "    \"\"\"returns the remainder of x after dividing by 5\"\"\"\n",
    "    return x % 5\n",
    "\n",
    "print(\n",
    "    \"which number is biggest?\",\n",
    "    max(77, 54, 15),\n",
    "    \"which nr is the biggest modulo 5?\",\n",
    "    max(77,54,15, key=modulus_5),\n",
    "    sep='\\n' # don't forget 'sep' separates print() arguments\n",
    ")"
   ],
   "metadata": {
    "collapsed": false,
    "pycharm": {
     "name": "#%%\n"
    }
   }
  },
  {
   "cell_type": "code",
   "execution_count": null,
   "outputs": [],
   "source": [
    "\n",
    "def round_ndigits_minus_two(insert_float):\n",
    "    return round(insert_float, -2)\n",
    "print(round_ndigits_minus_two(123456.4567890))\n",
    "\n",
    "def round_ndigits_minus_one(insert_float):\n",
    "    return round(insert_float, -1)\n",
    "print(round_ndigits_minus_one(123456.4567890))\n",
    "\n",
    "def round_ndigits_by_one(input_here):\n",
    "    return round(input_here, 1)\n",
    "print(round_ndigits_by_one(123456.45))\n"
   ],
   "metadata": {
    "collapsed": false,
    "pycharm": {
     "name": "#%%\n",
     "is_executing": true
    }
   }
  },
  {
   "cell_type": "markdown",
   "source": [
    "### nr of decimals detector"
   ],
   "metadata": {
    "collapsed": false,
    "pycharm": {
     "name": "#%% md\n"
    }
   }
  },
  {
   "cell_type": "code",
   "execution_count": 65,
   "outputs": [
    {
     "name": "stdout",
     "output_type": "stream",
     "text": [
      "123.111\n",
      "value accepted, processing nr: \n",
      "detected more than 3 digits but less than 5, I'm rounding to 2:\n",
      "123.11\n"
     ]
    }
   ],
   "source": [
    "def get_float_input():\n",
    "    input_float = float(input(\"type a float with any nr of digits: \\n some examples:\\n 123.4 | 123.45 | 123.456 | 123.456789 | etc\"))\n",
    "    num_digits = len(str(input_float).split('.')[1])\n",
    "    if num_digits <= 2:\n",
    "        # print(input_float, \" accepted, processing nr: \")\n",
    "        print(input_float, \"value accepted, processing nr: \", \"detected less than 2 digits, I'm rounding to 1:\", sep='\\n')\n",
    "        return round_ndigits_by_one(input_float)\n",
    "    elif num_digits >= 3 and num_digits <= 5:\n",
    "        print(input_float, \"value accepted, processing nr: \", \"detected more than 3 digits but less than 5, I'm rounding to 2:\", sep='\\n')\n",
    "        return round_ndigits_by_two(input_float)\n",
    "    else:\n",
    "        print(input_float, \"value accepted, processing nr: \", \"detected more than 5 digits, I'm rounding the nr by -1:\", sep='\\n')\n",
    "        return round_ndigits_minus_one(input_float)\n",
    "\n",
    "def round_ndigits_by_two(input_float):\n",
    "    return round(input_float, 2)\n",
    "\n",
    "def round_ndigits_by_one(input_float):\n",
    "    return round(input_float, 1)\n",
    "\n",
    "def round_ndigits_minus_one(input_float):\n",
    "    return round(input_float, -1)\n",
    "\n",
    "def runapp():\n",
    "    print(get_float_input())\n",
    "runapp()"
   ],
   "metadata": {
    "collapsed": false,
    "pycharm": {
     "name": "#%%\n"
    }
   }
  },
  {
   "cell_type": "code",
   "execution_count": null,
   "outputs": [],
   "source": [
    "### same stuff as above, but in a more pythonic way\n",
    "def get_float_input():\n",
    "    input_float = float(input(\"Type a float with any number of digits: \\n Some examples:\\n 123.4 | 123.45 | 123.456 | 123.456789 | etc\\n\"))\n",
    "    num_digits = len(str(input_float).split('.')[1])\n",
    "    if num_digits <= 2:\n",
    "        print(f\"{input_float} value accepted, processing number. Detected less than 2 digits, rounding to 1.\")\n",
    "        return round(input_float, 1)\n",
    "    elif num_digits >= 3 and num_digits <= 5:\n",
    "        print(f\"{input_float} value accepted, processing number. Detected more than 3 digits but less than 5, rounding to 2.\")\n",
    "        return round(input_float, 2)\n",
    "    else:\n",
    "        print(f\"{input_float} value accepted, processing number. Detected more than 5 digits, rounding the number by -1.\")\n",
    "        return round(input_float, -1)\n",
    "\n",
    "\n",
    "def runapp():\n",
    "    print(get_float_input())\n",
    "\n",
    "runapp()\n"
   ],
   "metadata": {
    "collapsed": false,
    "pycharm": {
     "name": "#%%\n"
    }
   }
  },
  {
   "cell_type": "markdown",
   "source": [
    "###"
   ],
   "metadata": {
    "collapsed": false,
    "pycharm": {
     "name": "#%% md\n"
    }
   }
  },
  {
   "cell_type": "code",
   "execution_count": null,
   "outputs": [],
   "source": [],
   "metadata": {
    "collapsed": false,
    "pycharm": {
     "name": "#%%\n"
    }
   }
  },
  {
   "cell_type": "code",
   "execution_count": null,
   "outputs": [],
   "source": [],
   "metadata": {
    "collapsed": false,
    "pycharm": {
     "name": "#%%\n"
    }
   }
  },
  {
   "cell_type": "code",
   "execution_count": null,
   "outputs": [],
   "source": [],
   "metadata": {
    "collapsed": false,
    "pycharm": {
     "name": "#%%\n"
    }
   }
  }
 ],
 "metadata": {
  "kernelspec": {
   "display_name": "Python 3 (ipykernel)",
   "language": "python",
   "name": "python3"
  },
  "language_info": {
   "codemirror_mode": {
    "name": "ipython",
    "version": 3
   },
   "file_extension": ".py",
   "mimetype": "text/x-python",
   "name": "python",
   "nbconvert_exporter": "python",
   "pygments_lexer": "ipython3",
   "version": "3.10.6"
  }
 },
 "nbformat": 4,
 "nbformat_minor": 5
}