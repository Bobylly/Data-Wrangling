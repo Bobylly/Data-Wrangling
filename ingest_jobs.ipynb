{
 "cells": [
  {
   "attachments": {},
   "cell_type": "markdown",
   "metadata": {},
   "source": [
    "### Ingest data"
   ]
  },
  {
   "attachments": {},
   "cell_type": "markdown",
   "metadata": {},
   "source": [
    "##### set path and import files"
   ]
  },
  {
   "cell_type": "code",
   "execution_count": 8,
   "metadata": {},
   "outputs": [],
   "source": [
    "import numpy as np\n",
    "import pandas as pd\n",
    "import json\n",
    "import os"
   ]
  },
  {
   "cell_type": "code",
   "execution_count": 9,
   "metadata": {},
   "outputs": [
    {
     "name": "stdout",
     "output_type": "stream",
     "text": [
      "20221202-16.json\n",
      "20221205-17.json\n"
     ]
    }
   ],
   "source": [
    "path_dir = './_reports/experiment_jobs/'\n",
    "for files in os.listdir(path_dir):\n",
    "    print(files)"
   ]
  },
  {
   "cell_type": "code",
   "execution_count": 10,
   "metadata": {},
   "outputs": [],
   "source": [
    "Full_length_jobs_df = pd.DataFrame()\n",
    "for files in os.listdir(path_dir):\n",
    "    Dataframe = pd.read_json(path_dir+files, lines=True)\n",
    "    Full_length_jobs_df = pd.concat([Full_length_jobs_df,Dataframe], ignore_index=True)"
   ]
  },
  {
   "attachments": {},
   "cell_type": "markdown",
   "metadata": {},
   "source": [
    "#### clean unnecesary columns before uploading to bigquery"
   ]
  },
  {
   "cell_type": "code",
   "execution_count": 11,
   "metadata": {},
   "outputs": [],
   "source": [
    "clean_df = Full_length_jobs_df.drop([\n",
    "    'live_budget_p',\n",
    "    'leverage',\n",
    "    'data_source',\n",
    "    'broker',\n",
    "    'action',\n",
    "    'worst_order',\n",
    "    'best_order',\n",
    "    'weekly_trades_count_score',\n",
    "    'avg_position_candle_duration'], axis=1)\n",
    "    "
   ]
  },
  {
   "attachments": {},
   "cell_type": "markdown",
   "metadata": {},
   "source": [
    "##### double check, especially for params, experiment"
   ]
  },
  {
   "cell_type": "code",
   "execution_count": null,
   "metadata": {},
   "outputs": [],
   "source": [
    "clean_df.loc[:2].sort_values(by=['end_budget'],ascending=False)"
   ]
  },
  {
   "cell_type": "code",
   "execution_count": null,
   "metadata": {},
   "outputs": [],
   "source": [
    "params__from_cleaned_df = clean_df['params']\n",
    "for i in params__from_cleaned_df.loc[0:1]:\n",
    "    display(i)"
   ]
  },
  {
   "cell_type": "code",
   "execution_count": null,
   "metadata": {},
   "outputs": [],
   "source": [
    "display(\n",
    "    clean_df['params'][1], \n",
    "    clean_df['experiment'][1]\n",
    "    )"
   ]
  },
  {
   "cell_type": "code",
   "execution_count": null,
   "metadata": {},
   "outputs": [],
   "source": []
  }
 ],
 "metadata": {
  "kernelspec": {
   "display_name": "Python 3",
   "language": "python",
   "name": "python3"
  },
  "language_info": {
   "codemirror_mode": {
    "name": "ipython",
    "version": 3
   },
   "file_extension": ".py",
   "mimetype": "text/x-python",
   "name": "python",
   "nbconvert_exporter": "python",
   "pygments_lexer": "ipython3",
   "version": "3.10.6"
  },
  "orig_nbformat": 4,
  "vscode": {
   "interpreter": {
    "hash": "48ee2bf33b2352c788f912dcbd443677a6d486fb07c682736af629314ae144f2"
   }
  }
 },
 "nbformat": 4,
 "nbformat_minor": 2
}
